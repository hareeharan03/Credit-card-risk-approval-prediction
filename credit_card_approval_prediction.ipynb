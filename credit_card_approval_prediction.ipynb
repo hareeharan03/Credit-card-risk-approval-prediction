{
  "nbformat": 4,
  "nbformat_minor": 5,
  "metadata": {
    "kernelspec": {
      "display_name": "Python 3",
      "language": "python",
      "name": "python3"
    },
    "language_info": {
      "codemirror_mode": {
        "name": "ipython",
        "version": 3
      },
      "file_extension": ".py",
      "mimetype": "text/x-python",
      "name": "python",
      "nbconvert_exporter": "python",
      "pygments_lexer": "ipython3",
      "version": "3.7.10"
    },
    "papermill": {
      "default_parameters": {},
      "duration": 130.067901,
      "end_time": "2021-06-05T10:46:31.671426",
      "environment_variables": {},
      "exception": null,
      "input_path": "__notebook__.ipynb",
      "output_path": "__notebook__.ipynb",
      "parameters": {},
      "start_time": "2021-06-05T10:44:21.603525",
      "version": "2.3.3"
    },
    "colab": {
      "name": "credit-card-approval-prediction.ipynb",
      "provenance": [],
      "collapsed_sections": [],
      "include_colab_link": true
    }
  },
  "cells": [
    {
      "cell_type": "markdown",
      "metadata": {
        "id": "view-in-github",
        "colab_type": "text"
      },
      "source": [
        "<a href=\"https://colab.research.google.com/github/hareeharan03/Credit-card-risk-approval-prediction/blob/main/credit_card_approval_prediction.ipynb\" target=\"_parent\"><img src=\"https://colab.research.google.com/assets/colab-badge.svg\" alt=\"Open In Colab\"/></a>"
      ]
    },
    {
      "cell_type": "markdown",
      "metadata": {
        "papermill": {
          "duration": 0.102283,
          "end_time": "2021-06-05T10:44:29.194057",
          "exception": false,
          "start_time": "2021-06-05T10:44:29.091774",
          "status": "completed"
        },
        "tags": [],
        "id": "through-giant"
      },
      "source": [
        "Dataset downloaded from Kaggle - https://www.kaggle.com/rikdifos/credit-card-approval-prediction"
      ],
      "id": "through-giant"
    },
    {
      "cell_type": "markdown",
      "metadata": {
        "papermill": {
          "duration": 0.100971,
          "end_time": "2021-06-05T10:44:29.396838",
          "exception": false,
          "start_time": "2021-06-05T10:44:29.295867",
          "status": "completed"
        },
        "tags": [],
        "id": "romantic-chicago"
      },
      "source": [
        "### Content & Explanation\n",
        "\n",
        "###### File - Application Record.csv\n",
        "\n",
        "|Feature name|Explanation|\n",
        "|:--|:--|\n",
        "|ID|Client number|\n",
        "|CODE_GENDER|Gender|\n",
        "|FLAG_OWN_CAR|Is there a car|\n",
        "|FLAG_OWN_REALTY|Is there a property|\n",
        "|CNT_CHILDREN|Number of children|\n",
        "|AMT_INCOME_TOTAL|Annual income|\n",
        "|NAME_INCOME_TYPE|Income category|\n",
        "|NAME_EDUCATION_TYPE|Education level|\n",
        "|NAME_FAMILY_STATUS|Marital status|\n",
        "|NAME_HOUSING_TYPE|Way of living|\n",
        "|DAYS_BIRTH|Birthday|\n",
        "|DAYS_EMPLOYED|Start date of employment|\n",
        "|FLAG_MOBIL|Is there a mobile phone|\n",
        "|FLAG_WORK_PHONE|Is there a work phone|\n",
        "|FLAG_PHONE|Is there a phone|\n",
        "|FLAG_EMAIL|Is there an email|\n",
        "|OCCUPATION_TYPE|Occupation|\n",
        "|CNT_FAM_MEMBERS|Family size|\n",
        "\n",
        "\n",
        "* Note -                                                                                                                       \n",
        "DAYS_BIRTH ---> Count backwards from current day (0), -1 means yesterday                                                       \n",
        "DAYS_EMPLOYED ---> Count backwards from current day(0). If positive, it means the person currently unemployed."
      ],
      "id": "romantic-chicago"
    },
    {
      "cell_type": "markdown",
      "metadata": {
        "papermill": {
          "duration": 0.101221,
          "end_time": "2021-06-05T10:44:29.598162",
          "exception": false,
          "start_time": "2021-06-05T10:44:29.496941",
          "status": "completed"
        },
        "tags": [],
        "id": "together-oxide"
      },
      "source": [
        "###### File - Credit Record.csv\n",
        "\n",
        "|Feature name|Explanation|\n",
        "|:--|:--|\n",
        "|ID|Client number|\n",
        "|MONTHS_BALANCE|Record month|\n",
        "|STATUS|Status|\n",
        "\n",
        "* Note -                                                                                                                       \n",
        "MONTHS_BALANCE ---> The month of the extracted data is the starting point, backwards, 0 is the current month, -1 is the previous month, and so on.                                                                                                        \n",
        "STATUS ---> 0: 1-29 days past due 1: 30-59 days past due 2: 60-89 days overdue 3: 90-119 days overdue 4: 120-149 days overdue 5: Overdue or bad debts, write-offs for more than 150 days C: paid off that month X: No loan for the month"
      ],
      "id": "together-oxide"
    },
    {
      "cell_type": "markdown",
      "metadata": {
        "papermill": {
          "duration": 0.100131,
          "end_time": "2021-06-05T10:44:29.798621",
          "exception": false,
          "start_time": "2021-06-05T10:44:29.698490",
          "status": "completed"
        },
        "tags": [],
        "id": "statistical-literature"
      },
      "source": [
        "### Loading Data"
      ],
      "id": "statistical-literature"
    },
    {
      "cell_type": "code",
      "metadata": {
        "execution": {
          "iopub.execute_input": "2021-06-05T10:44:30.013742Z",
          "iopub.status.busy": "2021-06-05T10:44:30.013108Z",
          "iopub.status.idle": "2021-06-05T10:44:30.797620Z",
          "shell.execute_reply": "2021-06-05T10:44:30.796837Z",
          "shell.execute_reply.started": "2021-06-05T10:38:47.030080Z"
        },
        "papermill": {
          "duration": 0.898014,
          "end_time": "2021-06-05T10:44:30.797791",
          "exception": false,
          "start_time": "2021-06-05T10:44:29.899777",
          "status": "completed"
        },
        "tags": [],
        "id": "geological-pressing"
      },
      "source": [
        "import numpy as np\n",
        "import pandas as pd\n",
        "import matplotlib.pyplot as plt\n",
        "%matplotlib inline\n",
        "import seaborn as sns\n",
        "\n",
        "import warnings\n",
        "warnings.filterwarnings('ignore')"
      ],
      "id": "geological-pressing",
      "execution_count": null,
      "outputs": []
    },
    {
      "cell_type": "code",
      "metadata": {
        "execution": {
          "iopub.execute_input": "2021-06-05T10:44:31.014774Z",
          "iopub.status.busy": "2021-06-05T10:44:31.013955Z",
          "iopub.status.idle": "2021-06-05T10:44:31.029350Z",
          "shell.execute_reply": "2021-06-05T10:44:31.029867Z",
          "shell.execute_reply.started": "2021-06-05T10:38:47.371502Z"
        },
        "papermill": {
          "duration": 0.131368,
          "end_time": "2021-06-05T10:44:31.030050",
          "exception": false,
          "start_time": "2021-06-05T10:44:30.898682",
          "status": "completed"
        },
        "tags": [],
        "id": "pediatric-trust"
      },
      "source": [
        "# To load Dataset from Kaggle Input\n",
        "import os\n",
        "for dirname, _, filenames in os.walk('/kaggle/input'):\n",
        "    for filename in filenames:\n",
        "        print(os.path.join(dirname, filename))"
      ],
      "id": "pediatric-trust",
      "execution_count": null,
      "outputs": []
    },
    {
      "cell_type": "code",
      "metadata": {
        "colab": {
          "base_uri": "https://localhost:8080/"
        },
        "id": "ZbYoyivoQF0a",
        "outputId": "acfa0557-dfdf-4881-9bae-89ce366a0771"
      },
      "source": [
        "from google.colab import drive\n",
        "drive.mount('/content/drive')"
      ],
      "id": "ZbYoyivoQF0a",
      "execution_count": null,
      "outputs": [
        {
          "output_type": "stream",
          "name": "stdout",
          "text": [
            "Drive already mounted at /content/drive; to attempt to forcibly remount, call drive.mount(\"/content/drive\", force_remount=True).\n"
          ]
        }
      ]
    },
    {
      "cell_type": "code",
      "metadata": {
        "execution": {
          "iopub.execute_input": "2021-06-05T10:44:31.252816Z",
          "iopub.status.busy": "2021-06-05T10:44:31.252074Z",
          "iopub.status.idle": "2021-06-05T10:44:32.747929Z",
          "shell.execute_reply": "2021-06-05T10:44:32.747355Z",
          "shell.execute_reply.started": "2021-06-05T10:38:47.383276Z"
        },
        "papermill": {
          "duration": 1.601623,
          "end_time": "2021-06-05T10:44:32.748070",
          "exception": false,
          "start_time": "2021-06-05T10:44:31.146447",
          "status": "completed"
        },
        "tags": [],
        "id": "trying-receipt"
      },
      "source": [
        "app_df = pd.read_csv(\"/content/drive/MyDrive/dis/application_record.csv\")"
      ],
      "id": "trying-receipt",
      "execution_count": null,
      "outputs": []
    },
    {
      "cell_type": "code",
      "metadata": {
        "execution": {
          "iopub.execute_input": "2021-06-05T10:44:32.963554Z",
          "iopub.status.busy": "2021-06-05T10:44:32.962653Z",
          "iopub.status.idle": "2021-06-05T10:44:32.966916Z",
          "shell.execute_reply": "2021-06-05T10:44:32.966433Z",
          "shell.execute_reply.started": "2021-06-05T10:38:48.426063Z"
        },
        "papermill": {
          "duration": 0.114448,
          "end_time": "2021-06-05T10:44:32.967178",
          "exception": false,
          "start_time": "2021-06-05T10:44:32.852730",
          "status": "completed"
        },
        "tags": [],
        "colab": {
          "base_uri": "https://localhost:8080/"
        },
        "id": "bacterial-tactics",
        "outputId": "522e0b03-1a75-48b0-ad46-60c17ec0bd37"
      },
      "source": [
        "app_df.shape"
      ],
      "id": "bacterial-tactics",
      "execution_count": null,
      "outputs": [
        {
          "output_type": "execute_result",
          "data": {
            "text/plain": [
              "(438557, 18)"
            ]
          },
          "metadata": {},
          "execution_count": 5
        }
      ]
    },
    {
      "cell_type": "code",
      "metadata": {
        "execution": {
          "iopub.execute_input": "2021-06-05T10:44:33.186421Z",
          "iopub.status.busy": "2021-06-05T10:44:33.185262Z",
          "iopub.status.idle": "2021-06-05T10:44:33.521923Z",
          "shell.execute_reply": "2021-06-05T10:44:33.521391Z",
          "shell.execute_reply.started": "2021-06-05T10:38:48.433817Z"
        },
        "papermill": {
          "duration": 0.447676,
          "end_time": "2021-06-05T10:44:33.522075",
          "exception": false,
          "start_time": "2021-06-05T10:44:33.074399",
          "status": "completed"
        },
        "tags": [],
        "colab": {
          "base_uri": "https://localhost:8080/"
        },
        "id": "proper-southeast",
        "outputId": "8ceac183-00ed-409d-cdb1-f9ab8a162c6d"
      },
      "source": [
        "app_df.info()"
      ],
      "id": "proper-southeast",
      "execution_count": null,
      "outputs": [
        {
          "output_type": "stream",
          "name": "stdout",
          "text": [
            "<class 'pandas.core.frame.DataFrame'>\n",
            "RangeIndex: 438557 entries, 0 to 438556\n",
            "Data columns (total 18 columns):\n",
            " #   Column               Non-Null Count   Dtype  \n",
            "---  ------               --------------   -----  \n",
            " 0   ID                   438557 non-null  int64  \n",
            " 1   CODE_GENDER          438557 non-null  object \n",
            " 2   FLAG_OWN_CAR         438557 non-null  object \n",
            " 3   FLAG_OWN_REALTY      438557 non-null  object \n",
            " 4   CNT_CHILDREN         438557 non-null  int64  \n",
            " 5   AMT_INCOME_TOTAL     438557 non-null  float64\n",
            " 6   NAME_INCOME_TYPE     438557 non-null  object \n",
            " 7   NAME_EDUCATION_TYPE  438557 non-null  object \n",
            " 8   NAME_FAMILY_STATUS   438557 non-null  object \n",
            " 9   NAME_HOUSING_TYPE    438557 non-null  object \n",
            " 10  DAYS_BIRTH           438557 non-null  int64  \n",
            " 11  DAYS_EMPLOYED        438557 non-null  int64  \n",
            " 12  FLAG_MOBIL           438557 non-null  int64  \n",
            " 13  FLAG_WORK_PHONE      438557 non-null  int64  \n",
            " 14  FLAG_PHONE           438557 non-null  int64  \n",
            " 15  FLAG_EMAIL           438557 non-null  int64  \n",
            " 16  OCCUPATION_TYPE      304354 non-null  object \n",
            " 17  CNT_FAM_MEMBERS      438557 non-null  float64\n",
            "dtypes: float64(2), int64(8), object(8)\n",
            "memory usage: 60.2+ MB\n"
          ]
        }
      ]
    },
    {
      "cell_type": "code",
      "metadata": {
        "execution": {
          "iopub.execute_input": "2021-06-05T10:44:33.740200Z",
          "iopub.status.busy": "2021-06-05T10:44:33.739576Z",
          "iopub.status.idle": "2021-06-05T10:44:34.184979Z",
          "shell.execute_reply": "2021-06-05T10:44:34.185806Z",
          "shell.execute_reply.started": "2021-06-05T10:38:48.770064Z"
        },
        "papermill": {
          "duration": 0.556501,
          "end_time": "2021-06-05T10:44:34.185988",
          "exception": false,
          "start_time": "2021-06-05T10:44:33.629487",
          "status": "completed"
        },
        "tags": [],
        "colab": {
          "base_uri": "https://localhost:8080/",
          "height": 206
        },
        "id": "spare-combination",
        "outputId": "7b9bf03b-cf45-4cec-ea92-00b37077e18a"
      },
      "source": [
        "credit_df = pd.read_csv(\"/content/drive/MyDrive/dis/credit_record.csv\") \n",
        "credit_df.head()"
      ],
      "id": "spare-combination",
      "execution_count": null,
      "outputs": [
        {
          "output_type": "execute_result",
          "data": {
            "text/html": [
              "\n",
              "  <div id=\"df-801b745a-f9ac-42c9-9c0b-b83233a1ce66\">\n",
              "    <div class=\"colab-df-container\">\n",
              "      <div>\n",
              "<style scoped>\n",
              "    .dataframe tbody tr th:only-of-type {\n",
              "        vertical-align: middle;\n",
              "    }\n",
              "\n",
              "    .dataframe tbody tr th {\n",
              "        vertical-align: top;\n",
              "    }\n",
              "\n",
              "    .dataframe thead th {\n",
              "        text-align: right;\n",
              "    }\n",
              "</style>\n",
              "<table border=\"1\" class=\"dataframe\">\n",
              "  <thead>\n",
              "    <tr style=\"text-align: right;\">\n",
              "      <th></th>\n",
              "      <th>ID</th>\n",
              "      <th>MONTHS_BALANCE</th>\n",
              "      <th>STATUS</th>\n",
              "    </tr>\n",
              "  </thead>\n",
              "  <tbody>\n",
              "    <tr>\n",
              "      <th>0</th>\n",
              "      <td>5001711</td>\n",
              "      <td>0</td>\n",
              "      <td>X</td>\n",
              "    </tr>\n",
              "    <tr>\n",
              "      <th>1</th>\n",
              "      <td>5001711</td>\n",
              "      <td>-1</td>\n",
              "      <td>0</td>\n",
              "    </tr>\n",
              "    <tr>\n",
              "      <th>2</th>\n",
              "      <td>5001711</td>\n",
              "      <td>-2</td>\n",
              "      <td>0</td>\n",
              "    </tr>\n",
              "    <tr>\n",
              "      <th>3</th>\n",
              "      <td>5001711</td>\n",
              "      <td>-3</td>\n",
              "      <td>0</td>\n",
              "    </tr>\n",
              "    <tr>\n",
              "      <th>4</th>\n",
              "      <td>5001712</td>\n",
              "      <td>0</td>\n",
              "      <td>C</td>\n",
              "    </tr>\n",
              "  </tbody>\n",
              "</table>\n",
              "</div>\n",
              "      <button class=\"colab-df-convert\" onclick=\"convertToInteractive('df-801b745a-f9ac-42c9-9c0b-b83233a1ce66')\"\n",
              "              title=\"Convert this dataframe to an interactive table.\"\n",
              "              style=\"display:none;\">\n",
              "        \n",
              "  <svg xmlns=\"http://www.w3.org/2000/svg\" height=\"24px\"viewBox=\"0 0 24 24\"\n",
              "       width=\"24px\">\n",
              "    <path d=\"M0 0h24v24H0V0z\" fill=\"none\"/>\n",
              "    <path d=\"M18.56 5.44l.94 2.06.94-2.06 2.06-.94-2.06-.94-.94-2.06-.94 2.06-2.06.94zm-11 1L8.5 8.5l.94-2.06 2.06-.94-2.06-.94L8.5 2.5l-.94 2.06-2.06.94zm10 10l.94 2.06.94-2.06 2.06-.94-2.06-.94-.94-2.06-.94 2.06-2.06.94z\"/><path d=\"M17.41 7.96l-1.37-1.37c-.4-.4-.92-.59-1.43-.59-.52 0-1.04.2-1.43.59L10.3 9.45l-7.72 7.72c-.78.78-.78 2.05 0 2.83L4 21.41c.39.39.9.59 1.41.59.51 0 1.02-.2 1.41-.59l7.78-7.78 2.81-2.81c.8-.78.8-2.07 0-2.86zM5.41 20L4 18.59l7.72-7.72 1.47 1.35L5.41 20z\"/>\n",
              "  </svg>\n",
              "      </button>\n",
              "      \n",
              "  <style>\n",
              "    .colab-df-container {\n",
              "      display:flex;\n",
              "      flex-wrap:wrap;\n",
              "      gap: 12px;\n",
              "    }\n",
              "\n",
              "    .colab-df-convert {\n",
              "      background-color: #E8F0FE;\n",
              "      border: none;\n",
              "      border-radius: 50%;\n",
              "      cursor: pointer;\n",
              "      display: none;\n",
              "      fill: #1967D2;\n",
              "      height: 32px;\n",
              "      padding: 0 0 0 0;\n",
              "      width: 32px;\n",
              "    }\n",
              "\n",
              "    .colab-df-convert:hover {\n",
              "      background-color: #E2EBFA;\n",
              "      box-shadow: 0px 1px 2px rgba(60, 64, 67, 0.3), 0px 1px 3px 1px rgba(60, 64, 67, 0.15);\n",
              "      fill: #174EA6;\n",
              "    }\n",
              "\n",
              "    [theme=dark] .colab-df-convert {\n",
              "      background-color: #3B4455;\n",
              "      fill: #D2E3FC;\n",
              "    }\n",
              "\n",
              "    [theme=dark] .colab-df-convert:hover {\n",
              "      background-color: #434B5C;\n",
              "      box-shadow: 0px 1px 3px 1px rgba(0, 0, 0, 0.15);\n",
              "      filter: drop-shadow(0px 1px 2px rgba(0, 0, 0, 0.3));\n",
              "      fill: #FFFFFF;\n",
              "    }\n",
              "  </style>\n",
              "\n",
              "      <script>\n",
              "        const buttonEl =\n",
              "          document.querySelector('#df-801b745a-f9ac-42c9-9c0b-b83233a1ce66 button.colab-df-convert');\n",
              "        buttonEl.style.display =\n",
              "          google.colab.kernel.accessAllowed ? 'block' : 'none';\n",
              "\n",
              "        async function convertToInteractive(key) {\n",
              "          const element = document.querySelector('#df-801b745a-f9ac-42c9-9c0b-b83233a1ce66');\n",
              "          const dataTable =\n",
              "            await google.colab.kernel.invokeFunction('convertToInteractive',\n",
              "                                                     [key], {});\n",
              "          if (!dataTable) return;\n",
              "\n",
              "          const docLinkHtml = 'Like what you see? Visit the ' +\n",
              "            '<a target=\"_blank\" href=https://colab.research.google.com/notebooks/data_table.ipynb>data table notebook</a>'\n",
              "            + ' to learn more about interactive tables.';\n",
              "          element.innerHTML = '';\n",
              "          dataTable['output_type'] = 'display_data';\n",
              "          await google.colab.output.renderOutput(dataTable, element);\n",
              "          const docLink = document.createElement('div');\n",
              "          docLink.innerHTML = docLinkHtml;\n",
              "          element.appendChild(docLink);\n",
              "        }\n",
              "      </script>\n",
              "    </div>\n",
              "  </div>\n",
              "  "
            ],
            "text/plain": [
              "        ID  MONTHS_BALANCE STATUS\n",
              "0  5001711               0      X\n",
              "1  5001711              -1      0\n",
              "2  5001711              -2      0\n",
              "3  5001711              -3      0\n",
              "4  5001712               0      C"
            ]
          },
          "metadata": {},
          "execution_count": 7
        }
      ]
    },
    {
      "cell_type": "code",
      "metadata": {
        "execution": {
          "iopub.execute_input": "2021-06-05T10:44:34.406507Z",
          "iopub.status.busy": "2021-06-05T10:44:34.405644Z",
          "iopub.status.idle": "2021-06-05T10:44:34.408915Z",
          "shell.execute_reply": "2021-06-05T10:44:34.409473Z",
          "shell.execute_reply.started": "2021-06-05T10:38:49.095337Z"
        },
        "papermill": {
          "duration": 0.11706,
          "end_time": "2021-06-05T10:44:34.409636",
          "exception": false,
          "start_time": "2021-06-05T10:44:34.292576",
          "status": "completed"
        },
        "tags": [],
        "colab": {
          "base_uri": "https://localhost:8080/"
        },
        "id": "focal-stone",
        "outputId": "86976f3d-c9fc-4c04-f61e-b964a9694c8b"
      },
      "source": [
        "credit_df.shape"
      ],
      "id": "focal-stone",
      "execution_count": null,
      "outputs": [
        {
          "output_type": "execute_result",
          "data": {
            "text/plain": [
              "(1048575, 3)"
            ]
          },
          "metadata": {},
          "execution_count": 8
        }
      ]
    },
    {
      "cell_type": "code",
      "metadata": {
        "execution": {
          "iopub.execute_input": "2021-06-05T10:44:34.621075Z",
          "iopub.status.busy": "2021-06-05T10:44:34.620183Z",
          "iopub.status.idle": "2021-06-05T10:44:34.728274Z",
          "shell.execute_reply": "2021-06-05T10:44:34.727782Z",
          "shell.execute_reply.started": "2021-06-05T10:38:49.103477Z"
        },
        "papermill": {
          "duration": 0.214607,
          "end_time": "2021-06-05T10:44:34.728427",
          "exception": false,
          "start_time": "2021-06-05T10:44:34.513820",
          "status": "completed"
        },
        "tags": [],
        "colab": {
          "base_uri": "https://localhost:8080/"
        },
        "id": "second-fundamentals",
        "outputId": "3040bc1d-e5f4-4694-9b2e-0d3accb28612"
      },
      "source": [
        "credit_df.info()"
      ],
      "id": "second-fundamentals",
      "execution_count": null,
      "outputs": [
        {
          "output_type": "stream",
          "name": "stdout",
          "text": [
            "<class 'pandas.core.frame.DataFrame'>\n",
            "RangeIndex: 1048575 entries, 0 to 1048574\n",
            "Data columns (total 3 columns):\n",
            " #   Column          Non-Null Count    Dtype \n",
            "---  ------          --------------    ----- \n",
            " 0   ID              1048575 non-null  int64 \n",
            " 1   MONTHS_BALANCE  1048575 non-null  int64 \n",
            " 2   STATUS          1048575 non-null  object\n",
            "dtypes: int64(2), object(1)\n",
            "memory usage: 24.0+ MB\n"
          ]
        }
      ]
    },
    {
      "cell_type": "markdown",
      "metadata": {
        "papermill": {
          "duration": 0.103329,
          "end_time": "2021-06-05T10:44:34.934975",
          "exception": false,
          "start_time": "2021-06-05T10:44:34.831646",
          "status": "completed"
        },
        "tags": [],
        "id": "tight-harrison"
      },
      "source": [
        "### Exploratory Data Analysis (EDA)"
      ],
      "id": "tight-harrison"
    },
    {
      "cell_type": "markdown",
      "metadata": {
        "papermill": {
          "duration": 0.103728,
          "end_time": "2021-06-05T10:44:35.141851",
          "exception": false,
          "start_time": "2021-06-05T10:44:35.038123",
          "status": "completed"
        },
        "tags": [],
        "id": "pleasant-debut"
      },
      "source": [
        "#### On File - Application Record.csv"
      ],
      "id": "pleasant-debut"
    },
    {
      "cell_type": "code",
      "metadata": {
        "execution": {
          "iopub.execute_input": "2021-06-05T10:44:35.369388Z",
          "iopub.status.busy": "2021-06-05T10:44:35.367430Z",
          "iopub.status.idle": "2021-06-05T10:44:35.504486Z",
          "shell.execute_reply": "2021-06-05T10:44:35.503931Z",
          "shell.execute_reply.started": "2021-06-05T10:38:49.222430Z"
        },
        "papermill": {
          "duration": 0.258969,
          "end_time": "2021-06-05T10:44:35.504634",
          "exception": false,
          "start_time": "2021-06-05T10:44:35.245665",
          "status": "completed"
        },
        "tags": [],
        "colab": {
          "base_uri": "https://localhost:8080/",
          "height": 364
        },
        "id": "fifty-breeding",
        "outputId": "853f1e08-f5e3-4870-d4eb-c5792f9ffb78"
      },
      "source": [
        "app_df.describe()"
      ],
      "id": "fifty-breeding",
      "execution_count": null,
      "outputs": [
        {
          "output_type": "execute_result",
          "data": {
            "text/html": [
              "\n",
              "  <div id=\"df-1c28f971-fd75-4866-bf08-41c402cc164a\">\n",
              "    <div class=\"colab-df-container\">\n",
              "      <div>\n",
              "<style scoped>\n",
              "    .dataframe tbody tr th:only-of-type {\n",
              "        vertical-align: middle;\n",
              "    }\n",
              "\n",
              "    .dataframe tbody tr th {\n",
              "        vertical-align: top;\n",
              "    }\n",
              "\n",
              "    .dataframe thead th {\n",
              "        text-align: right;\n",
              "    }\n",
              "</style>\n",
              "<table border=\"1\" class=\"dataframe\">\n",
              "  <thead>\n",
              "    <tr style=\"text-align: right;\">\n",
              "      <th></th>\n",
              "      <th>ID</th>\n",
              "      <th>CNT_CHILDREN</th>\n",
              "      <th>AMT_INCOME_TOTAL</th>\n",
              "      <th>DAYS_BIRTH</th>\n",
              "      <th>DAYS_EMPLOYED</th>\n",
              "      <th>FLAG_MOBIL</th>\n",
              "      <th>FLAG_WORK_PHONE</th>\n",
              "      <th>FLAG_PHONE</th>\n",
              "      <th>FLAG_EMAIL</th>\n",
              "      <th>CNT_FAM_MEMBERS</th>\n",
              "    </tr>\n",
              "  </thead>\n",
              "  <tbody>\n",
              "    <tr>\n",
              "      <th>count</th>\n",
              "      <td>4.385570e+05</td>\n",
              "      <td>438557.000000</td>\n",
              "      <td>4.385570e+05</td>\n",
              "      <td>438557.000000</td>\n",
              "      <td>438557.000000</td>\n",
              "      <td>438557.0</td>\n",
              "      <td>438557.000000</td>\n",
              "      <td>438557.000000</td>\n",
              "      <td>438557.000000</td>\n",
              "      <td>438557.000000</td>\n",
              "    </tr>\n",
              "    <tr>\n",
              "      <th>mean</th>\n",
              "      <td>6.022176e+06</td>\n",
              "      <td>0.427390</td>\n",
              "      <td>1.875243e+05</td>\n",
              "      <td>-15997.904649</td>\n",
              "      <td>60563.675328</td>\n",
              "      <td>1.0</td>\n",
              "      <td>0.206133</td>\n",
              "      <td>0.287771</td>\n",
              "      <td>0.108207</td>\n",
              "      <td>2.194465</td>\n",
              "    </tr>\n",
              "    <tr>\n",
              "      <th>std</th>\n",
              "      <td>5.716370e+05</td>\n",
              "      <td>0.724882</td>\n",
              "      <td>1.100869e+05</td>\n",
              "      <td>4185.030007</td>\n",
              "      <td>138767.799647</td>\n",
              "      <td>0.0</td>\n",
              "      <td>0.404527</td>\n",
              "      <td>0.452724</td>\n",
              "      <td>0.310642</td>\n",
              "      <td>0.897207</td>\n",
              "    </tr>\n",
              "    <tr>\n",
              "      <th>min</th>\n",
              "      <td>5.008804e+06</td>\n",
              "      <td>0.000000</td>\n",
              "      <td>2.610000e+04</td>\n",
              "      <td>-25201.000000</td>\n",
              "      <td>-17531.000000</td>\n",
              "      <td>1.0</td>\n",
              "      <td>0.000000</td>\n",
              "      <td>0.000000</td>\n",
              "      <td>0.000000</td>\n",
              "      <td>1.000000</td>\n",
              "    </tr>\n",
              "    <tr>\n",
              "      <th>25%</th>\n",
              "      <td>5.609375e+06</td>\n",
              "      <td>0.000000</td>\n",
              "      <td>1.215000e+05</td>\n",
              "      <td>-19483.000000</td>\n",
              "      <td>-3103.000000</td>\n",
              "      <td>1.0</td>\n",
              "      <td>0.000000</td>\n",
              "      <td>0.000000</td>\n",
              "      <td>0.000000</td>\n",
              "      <td>2.000000</td>\n",
              "    </tr>\n",
              "    <tr>\n",
              "      <th>50%</th>\n",
              "      <td>6.047745e+06</td>\n",
              "      <td>0.000000</td>\n",
              "      <td>1.607805e+05</td>\n",
              "      <td>-15630.000000</td>\n",
              "      <td>-1467.000000</td>\n",
              "      <td>1.0</td>\n",
              "      <td>0.000000</td>\n",
              "      <td>0.000000</td>\n",
              "      <td>0.000000</td>\n",
              "      <td>2.000000</td>\n",
              "    </tr>\n",
              "    <tr>\n",
              "      <th>75%</th>\n",
              "      <td>6.456971e+06</td>\n",
              "      <td>1.000000</td>\n",
              "      <td>2.250000e+05</td>\n",
              "      <td>-12514.000000</td>\n",
              "      <td>-371.000000</td>\n",
              "      <td>1.0</td>\n",
              "      <td>0.000000</td>\n",
              "      <td>1.000000</td>\n",
              "      <td>0.000000</td>\n",
              "      <td>3.000000</td>\n",
              "    </tr>\n",
              "    <tr>\n",
              "      <th>max</th>\n",
              "      <td>7.999952e+06</td>\n",
              "      <td>19.000000</td>\n",
              "      <td>6.750000e+06</td>\n",
              "      <td>-7489.000000</td>\n",
              "      <td>365243.000000</td>\n",
              "      <td>1.0</td>\n",
              "      <td>1.000000</td>\n",
              "      <td>1.000000</td>\n",
              "      <td>1.000000</td>\n",
              "      <td>20.000000</td>\n",
              "    </tr>\n",
              "  </tbody>\n",
              "</table>\n",
              "</div>\n",
              "      <button class=\"colab-df-convert\" onclick=\"convertToInteractive('df-1c28f971-fd75-4866-bf08-41c402cc164a')\"\n",
              "              title=\"Convert this dataframe to an interactive table.\"\n",
              "              style=\"display:none;\">\n",
              "        \n",
              "  <svg xmlns=\"http://www.w3.org/2000/svg\" height=\"24px\"viewBox=\"0 0 24 24\"\n",
              "       width=\"24px\">\n",
              "    <path d=\"M0 0h24v24H0V0z\" fill=\"none\"/>\n",
              "    <path d=\"M18.56 5.44l.94 2.06.94-2.06 2.06-.94-2.06-.94-.94-2.06-.94 2.06-2.06.94zm-11 1L8.5 8.5l.94-2.06 2.06-.94-2.06-.94L8.5 2.5l-.94 2.06-2.06.94zm10 10l.94 2.06.94-2.06 2.06-.94-2.06-.94-.94-2.06-.94 2.06-2.06.94z\"/><path d=\"M17.41 7.96l-1.37-1.37c-.4-.4-.92-.59-1.43-.59-.52 0-1.04.2-1.43.59L10.3 9.45l-7.72 7.72c-.78.78-.78 2.05 0 2.83L4 21.41c.39.39.9.59 1.41.59.51 0 1.02-.2 1.41-.59l7.78-7.78 2.81-2.81c.8-.78.8-2.07 0-2.86zM5.41 20L4 18.59l7.72-7.72 1.47 1.35L5.41 20z\"/>\n",
              "  </svg>\n",
              "      </button>\n",
              "      \n",
              "  <style>\n",
              "    .colab-df-container {\n",
              "      display:flex;\n",
              "      flex-wrap:wrap;\n",
              "      gap: 12px;\n",
              "    }\n",
              "\n",
              "    .colab-df-convert {\n",
              "      background-color: #E8F0FE;\n",
              "      border: none;\n",
              "      border-radius: 50%;\n",
              "      cursor: pointer;\n",
              "      display: none;\n",
              "      fill: #1967D2;\n",
              "      height: 32px;\n",
              "      padding: 0 0 0 0;\n",
              "      width: 32px;\n",
              "    }\n",
              "\n",
              "    .colab-df-convert:hover {\n",
              "      background-color: #E2EBFA;\n",
              "      box-shadow: 0px 1px 2px rgba(60, 64, 67, 0.3), 0px 1px 3px 1px rgba(60, 64, 67, 0.15);\n",
              "      fill: #174EA6;\n",
              "    }\n",
              "\n",
              "    [theme=dark] .colab-df-convert {\n",
              "      background-color: #3B4455;\n",
              "      fill: #D2E3FC;\n",
              "    }\n",
              "\n",
              "    [theme=dark] .colab-df-convert:hover {\n",
              "      background-color: #434B5C;\n",
              "      box-shadow: 0px 1px 3px 1px rgba(0, 0, 0, 0.15);\n",
              "      filter: drop-shadow(0px 1px 2px rgba(0, 0, 0, 0.3));\n",
              "      fill: #FFFFFF;\n",
              "    }\n",
              "  </style>\n",
              "\n",
              "      <script>\n",
              "        const buttonEl =\n",
              "          document.querySelector('#df-1c28f971-fd75-4866-bf08-41c402cc164a button.colab-df-convert');\n",
              "        buttonEl.style.display =\n",
              "          google.colab.kernel.accessAllowed ? 'block' : 'none';\n",
              "\n",
              "        async function convertToInteractive(key) {\n",
              "          const element = document.querySelector('#df-1c28f971-fd75-4866-bf08-41c402cc164a');\n",
              "          const dataTable =\n",
              "            await google.colab.kernel.invokeFunction('convertToInteractive',\n",
              "                                                     [key], {});\n",
              "          if (!dataTable) return;\n",
              "\n",
              "          const docLinkHtml = 'Like what you see? Visit the ' +\n",
              "            '<a target=\"_blank\" href=https://colab.research.google.com/notebooks/data_table.ipynb>data table notebook</a>'\n",
              "            + ' to learn more about interactive tables.';\n",
              "          element.innerHTML = '';\n",
              "          dataTable['output_type'] = 'display_data';\n",
              "          await google.colab.output.renderOutput(dataTable, element);\n",
              "          const docLink = document.createElement('div');\n",
              "          docLink.innerHTML = docLinkHtml;\n",
              "          element.appendChild(docLink);\n",
              "        }\n",
              "      </script>\n",
              "    </div>\n",
              "  </div>\n",
              "  "
            ],
            "text/plain": [
              "                 ID   CNT_CHILDREN  ...     FLAG_EMAIL  CNT_FAM_MEMBERS\n",
              "count  4.385570e+05  438557.000000  ...  438557.000000    438557.000000\n",
              "mean   6.022176e+06       0.427390  ...       0.108207         2.194465\n",
              "std    5.716370e+05       0.724882  ...       0.310642         0.897207\n",
              "min    5.008804e+06       0.000000  ...       0.000000         1.000000\n",
              "25%    5.609375e+06       0.000000  ...       0.000000         2.000000\n",
              "50%    6.047745e+06       0.000000  ...       0.000000         2.000000\n",
              "75%    6.456971e+06       1.000000  ...       0.000000         3.000000\n",
              "max    7.999952e+06      19.000000  ...       1.000000        20.000000\n",
              "\n",
              "[8 rows x 10 columns]"
            ]
          },
          "metadata": {},
          "execution_count": 10
        }
      ]
    },
    {
      "cell_type": "code",
      "metadata": {
        "execution": {
          "iopub.execute_input": "2021-06-05T10:44:35.726096Z",
          "iopub.status.busy": "2021-06-05T10:44:35.725453Z",
          "iopub.status.idle": "2021-06-05T10:44:36.046101Z",
          "shell.execute_reply": "2021-06-05T10:44:36.046592Z",
          "shell.execute_reply.started": "2021-06-05T10:38:49.374103Z"
        },
        "papermill": {
          "duration": 0.43455,
          "end_time": "2021-06-05T10:44:36.046769",
          "exception": false,
          "start_time": "2021-06-05T10:44:35.612219",
          "status": "completed"
        },
        "tags": [],
        "colab": {
          "base_uri": "https://localhost:8080/"
        },
        "id": "toxic-edward",
        "outputId": "23970bfd-44d8-4166-ab31-92a83d21d01b"
      },
      "source": [
        "app_df.isnull().sum()"
      ],
      "id": "toxic-edward",
      "execution_count": null,
      "outputs": [
        {
          "output_type": "execute_result",
          "data": {
            "text/plain": [
              "ID                          0\n",
              "CODE_GENDER                 0\n",
              "FLAG_OWN_CAR                0\n",
              "FLAG_OWN_REALTY             0\n",
              "CNT_CHILDREN                0\n",
              "AMT_INCOME_TOTAL            0\n",
              "NAME_INCOME_TYPE            0\n",
              "NAME_EDUCATION_TYPE         0\n",
              "NAME_FAMILY_STATUS          0\n",
              "NAME_HOUSING_TYPE           0\n",
              "DAYS_BIRTH                  0\n",
              "DAYS_EMPLOYED               0\n",
              "FLAG_MOBIL                  0\n",
              "FLAG_WORK_PHONE             0\n",
              "FLAG_PHONE                  0\n",
              "FLAG_EMAIL                  0\n",
              "OCCUPATION_TYPE        134203\n",
              "CNT_FAM_MEMBERS             0\n",
              "dtype: int64"
            ]
          },
          "metadata": {},
          "execution_count": 11
        }
      ]
    },
    {
      "cell_type": "code",
      "metadata": {
        "execution": {
          "iopub.execute_input": "2021-06-05T10:44:36.265977Z",
          "iopub.status.busy": "2021-06-05T10:44:36.265044Z",
          "iopub.status.idle": "2021-06-05T10:44:36.309371Z",
          "shell.execute_reply": "2021-06-05T10:44:36.309863Z",
          "shell.execute_reply.started": "2021-06-05T10:38:49.690667Z"
        },
        "papermill": {
          "duration": 0.15429,
          "end_time": "2021-06-05T10:44:36.310039",
          "exception": false,
          "start_time": "2021-06-05T10:44:36.155749",
          "status": "completed"
        },
        "tags": [],
        "id": "coupled-avenue"
      },
      "source": [
        "# dropping occupation type which has many null values\n",
        "app_df.drop('OCCUPATION_TYPE', axis=1, inplace=True)"
      ],
      "id": "coupled-avenue",
      "execution_count": null,
      "outputs": []
    },
    {
      "cell_type": "code",
      "metadata": {
        "execution": {
          "iopub.execute_input": "2021-06-05T10:44:36.524592Z",
          "iopub.status.busy": "2021-06-05T10:44:36.523619Z",
          "iopub.status.idle": "2021-06-05T10:44:36.580404Z",
          "shell.execute_reply": "2021-06-05T10:44:36.579796Z",
          "shell.execute_reply.started": "2021-06-05T10:38:49.737402Z"
        },
        "papermill": {
          "duration": 0.16439,
          "end_time": "2021-06-05T10:44:36.580573",
          "exception": false,
          "start_time": "2021-06-05T10:44:36.416183",
          "status": "completed"
        },
        "tags": [],
        "colab": {
          "base_uri": "https://localhost:8080/"
        },
        "id": "wireless-electric",
        "outputId": "be69175d-aeb6-44f3-bdcf-3f28eb1f432b"
      },
      "source": [
        "# Checking duplicates in 'ID' column\n",
        "len(app_df['ID']) - len(app_df['ID'].unique())"
      ],
      "id": "wireless-electric",
      "execution_count": null,
      "outputs": [
        {
          "output_type": "execute_result",
          "data": {
            "text/plain": [
              "47"
            ]
          },
          "metadata": {},
          "execution_count": 13
        }
      ]
    },
    {
      "cell_type": "code",
      "metadata": {
        "execution": {
          "iopub.execute_input": "2021-06-05T10:44:36.800694Z",
          "iopub.status.busy": "2021-06-05T10:44:36.800019Z",
          "iopub.status.idle": "2021-06-05T10:44:36.924876Z",
          "shell.execute_reply": "2021-06-05T10:44:36.924348Z",
          "shell.execute_reply.started": "2021-06-05T10:38:49.792343Z"
        },
        "papermill": {
          "duration": 0.237665,
          "end_time": "2021-06-05T10:44:36.925024",
          "exception": false,
          "start_time": "2021-06-05T10:44:36.687359",
          "status": "completed"
        },
        "tags": [],
        "id": "round-nicholas"
      },
      "source": [
        "# Dropping duplicate entries from ID column\n",
        "app_df = app_df.drop_duplicates('ID', keep='last') "
      ],
      "id": "round-nicholas",
      "execution_count": null,
      "outputs": []
    },
    {
      "cell_type": "code",
      "metadata": {
        "execution": {
          "iopub.execute_input": "2021-06-05T10:44:37.146180Z",
          "iopub.status.busy": "2021-06-05T10:44:37.145247Z",
          "iopub.status.idle": "2021-06-05T10:44:37.149587Z",
          "shell.execute_reply": "2021-06-05T10:44:37.148880Z",
          "shell.execute_reply.started": "2021-06-05T10:38:49.915051Z"
        },
        "papermill": {
          "duration": 0.116683,
          "end_time": "2021-06-05T10:44:37.149722",
          "exception": false,
          "start_time": "2021-06-05T10:44:37.033039",
          "status": "completed"
        },
        "tags": [],
        "colab": {
          "base_uri": "https://localhost:8080/"
        },
        "id": "decreased-fiction",
        "outputId": "c370b2c3-5f50-4212-f024-7687852259ed"
      },
      "source": [
        "# Checking Non-Numerical Columns\n",
        "cat_columns = app_df.columns[(app_df.dtypes =='object').values].tolist()\n",
        "cat_columns"
      ],
      "id": "decreased-fiction",
      "execution_count": null,
      "outputs": [
        {
          "output_type": "execute_result",
          "data": {
            "text/plain": [
              "['CODE_GENDER',\n",
              " 'FLAG_OWN_CAR',\n",
              " 'FLAG_OWN_REALTY',\n",
              " 'NAME_INCOME_TYPE',\n",
              " 'NAME_EDUCATION_TYPE',\n",
              " 'NAME_FAMILY_STATUS',\n",
              " 'NAME_HOUSING_TYPE']"
            ]
          },
          "metadata": {},
          "execution_count": 15
        }
      ]
    },
    {
      "cell_type": "code",
      "metadata": {
        "execution": {
          "iopub.execute_input": "2021-06-05T10:44:37.379148Z",
          "iopub.status.busy": "2021-06-05T10:44:37.378260Z",
          "iopub.status.idle": "2021-06-05T10:44:37.381884Z",
          "shell.execute_reply": "2021-06-05T10:44:37.382385Z",
          "shell.execute_reply.started": "2021-06-05T10:38:49.924366Z"
        },
        "papermill": {
          "duration": 0.120833,
          "end_time": "2021-06-05T10:44:37.382537",
          "exception": false,
          "start_time": "2021-06-05T10:44:37.261704",
          "status": "completed"
        },
        "tags": [],
        "colab": {
          "base_uri": "https://localhost:8080/"
        },
        "id": "aerial-jackson",
        "outputId": "7add9dd4-cab8-41bf-f2f1-f79a69274715"
      },
      "source": [
        "# Checking Numerical Columns\n",
        "app_df.columns[(app_df.dtypes !='object').values].tolist()"
      ],
      "id": "aerial-jackson",
      "execution_count": null,
      "outputs": [
        {
          "output_type": "execute_result",
          "data": {
            "text/plain": [
              "['ID',\n",
              " 'CNT_CHILDREN',\n",
              " 'AMT_INCOME_TOTAL',\n",
              " 'DAYS_BIRTH',\n",
              " 'DAYS_EMPLOYED',\n",
              " 'FLAG_MOBIL',\n",
              " 'FLAG_WORK_PHONE',\n",
              " 'FLAG_PHONE',\n",
              " 'FLAG_EMAIL',\n",
              " 'CNT_FAM_MEMBERS']"
            ]
          },
          "metadata": {},
          "execution_count": 16
        }
      ]
    },
    {
      "cell_type": "code",
      "metadata": {
        "execution": {
          "iopub.execute_input": "2021-06-05T10:44:37.740750Z",
          "iopub.status.busy": "2021-06-05T10:44:37.690476Z",
          "iopub.status.idle": "2021-06-05T10:44:38.264946Z",
          "shell.execute_reply": "2021-06-05T10:44:38.264185Z",
          "shell.execute_reply.started": "2021-06-05T10:38:49.938235Z"
        },
        "papermill": {
          "duration": 0.776592,
          "end_time": "2021-06-05T10:44:38.265107",
          "exception": false,
          "start_time": "2021-06-05T10:44:37.488515",
          "status": "completed"
        },
        "tags": [],
        "colab": {
          "base_uri": "https://localhost:8080/"
        },
        "id": "unlikely-husband",
        "outputId": "f93d04dd-eec6-495a-8104-3d24cb2d171a"
      },
      "source": [
        "# Checking unique values from Categorical Columns\n",
        "\n",
        "for i in app_df.columns[(app_df.dtypes =='object').values].tolist():\n",
        "    print(i,'\\n')\n",
        "    print(app_df[i].value_counts())\n",
        "    print('-----------------------------------------------')"
      ],
      "id": "unlikely-husband",
      "execution_count": null,
      "outputs": [
        {
          "output_type": "stream",
          "name": "stdout",
          "text": [
            "CODE_GENDER \n",
            "\n",
            "F    294412\n",
            "M    144098\n",
            "Name: CODE_GENDER, dtype: int64\n",
            "-----------------------------------------------\n",
            "FLAG_OWN_CAR \n",
            "\n",
            "N    275428\n",
            "Y    163082\n",
            "Name: FLAG_OWN_CAR, dtype: int64\n",
            "-----------------------------------------------\n",
            "FLAG_OWN_REALTY \n",
            "\n",
            "Y    304043\n",
            "N    134467\n",
            "Name: FLAG_OWN_REALTY, dtype: int64\n",
            "-----------------------------------------------\n",
            "NAME_INCOME_TYPE \n",
            "\n",
            "Working                 226087\n",
            "Commercial associate    100739\n",
            "Pensioner                75483\n",
            "State servant            36184\n",
            "Student                     17\n",
            "Name: NAME_INCOME_TYPE, dtype: int64\n",
            "-----------------------------------------------\n",
            "NAME_EDUCATION_TYPE \n",
            "\n",
            "Secondary / secondary special    301789\n",
            "Higher education                 117509\n",
            "Incomplete higher                 14849\n",
            "Lower secondary                    4051\n",
            "Academic degree                     312\n",
            "Name: NAME_EDUCATION_TYPE, dtype: int64\n",
            "-----------------------------------------------\n",
            "NAME_FAMILY_STATUS \n",
            "\n",
            "Married                 299798\n",
            "Single / not married     55268\n",
            "Civil marriage           36524\n",
            "Separated                27249\n",
            "Widow                    19671\n",
            "Name: NAME_FAMILY_STATUS, dtype: int64\n",
            "-----------------------------------------------\n",
            "NAME_HOUSING_TYPE \n",
            "\n",
            "House / apartment      393788\n",
            "With parents            19074\n",
            "Municipal apartment     14213\n",
            "Rented apartment         5974\n",
            "Office apartment         3922\n",
            "Co-op apartment          1539\n",
            "Name: NAME_HOUSING_TYPE, dtype: int64\n",
            "-----------------------------------------------\n"
          ]
        }
      ]
    },
    {
      "cell_type": "code",
      "metadata": {
        "execution": {
          "iopub.execute_input": "2021-06-05T10:44:38.532767Z",
          "iopub.status.busy": "2021-06-05T10:44:38.532107Z",
          "iopub.status.idle": "2021-06-05T10:44:38.535071Z",
          "shell.execute_reply": "2021-06-05T10:44:38.535571Z",
          "shell.execute_reply.started": "2021-06-05T10:38:50.607839Z"
        },
        "papermill": {
          "duration": 0.163229,
          "end_time": "2021-06-05T10:44:38.535747",
          "exception": false,
          "start_time": "2021-06-05T10:44:38.372518",
          "status": "completed"
        },
        "tags": [],
        "id": "alive-miller"
      },
      "source": [
        "# Checking unique values from Numerical Columns"
      ],
      "id": "alive-miller",
      "execution_count": null,
      "outputs": []
    },
    {
      "cell_type": "code",
      "metadata": {
        "execution": {
          "iopub.execute_input": "2021-06-05T10:44:38.753100Z",
          "iopub.status.busy": "2021-06-05T10:44:38.752468Z",
          "iopub.status.idle": "2021-06-05T10:44:38.763578Z",
          "shell.execute_reply": "2021-06-05T10:44:38.762996Z",
          "shell.execute_reply.started": "2021-06-05T10:38:50.614078Z"
        },
        "papermill": {
          "duration": 0.12121,
          "end_time": "2021-06-05T10:44:38.763735",
          "exception": false,
          "start_time": "2021-06-05T10:44:38.642525",
          "status": "completed"
        },
        "tags": [],
        "colab": {
          "base_uri": "https://localhost:8080/"
        },
        "id": "interested-rings",
        "outputId": "995f4897-c07d-41f5-8672-2ad6d14257b3"
      },
      "source": [
        "app_df['CNT_CHILDREN'].value_counts()"
      ],
      "id": "interested-rings",
      "execution_count": null,
      "outputs": [
        {
          "output_type": "execute_result",
          "data": {
            "text/plain": [
              "0     304038\n",
              "1      88518\n",
              "2      39879\n",
              "3       5430\n",
              "4        486\n",
              "5        133\n",
              "7          9\n",
              "9          5\n",
              "12         4\n",
              "6          4\n",
              "14         3\n",
              "19         1\n",
              "Name: CNT_CHILDREN, dtype: int64"
            ]
          },
          "metadata": {},
          "execution_count": 19
        }
      ]
    },
    {
      "cell_type": "code",
      "metadata": {
        "execution": {
          "iopub.execute_input": "2021-06-05T10:44:38.986653Z",
          "iopub.status.busy": "2021-06-05T10:44:38.985836Z",
          "iopub.status.idle": "2021-06-05T10:44:38.996835Z",
          "shell.execute_reply": "2021-06-05T10:44:38.995948Z",
          "shell.execute_reply.started": "2021-06-05T10:38:50.639473Z"
        },
        "papermill": {
          "duration": 0.124774,
          "end_time": "2021-06-05T10:44:38.997027",
          "exception": false,
          "start_time": "2021-06-05T10:44:38.872253",
          "status": "completed"
        },
        "tags": [],
        "colab": {
          "base_uri": "https://localhost:8080/"
        },
        "id": "described-scientist",
        "outputId": "53236a50-6b41-4db6-b586-d41512b4f6f1"
      },
      "source": [
        "# Checking Min , Max values from 'DAYS_BIRTH' column\n",
        "print('Min DAYS_BIRTH :', app_df['DAYS_BIRTH'].min(),'\\nMax DAYS_BIRTH :', app_df['DAYS_BIRTH'].max())"
      ],
      "id": "described-scientist",
      "execution_count": null,
      "outputs": [
        {
          "output_type": "stream",
          "name": "stdout",
          "text": [
            "Min DAYS_BIRTH : -25201 \n",
            "Max DAYS_BIRTH : -7489\n"
          ]
        }
      ]
    },
    {
      "cell_type": "code",
      "metadata": {
        "execution": {
          "iopub.execute_input": "2021-06-05T10:44:39.219168Z",
          "iopub.status.busy": "2021-06-05T10:44:39.218179Z",
          "iopub.status.idle": "2021-06-05T10:44:39.246128Z",
          "shell.execute_reply": "2021-06-05T10:44:39.246653Z",
          "shell.execute_reply.started": "2021-06-05T10:38:50.650883Z"
        },
        "papermill": {
          "duration": 0.139678,
          "end_time": "2021-06-05T10:44:39.246830",
          "exception": false,
          "start_time": "2021-06-05T10:44:39.107152",
          "status": "completed"
        },
        "tags": [],
        "id": "voluntary-japanese"
      },
      "source": [
        "# Converting 'DAYS_BIRTH' values from Day to Years\n",
        "app_df['DAYS_BIRTH'] = round(app_df['DAYS_BIRTH']/-365,0)\n",
        "app_df.rename(columns={'DAYS_BIRTH':'AGE_YEARS'}, inplace=True)"
      ],
      "id": "voluntary-japanese",
      "execution_count": null,
      "outputs": []
    },
    {
      "cell_type": "code",
      "metadata": {
        "execution": {
          "iopub.execute_input": "2021-06-05T10:44:39.467226Z",
          "iopub.status.busy": "2021-06-05T10:44:39.466263Z",
          "iopub.status.idle": "2021-06-05T10:44:39.492476Z",
          "shell.execute_reply": "2021-06-05T10:44:39.493013Z",
          "shell.execute_reply.started": "2021-06-05T10:38:50.684846Z"
        },
        "papermill": {
          "duration": 0.138456,
          "end_time": "2021-06-05T10:44:39.493183",
          "exception": false,
          "start_time": "2021-06-05T10:44:39.354727",
          "status": "completed"
        },
        "tags": [],
        "colab": {
          "base_uri": "https://localhost:8080/"
        },
        "id": "painted-lingerie",
        "outputId": "02512392-d761-41b5-c78b-c58468752282"
      },
      "source": [
        "# Checking unique values greater than 0\n",
        "app_df[app_df['DAYS_EMPLOYED']>0]['DAYS_EMPLOYED'].unique()"
      ],
      "id": "painted-lingerie",
      "execution_count": null,
      "outputs": [
        {
          "output_type": "execute_result",
          "data": {
            "text/plain": [
              "array([365243])"
            ]
          },
          "metadata": {},
          "execution_count": 22
        }
      ]
    },
    {
      "cell_type": "code",
      "metadata": {
        "execution": {
          "iopub.execute_input": "2021-06-05T10:44:39.714233Z",
          "iopub.status.busy": "2021-06-05T10:44:39.713578Z",
          "iopub.status.idle": "2021-06-05T10:44:39.718332Z",
          "shell.execute_reply": "2021-06-05T10:44:39.717684Z",
          "shell.execute_reply.started": "2021-06-05T10:38:50.720340Z"
        },
        "papermill": {
          "duration": 0.117521,
          "end_time": "2021-06-05T10:44:39.718470",
          "exception": false,
          "start_time": "2021-06-05T10:44:39.600949",
          "status": "completed"
        },
        "tags": [],
        "id": "activated-peninsula"
      },
      "source": [
        "# As mentioned in document, if 'DAYS_EMPLOYED' is positive no, it means person currently unemployed, hence replacing it with 0\n",
        "app_df['DAYS_EMPLOYED'].replace(365243, 0, inplace=True)"
      ],
      "id": "activated-peninsula",
      "execution_count": null,
      "outputs": []
    },
    {
      "cell_type": "code",
      "metadata": {
        "execution": {
          "iopub.execute_input": "2021-06-05T10:44:39.940618Z",
          "iopub.status.busy": "2021-06-05T10:44:39.939918Z",
          "iopub.status.idle": "2021-06-05T10:44:39.951774Z",
          "shell.execute_reply": "2021-06-05T10:44:39.951211Z",
          "shell.execute_reply.started": "2021-06-05T10:38:50.737664Z"
        },
        "papermill": {
          "duration": 0.125161,
          "end_time": "2021-06-05T10:44:39.951927",
          "exception": false,
          "start_time": "2021-06-05T10:44:39.826766",
          "status": "completed"
        },
        "tags": [],
        "id": "secure-apartment"
      },
      "source": [
        "# Converting 'DAYS_EMPLOYED' values from Day to Years\n",
        "app_df['DAYS_EMPLOYED'] = abs(round(app_df['DAYS_EMPLOYED']/-365,0))\n",
        "app_df.rename(columns={'DAYS_EMPLOYED':'YEARS_EMPLOYED'}, inplace=True)   "
      ],
      "id": "secure-apartment",
      "execution_count": null,
      "outputs": []
    },
    {
      "cell_type": "code",
      "metadata": {
        "execution": {
          "iopub.execute_input": "2021-06-05T10:44:40.173882Z",
          "iopub.status.busy": "2021-06-05T10:44:40.173128Z",
          "iopub.status.idle": "2021-06-05T10:44:40.181947Z",
          "shell.execute_reply": "2021-06-05T10:44:40.182539Z",
          "shell.execute_reply.started": "2021-06-05T10:38:50.754056Z"
        },
        "papermill": {
          "duration": 0.122662,
          "end_time": "2021-06-05T10:44:40.182727",
          "exception": false,
          "start_time": "2021-06-05T10:44:40.060065",
          "status": "completed"
        },
        "tags": [],
        "colab": {
          "base_uri": "https://localhost:8080/"
        },
        "id": "informal-contents",
        "outputId": "345cd452-8c15-4242-ca5c-8f4986f17dd0"
      },
      "source": [
        "app_df['FLAG_MOBIL'].value_counts()"
      ],
      "id": "informal-contents",
      "execution_count": null,
      "outputs": [
        {
          "output_type": "execute_result",
          "data": {
            "text/plain": [
              "1    438510\n",
              "Name: FLAG_MOBIL, dtype: int64"
            ]
          },
          "metadata": {},
          "execution_count": 25
        }
      ]
    },
    {
      "cell_type": "code",
      "metadata": {
        "execution": {
          "iopub.execute_input": "2021-06-05T10:44:40.402079Z",
          "iopub.status.busy": "2021-06-05T10:44:40.401454Z",
          "iopub.status.idle": "2021-06-05T10:44:40.451974Z",
          "shell.execute_reply": "2021-06-05T10:44:40.452492Z",
          "shell.execute_reply.started": "2021-06-05T10:38:50.772353Z"
        },
        "papermill": {
          "duration": 0.161693,
          "end_time": "2021-06-05T10:44:40.452681",
          "exception": false,
          "start_time": "2021-06-05T10:44:40.290988",
          "status": "completed"
        },
        "tags": [],
        "id": "posted-provincial"
      },
      "source": [
        "# As all the values in column are 1, hence dropping column\n",
        "app_df.drop('FLAG_MOBIL', axis=1, inplace=True)"
      ],
      "id": "posted-provincial",
      "execution_count": null,
      "outputs": []
    },
    {
      "cell_type": "code",
      "metadata": {
        "execution": {
          "iopub.execute_input": "2021-06-05T10:44:40.676078Z",
          "iopub.status.busy": "2021-06-05T10:44:40.675347Z",
          "iopub.status.idle": "2021-06-05T10:44:40.684385Z",
          "shell.execute_reply": "2021-06-05T10:44:40.683886Z",
          "shell.execute_reply.started": "2021-06-05T10:38:50.823392Z"
        },
        "papermill": {
          "duration": 0.122752,
          "end_time": "2021-06-05T10:44:40.684523",
          "exception": false,
          "start_time": "2021-06-05T10:44:40.561771",
          "status": "completed"
        },
        "tags": [],
        "colab": {
          "base_uri": "https://localhost:8080/"
        },
        "id": "bridal-spring",
        "outputId": "47207e76-52dc-420d-ed62-8189ff926f79"
      },
      "source": [
        "app_df['FLAG_WORK_PHONE'].value_counts()"
      ],
      "id": "bridal-spring",
      "execution_count": null,
      "outputs": [
        {
          "output_type": "execute_result",
          "data": {
            "text/plain": [
              "0    348118\n",
              "1     90392\n",
              "Name: FLAG_WORK_PHONE, dtype: int64"
            ]
          },
          "metadata": {},
          "execution_count": 27
        }
      ]
    },
    {
      "cell_type": "code",
      "metadata": {
        "execution": {
          "iopub.execute_input": "2021-06-05T10:44:40.909738Z",
          "iopub.status.busy": "2021-06-05T10:44:40.908941Z",
          "iopub.status.idle": "2021-06-05T10:44:40.939624Z",
          "shell.execute_reply": "2021-06-05T10:44:40.938952Z",
          "shell.execute_reply.started": "2021-06-05T10:38:50.841398Z"
        },
        "papermill": {
          "duration": 0.146853,
          "end_time": "2021-06-05T10:44:40.939811",
          "exception": false,
          "start_time": "2021-06-05T10:44:40.792958",
          "status": "completed"
        },
        "tags": [],
        "id": "careful-george"
      },
      "source": [
        "# This column only contains 0 & 1 values for Mobile no submitted, hence dropping column\n",
        "app_df.drop('FLAG_WORK_PHONE', axis=1, inplace=True)"
      ],
      "id": "careful-george",
      "execution_count": null,
      "outputs": []
    },
    {
      "cell_type": "code",
      "metadata": {
        "execution": {
          "iopub.execute_input": "2021-06-05T10:44:41.165629Z",
          "iopub.status.busy": "2021-06-05T10:44:41.164935Z",
          "iopub.status.idle": "2021-06-05T10:44:41.174555Z",
          "shell.execute_reply": "2021-06-05T10:44:41.173933Z",
          "shell.execute_reply.started": "2021-06-05T10:38:50.880497Z"
        },
        "papermill": {
          "duration": 0.122683,
          "end_time": "2021-06-05T10:44:41.174710",
          "exception": false,
          "start_time": "2021-06-05T10:44:41.052027",
          "status": "completed"
        },
        "tags": [],
        "colab": {
          "base_uri": "https://localhost:8080/"
        },
        "id": "direct-temperature",
        "outputId": "e8731763-b956-4800-ab79-992e627d5b6b"
      },
      "source": [
        "app_df['FLAG_PHONE'].value_counts()"
      ],
      "id": "direct-temperature",
      "execution_count": null,
      "outputs": [
        {
          "output_type": "execute_result",
          "data": {
            "text/plain": [
              "0    312323\n",
              "1    126187\n",
              "Name: FLAG_PHONE, dtype: int64"
            ]
          },
          "metadata": {},
          "execution_count": 29
        }
      ]
    },
    {
      "cell_type": "code",
      "metadata": {
        "execution": {
          "iopub.execute_input": "2021-06-05T10:44:41.401184Z",
          "iopub.status.busy": "2021-06-05T10:44:41.400212Z",
          "iopub.status.idle": "2021-06-05T10:44:41.435176Z",
          "shell.execute_reply": "2021-06-05T10:44:41.435679Z",
          "shell.execute_reply.started": "2021-06-05T10:38:50.892411Z"
        },
        "papermill": {
          "duration": 0.147414,
          "end_time": "2021-06-05T10:44:41.435871",
          "exception": false,
          "start_time": "2021-06-05T10:44:41.288457",
          "status": "completed"
        },
        "tags": [],
        "id": "democratic-transparency"
      },
      "source": [
        "# This column only contains 0 & 1 values for Phone no submitted, hence dropping column\n",
        "app_df.drop('FLAG_PHONE', axis=1, inplace=True)"
      ],
      "id": "democratic-transparency",
      "execution_count": null,
      "outputs": []
    },
    {
      "cell_type": "code",
      "metadata": {
        "execution": {
          "iopub.execute_input": "2021-06-05T10:44:41.658166Z",
          "iopub.status.busy": "2021-06-05T10:44:41.657206Z",
          "iopub.status.idle": "2021-06-05T10:44:41.667882Z",
          "shell.execute_reply": "2021-06-05T10:44:41.668348Z",
          "shell.execute_reply.started": "2021-06-05T10:38:50.931007Z"
        },
        "papermill": {
          "duration": 0.123395,
          "end_time": "2021-06-05T10:44:41.668524",
          "exception": false,
          "start_time": "2021-06-05T10:44:41.545129",
          "status": "completed"
        },
        "tags": [],
        "colab": {
          "base_uri": "https://localhost:8080/"
        },
        "id": "infectious-polls",
        "outputId": "129d5742-3f13-4e69-f221-be05d0d40cad"
      },
      "source": [
        "app_df['FLAG_EMAIL'].value_counts()"
      ],
      "id": "infectious-polls",
      "execution_count": null,
      "outputs": [
        {
          "output_type": "execute_result",
          "data": {
            "text/plain": [
              "0    391062\n",
              "1     47448\n",
              "Name: FLAG_EMAIL, dtype: int64"
            ]
          },
          "metadata": {},
          "execution_count": 31
        }
      ]
    },
    {
      "cell_type": "code",
      "metadata": {
        "execution": {
          "iopub.execute_input": "2021-06-05T10:44:41.891204Z",
          "iopub.status.busy": "2021-06-05T10:44:41.890125Z",
          "iopub.status.idle": "2021-06-05T10:44:41.924912Z",
          "shell.execute_reply": "2021-06-05T10:44:41.925424Z",
          "shell.execute_reply.started": "2021-06-05T10:38:50.943944Z"
        },
        "papermill": {
          "duration": 0.148163,
          "end_time": "2021-06-05T10:44:41.925621",
          "exception": false,
          "start_time": "2021-06-05T10:44:41.777458",
          "status": "completed"
        },
        "tags": [],
        "id": "champion-baseline"
      },
      "source": [
        "# This column only contains 0 & 1 values for Email submitted, hence dropping column\n",
        "app_df.drop('FLAG_EMAIL', axis=1, inplace=True)"
      ],
      "id": "champion-baseline",
      "execution_count": null,
      "outputs": []
    },
    {
      "cell_type": "code",
      "metadata": {
        "execution": {
          "iopub.execute_input": "2021-06-05T10:44:42.180055Z",
          "iopub.status.busy": "2021-06-05T10:44:42.179106Z",
          "iopub.status.idle": "2021-06-05T10:44:42.193454Z",
          "shell.execute_reply": "2021-06-05T10:44:42.193950Z",
          "shell.execute_reply.started": "2021-06-05T10:38:50.980146Z"
        },
        "papermill": {
          "duration": 0.135857,
          "end_time": "2021-06-05T10:44:42.194120",
          "exception": false,
          "start_time": "2021-06-05T10:44:42.058263",
          "status": "completed"
        },
        "tags": [],
        "colab": {
          "base_uri": "https://localhost:8080/"
        },
        "id": "coral-morocco",
        "outputId": "916a4df4-dbd2-482e-8ac4-80a6b5bb9db6"
      },
      "source": [
        "app_df['CNT_FAM_MEMBERS'].value_counts()"
      ],
      "id": "coral-morocco",
      "execution_count": null,
      "outputs": [
        {
          "output_type": "execute_result",
          "data": {
            "text/plain": [
              "2.0     233867\n",
              "1.0      84483\n",
              "3.0      77119\n",
              "4.0      37351\n",
              "5.0       5081\n",
              "6.0        459\n",
              "7.0        124\n",
              "9.0          9\n",
              "11.0         5\n",
              "8.0          4\n",
              "14.0         4\n",
              "15.0         3\n",
              "20.0         1\n",
              "Name: CNT_FAM_MEMBERS, dtype: int64"
            ]
          },
          "metadata": {},
          "execution_count": 33
        }
      ]
    },
    {
      "cell_type": "code",
      "metadata": {
        "execution": {
          "iopub.execute_input": "2021-06-05T10:44:42.420199Z",
          "iopub.status.busy": "2021-06-05T10:44:42.419253Z",
          "iopub.status.idle": "2021-06-05T10:44:42.438944Z",
          "shell.execute_reply": "2021-06-05T10:44:42.439412Z",
          "shell.execute_reply.started": "2021-06-05T10:38:50.997754Z"
        },
        "papermill": {
          "duration": 0.134621,
          "end_time": "2021-06-05T10:44:42.439589",
          "exception": false,
          "start_time": "2021-06-05T10:44:42.304968",
          "status": "completed"
        },
        "tags": [],
        "colab": {
          "base_uri": "https://localhost:8080/",
          "height": 322
        },
        "id": "exact-collect",
        "outputId": "f5e21a74-1d8e-4bc7-a351-94e23a4b173a"
      },
      "source": [
        "app_df.head()"
      ],
      "id": "exact-collect",
      "execution_count": null,
      "outputs": [
        {
          "output_type": "execute_result",
          "data": {
            "text/html": [
              "\n",
              "  <div id=\"df-3a8a2687-f2de-4fd2-b522-5d52347ab630\">\n",
              "    <div class=\"colab-df-container\">\n",
              "      <div>\n",
              "<style scoped>\n",
              "    .dataframe tbody tr th:only-of-type {\n",
              "        vertical-align: middle;\n",
              "    }\n",
              "\n",
              "    .dataframe tbody tr th {\n",
              "        vertical-align: top;\n",
              "    }\n",
              "\n",
              "    .dataframe thead th {\n",
              "        text-align: right;\n",
              "    }\n",
              "</style>\n",
              "<table border=\"1\" class=\"dataframe\">\n",
              "  <thead>\n",
              "    <tr style=\"text-align: right;\">\n",
              "      <th></th>\n",
              "      <th>ID</th>\n",
              "      <th>CODE_GENDER</th>\n",
              "      <th>FLAG_OWN_CAR</th>\n",
              "      <th>FLAG_OWN_REALTY</th>\n",
              "      <th>CNT_CHILDREN</th>\n",
              "      <th>AMT_INCOME_TOTAL</th>\n",
              "      <th>NAME_INCOME_TYPE</th>\n",
              "      <th>NAME_EDUCATION_TYPE</th>\n",
              "      <th>NAME_FAMILY_STATUS</th>\n",
              "      <th>NAME_HOUSING_TYPE</th>\n",
              "      <th>AGE_YEARS</th>\n",
              "      <th>YEARS_EMPLOYED</th>\n",
              "      <th>CNT_FAM_MEMBERS</th>\n",
              "    </tr>\n",
              "  </thead>\n",
              "  <tbody>\n",
              "    <tr>\n",
              "      <th>0</th>\n",
              "      <td>5008804</td>\n",
              "      <td>M</td>\n",
              "      <td>Y</td>\n",
              "      <td>Y</td>\n",
              "      <td>0</td>\n",
              "      <td>427500.0</td>\n",
              "      <td>Working</td>\n",
              "      <td>Higher education</td>\n",
              "      <td>Civil marriage</td>\n",
              "      <td>Rented apartment</td>\n",
              "      <td>33.0</td>\n",
              "      <td>12.0</td>\n",
              "      <td>2.0</td>\n",
              "    </tr>\n",
              "    <tr>\n",
              "      <th>1</th>\n",
              "      <td>5008805</td>\n",
              "      <td>M</td>\n",
              "      <td>Y</td>\n",
              "      <td>Y</td>\n",
              "      <td>0</td>\n",
              "      <td>427500.0</td>\n",
              "      <td>Working</td>\n",
              "      <td>Higher education</td>\n",
              "      <td>Civil marriage</td>\n",
              "      <td>Rented apartment</td>\n",
              "      <td>33.0</td>\n",
              "      <td>12.0</td>\n",
              "      <td>2.0</td>\n",
              "    </tr>\n",
              "    <tr>\n",
              "      <th>2</th>\n",
              "      <td>5008806</td>\n",
              "      <td>M</td>\n",
              "      <td>Y</td>\n",
              "      <td>Y</td>\n",
              "      <td>0</td>\n",
              "      <td>112500.0</td>\n",
              "      <td>Working</td>\n",
              "      <td>Secondary / secondary special</td>\n",
              "      <td>Married</td>\n",
              "      <td>House / apartment</td>\n",
              "      <td>59.0</td>\n",
              "      <td>3.0</td>\n",
              "      <td>2.0</td>\n",
              "    </tr>\n",
              "    <tr>\n",
              "      <th>3</th>\n",
              "      <td>5008808</td>\n",
              "      <td>F</td>\n",
              "      <td>N</td>\n",
              "      <td>Y</td>\n",
              "      <td>0</td>\n",
              "      <td>270000.0</td>\n",
              "      <td>Commercial associate</td>\n",
              "      <td>Secondary / secondary special</td>\n",
              "      <td>Single / not married</td>\n",
              "      <td>House / apartment</td>\n",
              "      <td>52.0</td>\n",
              "      <td>8.0</td>\n",
              "      <td>1.0</td>\n",
              "    </tr>\n",
              "    <tr>\n",
              "      <th>4</th>\n",
              "      <td>5008809</td>\n",
              "      <td>F</td>\n",
              "      <td>N</td>\n",
              "      <td>Y</td>\n",
              "      <td>0</td>\n",
              "      <td>270000.0</td>\n",
              "      <td>Commercial associate</td>\n",
              "      <td>Secondary / secondary special</td>\n",
              "      <td>Single / not married</td>\n",
              "      <td>House / apartment</td>\n",
              "      <td>52.0</td>\n",
              "      <td>8.0</td>\n",
              "      <td>1.0</td>\n",
              "    </tr>\n",
              "  </tbody>\n",
              "</table>\n",
              "</div>\n",
              "      <button class=\"colab-df-convert\" onclick=\"convertToInteractive('df-3a8a2687-f2de-4fd2-b522-5d52347ab630')\"\n",
              "              title=\"Convert this dataframe to an interactive table.\"\n",
              "              style=\"display:none;\">\n",
              "        \n",
              "  <svg xmlns=\"http://www.w3.org/2000/svg\" height=\"24px\"viewBox=\"0 0 24 24\"\n",
              "       width=\"24px\">\n",
              "    <path d=\"M0 0h24v24H0V0z\" fill=\"none\"/>\n",
              "    <path d=\"M18.56 5.44l.94 2.06.94-2.06 2.06-.94-2.06-.94-.94-2.06-.94 2.06-2.06.94zm-11 1L8.5 8.5l.94-2.06 2.06-.94-2.06-.94L8.5 2.5l-.94 2.06-2.06.94zm10 10l.94 2.06.94-2.06 2.06-.94-2.06-.94-.94-2.06-.94 2.06-2.06.94z\"/><path d=\"M17.41 7.96l-1.37-1.37c-.4-.4-.92-.59-1.43-.59-.52 0-1.04.2-1.43.59L10.3 9.45l-7.72 7.72c-.78.78-.78 2.05 0 2.83L4 21.41c.39.39.9.59 1.41.59.51 0 1.02-.2 1.41-.59l7.78-7.78 2.81-2.81c.8-.78.8-2.07 0-2.86zM5.41 20L4 18.59l7.72-7.72 1.47 1.35L5.41 20z\"/>\n",
              "  </svg>\n",
              "      </button>\n",
              "      \n",
              "  <style>\n",
              "    .colab-df-container {\n",
              "      display:flex;\n",
              "      flex-wrap:wrap;\n",
              "      gap: 12px;\n",
              "    }\n",
              "\n",
              "    .colab-df-convert {\n",
              "      background-color: #E8F0FE;\n",
              "      border: none;\n",
              "      border-radius: 50%;\n",
              "      cursor: pointer;\n",
              "      display: none;\n",
              "      fill: #1967D2;\n",
              "      height: 32px;\n",
              "      padding: 0 0 0 0;\n",
              "      width: 32px;\n",
              "    }\n",
              "\n",
              "    .colab-df-convert:hover {\n",
              "      background-color: #E2EBFA;\n",
              "      box-shadow: 0px 1px 2px rgba(60, 64, 67, 0.3), 0px 1px 3px 1px rgba(60, 64, 67, 0.15);\n",
              "      fill: #174EA6;\n",
              "    }\n",
              "\n",
              "    [theme=dark] .colab-df-convert {\n",
              "      background-color: #3B4455;\n",
              "      fill: #D2E3FC;\n",
              "    }\n",
              "\n",
              "    [theme=dark] .colab-df-convert:hover {\n",
              "      background-color: #434B5C;\n",
              "      box-shadow: 0px 1px 3px 1px rgba(0, 0, 0, 0.15);\n",
              "      filter: drop-shadow(0px 1px 2px rgba(0, 0, 0, 0.3));\n",
              "      fill: #FFFFFF;\n",
              "    }\n",
              "  </style>\n",
              "\n",
              "      <script>\n",
              "        const buttonEl =\n",
              "          document.querySelector('#df-3a8a2687-f2de-4fd2-b522-5d52347ab630 button.colab-df-convert');\n",
              "        buttonEl.style.display =\n",
              "          google.colab.kernel.accessAllowed ? 'block' : 'none';\n",
              "\n",
              "        async function convertToInteractive(key) {\n",
              "          const element = document.querySelector('#df-3a8a2687-f2de-4fd2-b522-5d52347ab630');\n",
              "          const dataTable =\n",
              "            await google.colab.kernel.invokeFunction('convertToInteractive',\n",
              "                                                     [key], {});\n",
              "          if (!dataTable) return;\n",
              "\n",
              "          const docLinkHtml = 'Like what you see? Visit the ' +\n",
              "            '<a target=\"_blank\" href=https://colab.research.google.com/notebooks/data_table.ipynb>data table notebook</a>'\n",
              "            + ' to learn more about interactive tables.';\n",
              "          element.innerHTML = '';\n",
              "          dataTable['output_type'] = 'display_data';\n",
              "          await google.colab.output.renderOutput(dataTable, element);\n",
              "          const docLink = document.createElement('div');\n",
              "          docLink.innerHTML = docLinkHtml;\n",
              "          element.appendChild(docLink);\n",
              "        }\n",
              "      </script>\n",
              "    </div>\n",
              "  </div>\n",
              "  "
            ],
            "text/plain": [
              "        ID CODE_GENDER FLAG_OWN_CAR  ... AGE_YEARS  YEARS_EMPLOYED  CNT_FAM_MEMBERS\n",
              "0  5008804           M            Y  ...      33.0            12.0              2.0\n",
              "1  5008805           M            Y  ...      33.0            12.0              2.0\n",
              "2  5008806           M            Y  ...      59.0             3.0              2.0\n",
              "3  5008808           F            N  ...      52.0             8.0              1.0\n",
              "4  5008809           F            N  ...      52.0             8.0              1.0\n",
              "\n",
              "[5 rows x 13 columns]"
            ]
          },
          "metadata": {},
          "execution_count": 34
        }
      ]
    },
    {
      "cell_type": "markdown",
      "metadata": {
        "papermill": {
          "duration": 0.110391,
          "end_time": "2021-06-05T10:44:42.660825",
          "exception": false,
          "start_time": "2021-06-05T10:44:42.550434",
          "status": "completed"
        },
        "tags": [],
        "id": "unexpected-dietary"
      },
      "source": [
        "# Visualization"
      ],
      "id": "unexpected-dietary"
    },
    {
      "cell_type": "code",
      "metadata": {
        "execution": {
          "iopub.execute_input": "2021-06-05T10:44:42.885676Z",
          "iopub.status.busy": "2021-06-05T10:44:42.884652Z",
          "iopub.status.idle": "2021-06-05T10:44:43.056470Z",
          "shell.execute_reply": "2021-06-05T10:44:43.055824Z",
          "shell.execute_reply.started": "2021-06-05T10:38:51.019885Z"
        },
        "papermill": {
          "duration": 0.285202,
          "end_time": "2021-06-05T10:44:43.056608",
          "exception": false,
          "start_time": "2021-06-05T10:44:42.771406",
          "status": "completed"
        },
        "tags": [],
        "colab": {
          "base_uri": "https://localhost:8080/",
          "height": 297
        },
        "id": "broadband-profile",
        "outputId": "efc0dfc3-a5b7-4a08-e358-be920a42111f"
      },
      "source": [
        "#create plot to detect outliers\n",
        "sns.boxplot(app_df['CNT_CHILDREN'])"
      ],
      "id": "broadband-profile",
      "execution_count": null,
      "outputs": [
        {
          "output_type": "execute_result",
          "data": {
            "text/plain": [
              "<matplotlib.axes._subplots.AxesSubplot at 0x7f5620c58750>"
            ]
          },
          "metadata": {},
          "execution_count": 35
        },
        {
          "output_type": "display_data",
          "data": {
            "image/png": "[encoded data removed]",
            "text/plain": [
              "<Figure size 432x288 with 1 Axes>"
            ]
          },
          "metadata": {
            "needs_background": "light"
          }
        }
      ]
    },
    {
      "cell_type": "code",
      "metadata": {
        "execution": {
          "iopub.execute_input": "2021-06-05T10:44:43.285648Z",
          "iopub.status.busy": "2021-06-05T10:44:43.284888Z",
          "iopub.status.idle": "2021-06-05T10:44:43.453742Z",
          "shell.execute_reply": "2021-06-05T10:44:43.453075Z",
          "shell.execute_reply.started": "2021-06-05T10:38:51.181628Z"
        },
        "papermill": {
          "duration": 0.284927,
          "end_time": "2021-06-05T10:44:43.453879",
          "exception": false,
          "start_time": "2021-06-05T10:44:43.168952",
          "status": "completed"
        },
        "tags": [],
        "colab": {
          "base_uri": "https://localhost:8080/",
          "height": 297
        },
        "id": "handed-vanilla",
        "outputId": "737e937b-e051-492a-ad7a-59751df11eef"
      },
      "source": [
        "sns.boxplot(app_df['AMT_INCOME_TOTAL'])"
      ],
      "id": "handed-vanilla",
      "execution_count": null,
      "outputs": [
        {
          "output_type": "execute_result",
          "data": {
            "text/plain": [
              "<matplotlib.axes._subplots.AxesSubplot at 0x7f562012dbd0>"
            ]
          },
          "metadata": {},
          "execution_count": 36
        },
        {
          "output_type": "display_data",
          "data": {
            "image/png": "[encoded data removed]",
            "text/plain": [
              "<Figure size 432x288 with 1 Axes>"
            ]
          },
          "metadata": {
            "needs_background": "light"
          }
        }
      ]
    },
    {
      "cell_type": "code",
      "metadata": {
        "execution": {
          "iopub.execute_input": "2021-06-05T10:44:43.686257Z",
          "iopub.status.busy": "2021-06-05T10:44:43.685589Z",
          "iopub.status.idle": "2021-06-05T10:44:43.806117Z",
          "shell.execute_reply": "2021-06-05T10:44:43.805469Z",
          "shell.execute_reply.started": "2021-06-05T10:38:51.351679Z"
        },
        "papermill": {
          "duration": 0.239267,
          "end_time": "2021-06-05T10:44:43.806255",
          "exception": false,
          "start_time": "2021-06-05T10:44:43.566988",
          "status": "completed"
        },
        "tags": [],
        "colab": {
          "base_uri": "https://localhost:8080/",
          "height": 297
        },
        "id": "equipped-startup",
        "outputId": "73f0b30b-3c66-431a-e487-a9c139fe62cb"
      },
      "source": [
        "sns.boxplot(app_df['AGE_YEARS'])"
      ],
      "id": "equipped-startup",
      "execution_count": null,
      "outputs": [
        {
          "output_type": "execute_result",
          "data": {
            "text/plain": [
              "<matplotlib.axes._subplots.AxesSubplot at 0x7f561fc55410>"
            ]
          },
          "metadata": {},
          "execution_count": 37
        },
        {
          "output_type": "display_data",
          "data": {
            "image/png": "[encoded data removed]",
            "text/plain": [
              "<Figure size 432x288 with 1 Axes>"
            ]
          },
          "metadata": {
            "needs_background": "light"
          }
        }
      ]
    },
    {
      "cell_type": "code",
      "metadata": {
        "execution": {
          "iopub.execute_input": "2021-06-05T10:44:44.041757Z",
          "iopub.status.busy": "2021-06-05T10:44:44.040725Z",
          "iopub.status.idle": "2021-06-05T10:44:44.193898Z",
          "shell.execute_reply": "2021-06-05T10:44:44.194356Z",
          "shell.execute_reply.started": "2021-06-05T10:38:51.474632Z"
        },
        "papermill": {
          "duration": 0.274038,
          "end_time": "2021-06-05T10:44:44.194569",
          "exception": false,
          "start_time": "2021-06-05T10:44:43.920531",
          "status": "completed"
        },
        "tags": [],
        "colab": {
          "base_uri": "https://localhost:8080/",
          "height": 297
        },
        "id": "sixth-circular",
        "outputId": "b6e3c203-4297-41f6-ba65-2a4b98722500"
      },
      "source": [
        "sns.boxplot(app_df['YEARS_EMPLOYED'])"
      ],
      "id": "sixth-circular",
      "execution_count": null,
      "outputs": [
        {
          "output_type": "execute_result",
          "data": {
            "text/plain": [
              "<matplotlib.axes._subplots.AxesSubplot at 0x7f561fbc3e90>"
            ]
          },
          "metadata": {},
          "execution_count": 38
        },
        {
          "output_type": "display_data",
          "data": {
            "image/png": "[encoded data removed]",
            "text/plain": [
              "<Figure size 432x288 with 1 Axes>"
            ]
          },
          "metadata": {
            "needs_background": "light"
          }
        }
      ]
    },
    {
      "cell_type": "code",
      "metadata": {
        "execution": {
          "iopub.execute_input": "2021-06-05T10:44:44.428965Z",
          "iopub.status.busy": "2021-06-05T10:44:44.428144Z",
          "iopub.status.idle": "2021-06-05T10:44:44.571687Z",
          "shell.execute_reply": "2021-06-05T10:44:44.571006Z",
          "shell.execute_reply.started": "2021-06-05T10:38:51.633809Z"
        },
        "papermill": {
          "duration": 0.262814,
          "end_time": "2021-06-05T10:44:44.571832",
          "exception": false,
          "start_time": "2021-06-05T10:44:44.309018",
          "status": "completed"
        },
        "tags": [],
        "colab": {
          "base_uri": "https://localhost:8080/",
          "height": 297
        },
        "id": "appointed-notebook",
        "outputId": "ad6d9fdb-911b-4d44-d9a9-6e20a980482e"
      },
      "source": [
        "sns.boxplot(app_df['CNT_FAM_MEMBERS'])"
      ],
      "id": "appointed-notebook",
      "execution_count": null,
      "outputs": [
        {
          "output_type": "execute_result",
          "data": {
            "text/plain": [
              "<matplotlib.axes._subplots.AxesSubplot at 0x7f561fb32a10>"
            ]
          },
          "metadata": {},
          "execution_count": 39
        },
        {
          "output_type": "display_data",
          "data": {
            "image/png": "[encoded data removed]",
            "text/plain": [
              "<Figure size 432x288 with 1 Axes>"
            ]
          },
          "metadata": {
            "needs_background": "light"
          }
        }
      ]
    },
    {
      "cell_type": "markdown",
      "metadata": {
        "papermill": {
          "duration": 0.115151,
          "end_time": "2021-06-05T10:44:44.802924",
          "exception": false,
          "start_time": "2021-06-05T10:44:44.687773",
          "status": "completed"
        },
        "tags": [],
        "id": "comparative-conversion"
      },
      "source": [
        "### Removing Outliers"
      ],
      "id": "comparative-conversion"
    },
    {
      "cell_type": "code",
      "metadata": {
        "execution": {
          "iopub.execute_input": "2021-06-05T10:44:45.040341Z",
          "iopub.status.busy": "2021-06-05T10:44:45.039655Z",
          "iopub.status.idle": "2021-06-05T10:44:45.053101Z",
          "shell.execute_reply": "2021-06-05T10:44:45.052346Z",
          "shell.execute_reply.started": "2021-06-05T10:38:51.782250Z"
        },
        "papermill": {
          "duration": 0.134376,
          "end_time": "2021-06-05T10:44:45.053252",
          "exception": false,
          "start_time": "2021-06-05T10:44:44.918876",
          "status": "completed"
        },
        "tags": [],
        "colab": {
          "base_uri": "https://localhost:8080/"
        },
        "id": "micro-roots",
        "outputId": "f44ca126-3aa2-4949-b46f-64635994b077"
      },
      "source": [
        "high_bound = app_df['CNT_CHILDREN'].quantile(0.999)\n",
        "print('high_bound :', high_bound)\n",
        "low_bound = app_df['CNT_CHILDREN'].quantile(0.001)\n",
        "print('low_bound :', low_bound)"
      ],
      "id": "micro-roots",
      "execution_count": null,
      "outputs": [
        {
          "output_type": "stream",
          "name": "stdout",
          "text": [
            "high_bound : 4.0\n",
            "low_bound : 0.0\n"
          ]
        }
      ]
    },
    {
      "cell_type": "code",
      "metadata": {
        "execution": {
          "iopub.execute_input": "2021-06-05T10:44:45.292851Z",
          "iopub.status.busy": "2021-06-05T10:44:45.291667Z",
          "iopub.status.idle": "2021-06-05T10:44:45.326462Z",
          "shell.execute_reply": "2021-06-05T10:44:45.325898Z",
          "shell.execute_reply.started": "2021-06-05T10:38:51.799477Z"
        },
        "papermill": {
          "duration": 0.158299,
          "end_time": "2021-06-05T10:44:45.326627",
          "exception": false,
          "start_time": "2021-06-05T10:44:45.168328",
          "status": "completed"
        },
        "tags": [],
        "id": "independent-tissue"
      },
      "source": [
        "app_df = app_df[(app_df['CNT_CHILDREN']>=low_bound) & (app_df['CNT_CHILDREN']<=high_bound)]"
      ],
      "id": "independent-tissue",
      "execution_count": null,
      "outputs": []
    },
    {
      "cell_type": "code",
      "metadata": {
        "execution": {
          "iopub.execute_input": "2021-06-05T10:44:45.567241Z",
          "iopub.status.busy": "2021-06-05T10:44:45.566086Z",
          "iopub.status.idle": "2021-06-05T10:44:45.578549Z",
          "shell.execute_reply": "2021-06-05T10:44:45.577973Z",
          "shell.execute_reply.started": "2021-06-05T10:38:51.842286Z"
        },
        "papermill": {
          "duration": 0.135448,
          "end_time": "2021-06-05T10:44:45.578698",
          "exception": false,
          "start_time": "2021-06-05T10:44:45.443250",
          "status": "completed"
        },
        "tags": [],
        "colab": {
          "base_uri": "https://localhost:8080/"
        },
        "id": "handled-motor",
        "outputId": "617d21ec-69fe-4838-e67f-ab4bf822d840"
      },
      "source": [
        "high_bound = app_df['AMT_INCOME_TOTAL'].quantile(0.999)\n",
        "print('high_bound :', high_bound)\n",
        "low_bound = app_df['AMT_INCOME_TOTAL'].quantile(0.001)\n",
        "print('low_bound :', low_bound)"
      ],
      "id": "handled-motor",
      "execution_count": null,
      "outputs": [
        {
          "output_type": "stream",
          "name": "stdout",
          "text": [
            "high_bound : 990000.0\n",
            "low_bound : 36000.0\n"
          ]
        }
      ]
    },
    {
      "cell_type": "code",
      "metadata": {
        "execution": {
          "iopub.execute_input": "2021-06-05T10:44:45.814533Z",
          "iopub.status.busy": "2021-06-05T10:44:45.813877Z",
          "iopub.status.idle": "2021-06-05T10:44:45.858727Z",
          "shell.execute_reply": "2021-06-05T10:44:45.858132Z",
          "shell.execute_reply.started": "2021-06-05T10:38:51.859095Z"
        },
        "papermill": {
          "duration": 0.164796,
          "end_time": "2021-06-05T10:44:45.858878",
          "exception": false,
          "start_time": "2021-06-05T10:44:45.694082",
          "status": "completed"
        },
        "tags": [],
        "id": "demanding-robin"
      },
      "source": [
        "app_df = app_df[(app_df['AMT_INCOME_TOTAL']>=low_bound) & (app_df['AMT_INCOME_TOTAL']<=high_bound)]"
      ],
      "id": "demanding-robin",
      "execution_count": null,
      "outputs": []
    },
    {
      "cell_type": "code",
      "metadata": {
        "execution": {
          "iopub.execute_input": "2021-06-05T10:44:46.098498Z",
          "iopub.status.busy": "2021-06-05T10:44:46.097772Z",
          "iopub.status.idle": "2021-06-05T10:44:46.111999Z",
          "shell.execute_reply": "2021-06-05T10:44:46.111409Z",
          "shell.execute_reply.started": "2021-06-05T10:38:51.906458Z"
        },
        "papermill": {
          "duration": 0.137512,
          "end_time": "2021-06-05T10:44:46.112143",
          "exception": false,
          "start_time": "2021-06-05T10:44:45.974631",
          "status": "completed"
        },
        "tags": [],
        "colab": {
          "base_uri": "https://localhost:8080/"
        },
        "id": "otherwise-tenant",
        "outputId": "f73ccfaa-c4be-4dd2-cbb1-5bb9d5a95fdc"
      },
      "source": [
        "high_bound = app_df['YEARS_EMPLOYED'].quantile(0.999)\n",
        "print('high_bound :', high_bound)\n",
        "low_bound = app_df['YEARS_EMPLOYED'].quantile(0.001)\n",
        "print('low_bound :', low_bound)"
      ],
      "id": "otherwise-tenant",
      "execution_count": null,
      "outputs": [
        {
          "output_type": "stream",
          "name": "stdout",
          "text": [
            "high_bound : 40.0\n",
            "low_bound : 0.0\n"
          ]
        }
      ]
    },
    {
      "cell_type": "code",
      "metadata": {
        "execution": {
          "iopub.execute_input": "2021-06-05T10:44:46.346762Z",
          "iopub.status.busy": "2021-06-05T10:44:46.346123Z",
          "iopub.status.idle": "2021-06-05T10:44:46.388280Z",
          "shell.execute_reply": "2021-06-05T10:44:46.388865Z",
          "shell.execute_reply.started": "2021-06-05T10:38:51.924870Z"
        },
        "papermill": {
          "duration": 0.161102,
          "end_time": "2021-06-05T10:44:46.389041",
          "exception": false,
          "start_time": "2021-06-05T10:44:46.227939",
          "status": "completed"
        },
        "tags": [],
        "id": "possible-richmond"
      },
      "source": [
        "app_df = app_df[(app_df['YEARS_EMPLOYED']>=low_bound) & (app_df['YEARS_EMPLOYED']<=high_bound)]"
      ],
      "id": "possible-richmond",
      "execution_count": null,
      "outputs": []
    },
    {
      "cell_type": "code",
      "metadata": {
        "execution": {
          "iopub.execute_input": "2021-06-05T10:44:46.623589Z",
          "iopub.status.busy": "2021-06-05T10:44:46.622994Z",
          "iopub.status.idle": "2021-06-05T10:44:46.639594Z",
          "shell.execute_reply": "2021-06-05T10:44:46.640210Z",
          "shell.execute_reply.started": "2021-06-05T10:38:51.969243Z"
        },
        "papermill": {
          "duration": 0.134721,
          "end_time": "2021-06-05T10:44:46.640394",
          "exception": false,
          "start_time": "2021-06-05T10:44:46.505673",
          "status": "completed"
        },
        "tags": [],
        "colab": {
          "base_uri": "https://localhost:8080/"
        },
        "id": "prescribed-resource",
        "outputId": "3c3a5f25-3ccf-4783-ac1a-c2ff96830997"
      },
      "source": [
        "high_bound = app_df['CNT_FAM_MEMBERS'].quantile(0.999)\n",
        "print('high_bound :', high_bound)\n",
        "low_bound = app_df['CNT_FAM_MEMBERS'].quantile(0.001)\n",
        "print('low_bound :', low_bound)"
      ],
      "id": "prescribed-resource",
      "execution_count": null,
      "outputs": [
        {
          "output_type": "stream",
          "name": "stdout",
          "text": [
            "high_bound : 6.0\n",
            "low_bound : 1.0\n"
          ]
        }
      ]
    },
    {
      "cell_type": "code",
      "metadata": {
        "execution": {
          "iopub.execute_input": "2021-06-05T10:44:46.878827Z",
          "iopub.status.busy": "2021-06-05T10:44:46.878118Z",
          "iopub.status.idle": "2021-06-05T10:44:46.919690Z",
          "shell.execute_reply": "2021-06-05T10:44:46.919118Z",
          "shell.execute_reply.started": "2021-06-05T10:38:51.988675Z"
        },
        "papermill": {
          "duration": 0.163851,
          "end_time": "2021-06-05T10:44:46.919842",
          "exception": false,
          "start_time": "2021-06-05T10:44:46.755991",
          "status": "completed"
        },
        "tags": [],
        "id": "quantitative-quantum"
      },
      "source": [
        "app_df = app_df[(app_df['CNT_FAM_MEMBERS']>=low_bound) & (app_df['CNT_FAM_MEMBERS']<=high_bound)]"
      ],
      "id": "quantitative-quantum",
      "execution_count": null,
      "outputs": []
    },
    {
      "cell_type": "code",
      "metadata": {
        "execution": {
          "iopub.execute_input": "2021-06-05T10:44:47.174577Z",
          "iopub.status.busy": "2021-06-05T10:44:47.173905Z",
          "iopub.status.idle": "2021-06-05T10:44:47.177004Z",
          "shell.execute_reply": "2021-06-05T10:44:47.177530Z",
          "shell.execute_reply.started": "2021-06-05T10:38:52.034416Z"
        },
        "papermill": {
          "duration": 0.140788,
          "end_time": "2021-06-05T10:44:47.177707",
          "exception": false,
          "start_time": "2021-06-05T10:44:47.036919",
          "status": "completed"
        },
        "tags": [],
        "colab": {
          "base_uri": "https://localhost:8080/",
          "height": 322
        },
        "id": "sensitive-anderson",
        "outputId": "3793bb9a-8254-4087-db8a-3ef4bf2b8def"
      },
      "source": [
        "app_df.head()"
      ],
      "id": "sensitive-anderson",
      "execution_count": null,
      "outputs": [
        {
          "output_type": "execute_result",
          "data": {
            "text/html": [
              "\n",
              "  <div id=\"df-81303ec5-a589-4dd7-b9a2-76f3347de491\">\n",
              "    <div class=\"colab-df-container\">\n",
              "      <div>\n",
              "<style scoped>\n",
              "    .dataframe tbody tr th:only-of-type {\n",
              "        vertical-align: middle;\n",
              "    }\n",
              "\n",
              "    .dataframe tbody tr th {\n",
              "        vertical-align: top;\n",
              "    }\n",
              "\n",
              "    .dataframe thead th {\n",
              "        text-align: right;\n",
              "    }\n",
              "</style>\n",
              "<table border=\"1\" class=\"dataframe\">\n",
              "  <thead>\n",
              "    <tr style=\"text-align: right;\">\n",
              "      <th></th>\n",
              "      <th>ID</th>\n",
              "      <th>CODE_GENDER</th>\n",
              "      <th>FLAG_OWN_CAR</th>\n",
              "      <th>FLAG_OWN_REALTY</th>\n",
              "      <th>CNT_CHILDREN</th>\n",
              "      <th>AMT_INCOME_TOTAL</th>\n",
              "      <th>NAME_INCOME_TYPE</th>\n",
              "      <th>NAME_EDUCATION_TYPE</th>\n",
              "      <th>NAME_FAMILY_STATUS</th>\n",
              "      <th>NAME_HOUSING_TYPE</th>\n",
              "      <th>AGE_YEARS</th>\n",
              "      <th>YEARS_EMPLOYED</th>\n",
              "      <th>CNT_FAM_MEMBERS</th>\n",
              "    </tr>\n",
              "  </thead>\n",
              "  <tbody>\n",
              "    <tr>\n",
              "      <th>0</th>\n",
              "      <td>5008804</td>\n",
              "      <td>M</td>\n",
              "      <td>Y</td>\n",
              "      <td>Y</td>\n",
              "      <td>0</td>\n",
              "      <td>427500.0</td>\n",
              "      <td>Working</td>\n",
              "      <td>Higher education</td>\n",
              "      <td>Civil marriage</td>\n",
              "      <td>Rented apartment</td>\n",
              "      <td>33.0</td>\n",
              "      <td>12.0</td>\n",
              "      <td>2.0</td>\n",
              "    </tr>\n",
              "    <tr>\n",
              "      <th>1</th>\n",
              "      <td>5008805</td>\n",
              "      <td>M</td>\n",
              "      <td>Y</td>\n",
              "      <td>Y</td>\n",
              "      <td>0</td>\n",
              "      <td>427500.0</td>\n",
              "      <td>Working</td>\n",
              "      <td>Higher education</td>\n",
              "      <td>Civil marriage</td>\n",
              "      <td>Rented apartment</td>\n",
              "      <td>33.0</td>\n",
              "      <td>12.0</td>\n",
              "      <td>2.0</td>\n",
              "    </tr>\n",
              "    <tr>\n",
              "      <th>2</th>\n",
              "      <td>5008806</td>\n",
              "      <td>M</td>\n",
              "      <td>Y</td>\n",
              "      <td>Y</td>\n",
              "      <td>0</td>\n",
              "      <td>112500.0</td>\n",
              "      <td>Working</td>\n",
              "      <td>Secondary / secondary special</td>\n",
              "      <td>Married</td>\n",
              "      <td>House / apartment</td>\n",
              "      <td>59.0</td>\n",
              "      <td>3.0</td>\n",
              "      <td>2.0</td>\n",
              "    </tr>\n",
              "    <tr>\n",
              "      <th>3</th>\n",
              "      <td>5008808</td>\n",
              "      <td>F</td>\n",
              "      <td>N</td>\n",
              "      <td>Y</td>\n",
              "      <td>0</td>\n",
              "      <td>270000.0</td>\n",
              "      <td>Commercial associate</td>\n",
              "      <td>Secondary / secondary special</td>\n",
              "      <td>Single / not married</td>\n",
              "      <td>House / apartment</td>\n",
              "      <td>52.0</td>\n",
              "      <td>8.0</td>\n",
              "      <td>1.0</td>\n",
              "    </tr>\n",
              "    <tr>\n",
              "      <th>4</th>\n",
              "      <td>5008809</td>\n",
              "      <td>F</td>\n",
              "      <td>N</td>\n",
              "      <td>Y</td>\n",
              "      <td>0</td>\n",
              "      <td>270000.0</td>\n",
              "      <td>Commercial associate</td>\n",
              "      <td>Secondary / secondary special</td>\n",
              "      <td>Single / not married</td>\n",
              "      <td>House / apartment</td>\n",
              "      <td>52.0</td>\n",
              "      <td>8.0</td>\n",
              "      <td>1.0</td>\n",
              "    </tr>\n",
              "  </tbody>\n",
              "</table>\n",
              "</div>\n",
              "      <button class=\"colab-df-convert\" onclick=\"convertToInteractive('df-81303ec5-a589-4dd7-b9a2-76f3347de491')\"\n",
              "              title=\"Convert this dataframe to an interactive table.\"\n",
              "              style=\"display:none;\">\n",
              "        \n",
              "  <svg xmlns=\"http://www.w3.org/2000/svg\" height=\"24px\"viewBox=\"0 0 24 24\"\n",
              "       width=\"24px\">\n",
              "    <path d=\"M0 0h24v24H0V0z\" fill=\"none\"/>\n",
              "    <path d=\"M18.56 5.44l.94 2.06.94-2.06 2.06-.94-2.06-.94-.94-2.06-.94 2.06-2.06.94zm-11 1L8.5 8.5l.94-2.06 2.06-.94-2.06-.94L8.5 2.5l-.94 2.06-2.06.94zm10 10l.94 2.06.94-2.06 2.06-.94-2.06-.94-.94-2.06-.94 2.06-2.06.94z\"/><path d=\"M17.41 7.96l-1.37-1.37c-.4-.4-.92-.59-1.43-.59-.52 0-1.04.2-1.43.59L10.3 9.45l-7.72 7.72c-.78.78-.78 2.05 0 2.83L4 21.41c.39.39.9.59 1.41.59.51 0 1.02-.2 1.41-.59l7.78-7.78 2.81-2.81c.8-.78.8-2.07 0-2.86zM5.41 20L4 18.59l7.72-7.72 1.47 1.35L5.41 20z\"/>\n",
              "  </svg>\n",
              "      </button>\n",
              "      \n",
              "  <style>\n",
              "    .colab-df-container {\n",
              "      display:flex;\n",
              "      flex-wrap:wrap;\n",
              "      gap: 12px;\n",
              "    }\n",
              "\n",
              "    .colab-df-convert {\n",
              "      background-color: #E8F0FE;\n",
              "      border: none;\n",
              "      border-radius: 50%;\n",
              "      cursor: pointer;\n",
              "      display: none;\n",
              "      fill: #1967D2;\n",
              "      height: 32px;\n",
              "      padding: 0 0 0 0;\n",
              "      width: 32px;\n",
              "    }\n",
              "\n",
              "    .colab-df-convert:hover {\n",
              "      background-color: #E2EBFA;\n",
              "      box-shadow: 0px 1px 2px rgba(60, 64, 67, 0.3), 0px 1px 3px 1px rgba(60, 64, 67, 0.15);\n",
              "      fill: #174EA6;\n",
              "    }\n",
              "\n",
              "    [theme=dark] .colab-df-convert {\n",
              "      background-color: #3B4455;\n",
              "      fill: #D2E3FC;\n",
              "    }\n",
              "\n",
              "    [theme=dark] .colab-df-convert:hover {\n",
              "      background-color: #434B5C;\n",
              "      box-shadow: 0px 1px 3px 1px rgba(0, 0, 0, 0.15);\n",
              "      filter: drop-shadow(0px 1px 2px rgba(0, 0, 0, 0.3));\n",
              "      fill: #FFFFFF;\n",
              "    }\n",
              "  </style>\n",
              "\n",
              "      <script>\n",
              "        const buttonEl =\n",
              "          document.querySelector('#df-81303ec5-a589-4dd7-b9a2-76f3347de491 button.colab-df-convert');\n",
              "        buttonEl.style.display =\n",
              "          google.colab.kernel.accessAllowed ? 'block' : 'none';\n",
              "\n",
              "        async function convertToInteractive(key) {\n",
              "          const element = document.querySelector('#df-81303ec5-a589-4dd7-b9a2-76f3347de491');\n",
              "          const dataTable =\n",
              "            await google.colab.kernel.invokeFunction('convertToInteractive',\n",
              "                                                     [key], {});\n",
              "          if (!dataTable) return;\n",
              "\n",
              "          const docLinkHtml = 'Like what you see? Visit the ' +\n",
              "            '<a target=\"_blank\" href=https://colab.research.google.com/notebooks/data_table.ipynb>data table notebook</a>'\n",
              "            + ' to learn more about interactive tables.';\n",
              "          element.innerHTML = '';\n",
              "          dataTable['output_type'] = 'display_data';\n",
              "          await google.colab.output.renderOutput(dataTable, element);\n",
              "          const docLink = document.createElement('div');\n",
              "          docLink.innerHTML = docLinkHtml;\n",
              "          element.appendChild(docLink);\n",
              "        }\n",
              "      </script>\n",
              "    </div>\n",
              "  </div>\n",
              "  "
            ],
            "text/plain": [
              "        ID CODE_GENDER FLAG_OWN_CAR  ... AGE_YEARS  YEARS_EMPLOYED  CNT_FAM_MEMBERS\n",
              "0  5008804           M            Y  ...      33.0            12.0              2.0\n",
              "1  5008805           M            Y  ...      33.0            12.0              2.0\n",
              "2  5008806           M            Y  ...      59.0             3.0              2.0\n",
              "3  5008808           F            N  ...      52.0             8.0              1.0\n",
              "4  5008809           F            N  ...      52.0             8.0              1.0\n",
              "\n",
              "[5 rows x 13 columns]"
            ]
          },
          "metadata": {},
          "execution_count": 48
        }
      ]
    },
    {
      "cell_type": "markdown",
      "metadata": {
        "papermill": {
          "duration": 0.116697,
          "end_time": "2021-06-05T10:44:47.412926",
          "exception": false,
          "start_time": "2021-06-05T10:44:47.296229",
          "status": "completed"
        },
        "tags": [],
        "id": "latest-exhibition"
      },
      "source": [
        "#### On File - Credit Record.csv"
      ],
      "id": "latest-exhibition"
    },
    {
      "cell_type": "code",
      "metadata": {
        "execution": {
          "iopub.execute_input": "2021-06-05T10:44:47.650528Z",
          "iopub.status.busy": "2021-06-05T10:44:47.649911Z",
          "iopub.status.idle": "2021-06-05T10:44:47.658902Z",
          "shell.execute_reply": "2021-06-05T10:44:47.659443Z",
          "shell.execute_reply.started": "2021-06-05T10:38:52.058095Z"
        },
        "papermill": {
          "duration": 0.129256,
          "end_time": "2021-06-05T10:44:47.659604",
          "exception": false,
          "start_time": "2021-06-05T10:44:47.530348",
          "status": "completed"
        },
        "tags": [],
        "colab": {
          "base_uri": "https://localhost:8080/",
          "height": 206
        },
        "id": "returning-explorer",
        "outputId": "351d9a75-99d6-4e33-f3b3-72c9095300d8"
      },
      "source": [
        "credit_df.head()"
      ],
      "id": "returning-explorer",
      "execution_count": null,
      "outputs": [
        {
          "output_type": "execute_result",
          "data": {
            "text/html": [
              "\n",
              "  <div id=\"df-bff98bd7-8ac9-4b4f-87b8-75ad6729e2df\">\n",
              "    <div class=\"colab-df-container\">\n",
              "      <div>\n",
              "<style scoped>\n",
              "    .dataframe tbody tr th:only-of-type {\n",
              "        vertical-align: middle;\n",
              "    }\n",
              "\n",
              "    .dataframe tbody tr th {\n",
              "        vertical-align: top;\n",
              "    }\n",
              "\n",
              "    .dataframe thead th {\n",
              "        text-align: right;\n",
              "    }\n",
              "</style>\n",
              "<table border=\"1\" class=\"dataframe\">\n",
              "  <thead>\n",
              "    <tr style=\"text-align: right;\">\n",
              "      <th></th>\n",
              "      <th>ID</th>\n",
              "      <th>MONTHS_BALANCE</th>\n",
              "      <th>STATUS</th>\n",
              "    </tr>\n",
              "  </thead>\n",
              "  <tbody>\n",
              "    <tr>\n",
              "      <th>0</th>\n",
              "      <td>5001711</td>\n",
              "      <td>0</td>\n",
              "      <td>X</td>\n",
              "    </tr>\n",
              "    <tr>\n",
              "      <th>1</th>\n",
              "      <td>5001711</td>\n",
              "      <td>-1</td>\n",
              "      <td>0</td>\n",
              "    </tr>\n",
              "    <tr>\n",
              "      <th>2</th>\n",
              "      <td>5001711</td>\n",
              "      <td>-2</td>\n",
              "      <td>0</td>\n",
              "    </tr>\n",
              "    <tr>\n",
              "      <th>3</th>\n",
              "      <td>5001711</td>\n",
              "      <td>-3</td>\n",
              "      <td>0</td>\n",
              "    </tr>\n",
              "    <tr>\n",
              "      <th>4</th>\n",
              "      <td>5001712</td>\n",
              "      <td>0</td>\n",
              "      <td>C</td>\n",
              "    </tr>\n",
              "  </tbody>\n",
              "</table>\n",
              "</div>\n",
              "      <button class=\"colab-df-convert\" onclick=\"convertToInteractive('df-bff98bd7-8ac9-4b4f-87b8-75ad6729e2df')\"\n",
              "              title=\"Convert this dataframe to an interactive table.\"\n",
              "              style=\"display:none;\">\n",
              "        \n",
              "  <svg xmlns=\"http://www.w3.org/2000/svg\" height=\"24px\"viewBox=\"0 0 24 24\"\n",
              "       width=\"24px\">\n",
              "    <path d=\"M0 0h24v24H0V0z\" fill=\"none\"/>\n",
              "    <path d=\"M18.56 5.44l.94 2.06.94-2.06 2.06-.94-2.06-.94-.94-2.06-.94 2.06-2.06.94zm-11 1L8.5 8.5l.94-2.06 2.06-.94-2.06-.94L8.5 2.5l-.94 2.06-2.06.94zm10 10l.94 2.06.94-2.06 2.06-.94-2.06-.94-.94-2.06-.94 2.06-2.06.94z\"/><path d=\"M17.41 7.96l-1.37-1.37c-.4-.4-.92-.59-1.43-.59-.52 0-1.04.2-1.43.59L10.3 9.45l-7.72 7.72c-.78.78-.78 2.05 0 2.83L4 21.41c.39.39.9.59 1.41.59.51 0 1.02-.2 1.41-.59l7.78-7.78 2.81-2.81c.8-.78.8-2.07 0-2.86zM5.41 20L4 18.59l7.72-7.72 1.47 1.35L5.41 20z\"/>\n",
              "  </svg>\n",
              "      </button>\n",
              "      \n",
              "  <style>\n",
              "    .colab-df-container {\n",
              "      display:flex;\n",
              "      flex-wrap:wrap;\n",
              "      gap: 12px;\n",
              "    }\n",
              "\n",
              "    .colab-df-convert {\n",
              "      background-color: #E8F0FE;\n",
              "      border: none;\n",
              "      border-radius: 50%;\n",
              "      cursor: pointer;\n",
              "      display: none;\n",
              "      fill: #1967D2;\n",
              "      height: 32px;\n",
              "      padding: 0 0 0 0;\n",
              "      width: 32px;\n",
              "    }\n",
              "\n",
              "    .colab-df-convert:hover {\n",
              "      background-color: #E2EBFA;\n",
              "      box-shadow: 0px 1px 2px rgba(60, 64, 67, 0.3), 0px 1px 3px 1px rgba(60, 64, 67, 0.15);\n",
              "      fill: #174EA6;\n",
              "    }\n",
              "\n",
              "    [theme=dark] .colab-df-convert {\n",
              "      background-color: #3B4455;\n",
              "      fill: #D2E3FC;\n",
              "    }\n",
              "\n",
              "    [theme=dark] .colab-df-convert:hover {\n",
              "      background-color: #434B5C;\n",
              "      box-shadow: 0px 1px 3px 1px rgba(0, 0, 0, 0.15);\n",
              "      filter: drop-shadow(0px 1px 2px rgba(0, 0, 0, 0.3));\n",
              "      fill: #FFFFFF;\n",
              "    }\n",
              "  </style>\n",
              "\n",
              "      <script>\n",
              "        const buttonEl =\n",
              "          document.querySelector('#df-bff98bd7-8ac9-4b4f-87b8-75ad6729e2df button.colab-df-convert');\n",
              "        buttonEl.style.display =\n",
              "          google.colab.kernel.accessAllowed ? 'block' : 'none';\n",
              "\n",
              "        async function convertToInteractive(key) {\n",
              "          const element = document.querySelector('#df-bff98bd7-8ac9-4b4f-87b8-75ad6729e2df');\n",
              "          const dataTable =\n",
              "            await google.colab.kernel.invokeFunction('convertToInteractive',\n",
              "                                                     [key], {});\n",
              "          if (!dataTable) return;\n",
              "\n",
              "          const docLinkHtml = 'Like what you see? Visit the ' +\n",
              "            '<a target=\"_blank\" href=https://colab.research.google.com/notebooks/data_table.ipynb>data table notebook</a>'\n",
              "            + ' to learn more about interactive tables.';\n",
              "          element.innerHTML = '';\n",
              "          dataTable['output_type'] = 'display_data';\n",
              "          await google.colab.output.renderOutput(dataTable, element);\n",
              "          const docLink = document.createElement('div');\n",
              "          docLink.innerHTML = docLinkHtml;\n",
              "          element.appendChild(docLink);\n",
              "        }\n",
              "      </script>\n",
              "    </div>\n",
              "  </div>\n",
              "  "
            ],
            "text/plain": [
              "        ID  MONTHS_BALANCE STATUS\n",
              "0  5001711               0      X\n",
              "1  5001711              -1      0\n",
              "2  5001711              -2      0\n",
              "3  5001711              -3      0\n",
              "4  5001712               0      C"
            ]
          },
          "metadata": {},
          "execution_count": 49
        }
      ]
    },
    {
      "cell_type": "code",
      "metadata": {
        "execution": {
          "iopub.execute_input": "2021-06-05T10:44:47.897602Z",
          "iopub.status.busy": "2021-06-05T10:44:47.896966Z",
          "iopub.status.idle": "2021-06-05T10:44:48.177507Z",
          "shell.execute_reply": "2021-06-05T10:44:48.176906Z",
          "shell.execute_reply.started": "2021-06-05T10:38:52.075177Z"
        },
        "papermill": {
          "duration": 0.400003,
          "end_time": "2021-06-05T10:44:48.177637",
          "exception": false,
          "start_time": "2021-06-05T10:44:47.777634",
          "status": "completed"
        },
        "tags": [],
        "colab": {
          "base_uri": "https://localhost:8080/"
        },
        "id": "sunrise-history",
        "outputId": "807f3573-3e2e-479c-ab25-6459372ac34e"
      },
      "source": [
        "credit_df.isnull().sum()"
      ],
      "id": "sunrise-history",
      "execution_count": null,
      "outputs": [
        {
          "output_type": "execute_result",
          "data": {
            "text/plain": [
              "ID                0\n",
              "MONTHS_BALANCE    0\n",
              "STATUS            0\n",
              "dtype: int64"
            ]
          },
          "metadata": {},
          "execution_count": 50
        }
      ]
    },
    {
      "cell_type": "code",
      "metadata": {
        "execution": {
          "iopub.execute_input": "2021-06-05T10:44:48.623711Z",
          "iopub.status.busy": "2021-06-05T10:44:48.622974Z",
          "iopub.status.idle": "2021-06-05T10:44:48.630322Z",
          "shell.execute_reply": "2021-06-05T10:44:48.629703Z",
          "shell.execute_reply.started": "2021-06-05T10:38:52.363974Z"
        },
        "papermill": {
          "duration": 0.335671,
          "end_time": "2021-06-05T10:44:48.630457",
          "exception": false,
          "start_time": "2021-06-05T10:44:48.294786",
          "status": "completed"
        },
        "tags": [],
        "colab": {
          "base_uri": "https://localhost:8080/"
        },
        "id": "higher-force",
        "outputId": "ca436739-276e-4753-abbe-9f623f29ce1e"
      },
      "source": [
        "credit_df['STATUS'].value_counts()"
      ],
      "id": "higher-force",
      "execution_count": null,
      "outputs": [
        {
          "output_type": "execute_result",
          "data": {
            "text/plain": [
              "C    442031\n",
              "0    383120\n",
              "X    209230\n",
              "1     11090\n",
              "5      1693\n",
              "2       868\n",
              "3       320\n",
              "4       223\n",
              "Name: STATUS, dtype: int64"
            ]
          },
          "metadata": {},
          "execution_count": 51
        }
      ]
    },
    {
      "cell_type": "code",
      "metadata": {
        "execution": {
          "iopub.execute_input": "2021-06-05T10:44:48.963152Z",
          "iopub.status.busy": "2021-06-05T10:44:48.962439Z",
          "iopub.status.idle": "2021-06-05T10:44:49.077867Z",
          "shell.execute_reply": "2021-06-05T10:44:49.077233Z",
          "shell.execute_reply.started": "2021-06-05T10:38:52.577769Z"
        },
        "papermill": {
          "duration": 0.329773,
          "end_time": "2021-06-05T10:44:49.078006",
          "exception": false,
          "start_time": "2021-06-05T10:44:48.748233",
          "status": "completed"
        },
        "tags": [],
        "id": "young-example"
      },
      "source": [
        "# categorizing 'STATUS' column to binary classification   0 : Good Client and 1 : bad client\n",
        "credit_df['STATUS'].replace(['C', 'X'],0, inplace=True)"
      ],
      "id": "young-example",
      "execution_count": null,
      "outputs": []
    },
    {
      "cell_type": "code",
      "metadata": {
        "execution": {
          "iopub.execute_input": "2021-06-05T10:44:49.409829Z",
          "iopub.status.busy": "2021-06-05T10:44:49.409140Z",
          "iopub.status.idle": "2021-06-05T10:44:49.692211Z",
          "shell.execute_reply": "2021-06-05T10:44:49.691475Z",
          "shell.execute_reply.started": "2021-06-05T10:38:52.789393Z"
        },
        "papermill": {
          "duration": 0.495579,
          "end_time": "2021-06-05T10:44:49.692366",
          "exception": false,
          "start_time": "2021-06-05T10:44:49.196787",
          "status": "completed"
        },
        "tags": [],
        "id": "appreciated-dragon"
      },
      "source": [
        "credit_df['STATUS'].replace(['2','3','4','5'],1, inplace=True)"
      ],
      "id": "appreciated-dragon",
      "execution_count": null,
      "outputs": []
    },
    {
      "cell_type": "code",
      "metadata": {
        "execution": {
          "iopub.execute_input": "2021-06-05T10:44:49.934640Z",
          "iopub.status.busy": "2021-06-05T10:44:49.933956Z",
          "iopub.status.idle": "2021-06-05T10:44:49.942603Z",
          "shell.execute_reply": "2021-06-05T10:44:49.942055Z",
          "shell.execute_reply.started": "2021-06-05T10:38:53.173266Z"
        },
        "papermill": {
          "duration": 0.132327,
          "end_time": "2021-06-05T10:44:49.942737",
          "exception": false,
          "start_time": "2021-06-05T10:44:49.810410",
          "status": "completed"
        },
        "tags": [],
        "id": "reliable-criticism"
      },
      "source": [
        "credit_df['STATUS'] = credit_df['STATUS'].astype('int')"
      ],
      "id": "reliable-criticism",
      "execution_count": null,
      "outputs": []
    },
    {
      "cell_type": "code",
      "metadata": {
        "execution": {
          "iopub.execute_input": "2021-06-05T10:44:50.184296Z",
          "iopub.status.busy": "2021-06-05T10:44:50.183647Z",
          "iopub.status.idle": "2021-06-05T10:44:50.201064Z",
          "shell.execute_reply": "2021-06-05T10:44:50.201578Z",
          "shell.execute_reply.started": "2021-06-05T10:38:53.185735Z"
        },
        "papermill": {
          "duration": 0.1409,
          "end_time": "2021-06-05T10:44:50.201762",
          "exception": false,
          "start_time": "2021-06-05T10:44:50.060862",
          "status": "completed"
        },
        "tags": [],
        "colab": {
          "base_uri": "https://localhost:8080/"
        },
        "id": "fifth-drink",
        "outputId": "03d52832-f725-4285-f66c-6ebe704e8ade"
      },
      "source": [
        "credit_df.info()"
      ],
      "id": "fifth-drink",
      "execution_count": null,
      "outputs": [
        {
          "output_type": "stream",
          "name": "stdout",
          "text": [
            "<class 'pandas.core.frame.DataFrame'>\n",
            "RangeIndex: 1048575 entries, 0 to 1048574\n",
            "Data columns (total 3 columns):\n",
            " #   Column          Non-Null Count    Dtype\n",
            "---  ------          --------------    -----\n",
            " 0   ID              1048575 non-null  int64\n",
            " 1   MONTHS_BALANCE  1048575 non-null  int64\n",
            " 2   STATUS          1048575 non-null  int64\n",
            "dtypes: int64(3)\n",
            "memory usage: 24.0 MB\n"
          ]
        }
      ]
    },
    {
      "cell_type": "code",
      "metadata": {
        "execution": {
          "iopub.execute_input": "2021-06-05T10:44:50.447393Z",
          "iopub.status.busy": "2021-06-05T10:44:50.446715Z",
          "iopub.status.idle": "2021-06-05T10:44:50.460892Z",
          "shell.execute_reply": "2021-06-05T10:44:50.461356Z",
          "shell.execute_reply.started": "2021-06-05T10:38:53.211979Z"
        },
        "papermill": {
          "duration": 0.141413,
          "end_time": "2021-06-05T10:44:50.461568",
          "exception": false,
          "start_time": "2021-06-05T10:44:50.320155",
          "status": "completed"
        },
        "tags": [],
        "colab": {
          "base_uri": "https://localhost:8080/"
        },
        "id": "satisfactory-thought",
        "outputId": "a2bd0179-3e09-4304-a9e6-5c6af02cfe5f"
      },
      "source": [
        "credit_df['STATUS'].value_counts(normalize=True)*100"
      ],
      "id": "satisfactory-thought",
      "execution_count": null,
      "outputs": [
        {
          "output_type": "execute_result",
          "data": {
            "text/plain": [
              "0    98.646353\n",
              "1     1.353647\n",
              "Name: STATUS, dtype: float64"
            ]
          },
          "metadata": {},
          "execution_count": 56
        }
      ]
    },
    {
      "cell_type": "code",
      "metadata": {
        "execution": {
          "iopub.execute_input": "2021-06-05T10:44:50.705754Z",
          "iopub.status.busy": "2021-06-05T10:44:50.705058Z",
          "iopub.status.idle": "2021-06-05T10:44:50.760661Z",
          "shell.execute_reply": "2021-06-05T10:44:50.760068Z",
          "shell.execute_reply.started": "2021-06-05T10:38:53.233292Z"
        },
        "papermill": {
          "duration": 0.179912,
          "end_time": "2021-06-05T10:44:50.760802",
          "exception": false,
          "start_time": "2021-06-05T10:44:50.580890",
          "status": "completed"
        },
        "tags": [],
        "id": "incredible-domestic"
      },
      "source": [
        "credit_df_trans = credit_df.groupby('ID').agg(max).reset_index()"
      ],
      "id": "incredible-domestic",
      "execution_count": null,
      "outputs": []
    },
    {
      "cell_type": "code",
      "metadata": {
        "execution": {
          "iopub.execute_input": "2021-06-05T10:44:51.003744Z",
          "iopub.status.busy": "2021-06-05T10:44:51.002702Z",
          "iopub.status.idle": "2021-06-05T10:44:51.012246Z",
          "shell.execute_reply": "2021-06-05T10:44:51.011617Z",
          "shell.execute_reply.started": "2021-06-05T10:38:53.288312Z"
        },
        "papermill": {
          "duration": 0.133018,
          "end_time": "2021-06-05T10:44:51.012395",
          "exception": false,
          "start_time": "2021-06-05T10:44:50.879377",
          "status": "completed"
        },
        "tags": [],
        "colab": {
          "base_uri": "https://localhost:8080/",
          "height": 206
        },
        "id": "primary-average",
        "outputId": "b9111523-0edf-4f25-8f76-6fbccf23c679"
      },
      "source": [
        "credit_df_trans.drop('MONTHS_BALANCE', axis=1, inplace=True)\n",
        "credit_df_trans.head()"
      ],
      "id": "primary-average",
      "execution_count": null,
      "outputs": [
        {
          "output_type": "execute_result",
          "data": {
            "text/html": [
              "\n",
              "  <div id=\"df-b6e9139e-8391-4108-ba16-d99840e4ca64\">\n",
              "    <div class=\"colab-df-container\">\n",
              "      <div>\n",
              "<style scoped>\n",
              "    .dataframe tbody tr th:only-of-type {\n",
              "        vertical-align: middle;\n",
              "    }\n",
              "\n",
              "    .dataframe tbody tr th {\n",
              "        vertical-align: top;\n",
              "    }\n",
              "\n",
              "    .dataframe thead th {\n",
              "        text-align: right;\n",
              "    }\n",
              "</style>\n",
              "<table border=\"1\" class=\"dataframe\">\n",
              "  <thead>\n",
              "    <tr style=\"text-align: right;\">\n",
              "      <th></th>\n",
              "      <th>ID</th>\n",
              "      <th>STATUS</th>\n",
              "    </tr>\n",
              "  </thead>\n",
              "  <tbody>\n",
              "    <tr>\n",
              "      <th>0</th>\n",
              "      <td>5001711</td>\n",
              "      <td>0</td>\n",
              "    </tr>\n",
              "    <tr>\n",
              "      <th>1</th>\n",
              "      <td>5001712</td>\n",
              "      <td>0</td>\n",
              "    </tr>\n",
              "    <tr>\n",
              "      <th>2</th>\n",
              "      <td>5001713</td>\n",
              "      <td>0</td>\n",
              "    </tr>\n",
              "    <tr>\n",
              "      <th>3</th>\n",
              "      <td>5001714</td>\n",
              "      <td>0</td>\n",
              "    </tr>\n",
              "    <tr>\n",
              "      <th>4</th>\n",
              "      <td>5001715</td>\n",
              "      <td>0</td>\n",
              "    </tr>\n",
              "  </tbody>\n",
              "</table>\n",
              "</div>\n",
              "      <button class=\"colab-df-convert\" onclick=\"convertToInteractive('df-b6e9139e-8391-4108-ba16-d99840e4ca64')\"\n",
              "              title=\"Convert this dataframe to an interactive table.\"\n",
              "              style=\"display:none;\">\n",
              "        \n",
              "  <svg xmlns=\"http://www.w3.org/2000/svg\" height=\"24px\"viewBox=\"0 0 24 24\"\n",
              "       width=\"24px\">\n",
              "    <path d=\"M0 0h24v24H0V0z\" fill=\"none\"/>\n",
              "    <path d=\"M18.56 5.44l.94 2.06.94-2.06 2.06-.94-2.06-.94-.94-2.06-.94 2.06-2.06.94zm-11 1L8.5 8.5l.94-2.06 2.06-.94-2.06-.94L8.5 2.5l-.94 2.06-2.06.94zm10 10l.94 2.06.94-2.06 2.06-.94-2.06-.94-.94-2.06-.94 2.06-2.06.94z\"/><path d=\"M17.41 7.96l-1.37-1.37c-.4-.4-.92-.59-1.43-.59-.52 0-1.04.2-1.43.59L10.3 9.45l-7.72 7.72c-.78.78-.78 2.05 0 2.83L4 21.41c.39.39.9.59 1.41.59.51 0 1.02-.2 1.41-.59l7.78-7.78 2.81-2.81c.8-.78.8-2.07 0-2.86zM5.41 20L4 18.59l7.72-7.72 1.47 1.35L5.41 20z\"/>\n",
              "  </svg>\n",
              "      </button>\n",
              "      \n",
              "  <style>\n",
              "    .colab-df-container {\n",
              "      display:flex;\n",
              "      flex-wrap:wrap;\n",
              "      gap: 12px;\n",
              "    }\n",
              "\n",
              "    .colab-df-convert {\n",
              "      background-color: #E8F0FE;\n",
              "      border: none;\n",
              "      border-radius: 50%;\n",
              "      cursor: pointer;\n",
              "      display: none;\n",
              "      fill: #1967D2;\n",
              "      height: 32px;\n",
              "      padding: 0 0 0 0;\n",
              "      width: 32px;\n",
              "    }\n",
              "\n",
              "    .colab-df-convert:hover {\n",
              "      background-color: #E2EBFA;\n",
              "      box-shadow: 0px 1px 2px rgba(60, 64, 67, 0.3), 0px 1px 3px 1px rgba(60, 64, 67, 0.15);\n",
              "      fill: #174EA6;\n",
              "    }\n",
              "\n",
              "    [theme=dark] .colab-df-convert {\n",
              "      background-color: #3B4455;\n",
              "      fill: #D2E3FC;\n",
              "    }\n",
              "\n",
              "    [theme=dark] .colab-df-convert:hover {\n",
              "      background-color: #434B5C;\n",
              "      box-shadow: 0px 1px 3px 1px rgba(0, 0, 0, 0.15);\n",
              "      filter: drop-shadow(0px 1px 2px rgba(0, 0, 0, 0.3));\n",
              "      fill: #FFFFFF;\n",
              "    }\n",
              "  </style>\n",
              "\n",
              "      <script>\n",
              "        const buttonEl =\n",
              "          document.querySelector('#df-b6e9139e-8391-4108-ba16-d99840e4ca64 button.colab-df-convert');\n",
              "        buttonEl.style.display =\n",
              "          google.colab.kernel.accessAllowed ? 'block' : 'none';\n",
              "\n",
              "        async function convertToInteractive(key) {\n",
              "          const element = document.querySelector('#df-b6e9139e-8391-4108-ba16-d99840e4ca64');\n",
              "          const dataTable =\n",
              "            await google.colab.kernel.invokeFunction('convertToInteractive',\n",
              "                                                     [key], {});\n",
              "          if (!dataTable) return;\n",
              "\n",
              "          const docLinkHtml = 'Like what you see? Visit the ' +\n",
              "            '<a target=\"_blank\" href=https://colab.research.google.com/notebooks/data_table.ipynb>data table notebook</a>'\n",
              "            + ' to learn more about interactive tables.';\n",
              "          element.innerHTML = '';\n",
              "          dataTable['output_type'] = 'display_data';\n",
              "          await google.colab.output.renderOutput(dataTable, element);\n",
              "          const docLink = document.createElement('div');\n",
              "          docLink.innerHTML = docLinkHtml;\n",
              "          element.appendChild(docLink);\n",
              "        }\n",
              "      </script>\n",
              "    </div>\n",
              "  </div>\n",
              "  "
            ],
            "text/plain": [
              "        ID  STATUS\n",
              "0  5001711       0\n",
              "1  5001712       0\n",
              "2  5001713       0\n",
              "3  5001714       0\n",
              "4  5001715       0"
            ]
          },
          "metadata": {},
          "execution_count": 58
        }
      ]
    },
    {
      "cell_type": "code",
      "metadata": {
        "execution": {
          "iopub.execute_input": "2021-06-05T10:44:51.257162Z",
          "iopub.status.busy": "2021-06-05T10:44:51.256110Z",
          "iopub.status.idle": "2021-06-05T10:44:51.264101Z",
          "shell.execute_reply": "2021-06-05T10:44:51.263566Z",
          "shell.execute_reply.started": "2021-06-05T10:38:53.300759Z"
        },
        "papermill": {
          "duration": 0.132022,
          "end_time": "2021-06-05T10:44:51.264249",
          "exception": false,
          "start_time": "2021-06-05T10:44:51.132227",
          "status": "completed"
        },
        "tags": [],
        "colab": {
          "base_uri": "https://localhost:8080/"
        },
        "id": "rational-dictionary",
        "outputId": "7de6731e-0a77-405a-ab53-1dd06f2da9e6"
      },
      "source": [
        "credit_df_trans['STATUS'].value_counts(normalize=True)*100"
      ],
      "id": "rational-dictionary",
      "execution_count": null,
      "outputs": [
        {
          "output_type": "execute_result",
          "data": {
            "text/plain": [
              "0    88.365771\n",
              "1    11.634229\n",
              "Name: STATUS, dtype: float64"
            ]
          },
          "metadata": {},
          "execution_count": 59
        }
      ]
    },
    {
      "cell_type": "markdown",
      "metadata": {
        "papermill": {
          "duration": 0.120636,
          "end_time": "2021-06-05T10:44:51.505593",
          "exception": false,
          "start_time": "2021-06-05T10:44:51.384957",
          "status": "completed"
        },
        "tags": [],
        "id": "intensive-creature"
      },
      "source": [
        "# Merging Dataframes"
      ],
      "id": "intensive-creature"
    },
    {
      "cell_type": "code",
      "metadata": {
        "execution": {
          "iopub.execute_input": "2021-06-05T10:44:51.750926Z",
          "iopub.status.busy": "2021-06-05T10:44:51.749951Z",
          "iopub.status.idle": "2021-06-05T10:44:51.882142Z",
          "shell.execute_reply": "2021-06-05T10:44:51.881169Z",
          "shell.execute_reply.started": "2021-06-05T10:38:53.319403Z"
        },
        "papermill": {
          "duration": 0.257177,
          "end_time": "2021-06-05T10:44:51.882293",
          "exception": false,
          "start_time": "2021-06-05T10:44:51.625116",
          "status": "completed"
        },
        "tags": [],
        "colab": {
          "base_uri": "https://localhost:8080/",
          "height": 322
        },
        "id": "municipal-crash",
        "outputId": "8ca54fea-6945-45b8-8f2f-04332dbf9ee1"
      },
      "source": [
        "# merging the two datasets based on 'ID'\n",
        "final_df = pd.merge(app_df, credit_df_trans, on='ID', how='inner')\n",
        "final_df.head()"
      ],
      "id": "municipal-crash",
      "execution_count": null,
      "outputs": [
        {
          "output_type": "execute_result",
          "data": {
            "text/html": [
              "\n",
              "  <div id=\"df-1a63cd32-fd62-4d9d-aae4-a7abd2958f27\">\n",
              "    <div class=\"colab-df-container\">\n",
              "      <div>\n",
              "<style scoped>\n",
              "    .dataframe tbody tr th:only-of-type {\n",
              "        vertical-align: middle;\n",
              "    }\n",
              "\n",
              "    .dataframe tbody tr th {\n",
              "        vertical-align: top;\n",
              "    }\n",
              "\n",
              "    .dataframe thead th {\n",
              "        text-align: right;\n",
              "    }\n",
              "</style>\n",
              "<table border=\"1\" class=\"dataframe\">\n",
              "  <thead>\n",
              "    <tr style=\"text-align: right;\">\n",
              "      <th></th>\n",
              "      <th>ID</th>\n",
              "      <th>CODE_GENDER</th>\n",
              "      <th>FLAG_OWN_CAR</th>\n",
              "      <th>FLAG_OWN_REALTY</th>\n",
              "      <th>CNT_CHILDREN</th>\n",
              "      <th>AMT_INCOME_TOTAL</th>\n",
              "      <th>NAME_INCOME_TYPE</th>\n",
              "      <th>NAME_EDUCATION_TYPE</th>\n",
              "      <th>NAME_FAMILY_STATUS</th>\n",
              "      <th>NAME_HOUSING_TYPE</th>\n",
              "      <th>AGE_YEARS</th>\n",
              "      <th>YEARS_EMPLOYED</th>\n",
              "      <th>CNT_FAM_MEMBERS</th>\n",
              "      <th>STATUS</th>\n",
              "    </tr>\n",
              "  </thead>\n",
              "  <tbody>\n",
              "    <tr>\n",
              "      <th>0</th>\n",
              "      <td>5008804</td>\n",
              "      <td>M</td>\n",
              "      <td>Y</td>\n",
              "      <td>Y</td>\n",
              "      <td>0</td>\n",
              "      <td>427500.0</td>\n",
              "      <td>Working</td>\n",
              "      <td>Higher education</td>\n",
              "      <td>Civil marriage</td>\n",
              "      <td>Rented apartment</td>\n",
              "      <td>33.0</td>\n",
              "      <td>12.0</td>\n",
              "      <td>2.0</td>\n",
              "      <td>1</td>\n",
              "    </tr>\n",
              "    <tr>\n",
              "      <th>1</th>\n",
              "      <td>5008805</td>\n",
              "      <td>M</td>\n",
              "      <td>Y</td>\n",
              "      <td>Y</td>\n",
              "      <td>0</td>\n",
              "      <td>427500.0</td>\n",
              "      <td>Working</td>\n",
              "      <td>Higher education</td>\n",
              "      <td>Civil marriage</td>\n",
              "      <td>Rented apartment</td>\n",
              "      <td>33.0</td>\n",
              "      <td>12.0</td>\n",
              "      <td>2.0</td>\n",
              "      <td>1</td>\n",
              "    </tr>\n",
              "    <tr>\n",
              "      <th>2</th>\n",
              "      <td>5008806</td>\n",
              "      <td>M</td>\n",
              "      <td>Y</td>\n",
              "      <td>Y</td>\n",
              "      <td>0</td>\n",
              "      <td>112500.0</td>\n",
              "      <td>Working</td>\n",
              "      <td>Secondary / secondary special</td>\n",
              "      <td>Married</td>\n",
              "      <td>House / apartment</td>\n",
              "      <td>59.0</td>\n",
              "      <td>3.0</td>\n",
              "      <td>2.0</td>\n",
              "      <td>0</td>\n",
              "    </tr>\n",
              "    <tr>\n",
              "      <th>3</th>\n",
              "      <td>5008808</td>\n",
              "      <td>F</td>\n",
              "      <td>N</td>\n",
              "      <td>Y</td>\n",
              "      <td>0</td>\n",
              "      <td>270000.0</td>\n",
              "      <td>Commercial associate</td>\n",
              "      <td>Secondary / secondary special</td>\n",
              "      <td>Single / not married</td>\n",
              "      <td>House / apartment</td>\n",
              "      <td>52.0</td>\n",
              "      <td>8.0</td>\n",
              "      <td>1.0</td>\n",
              "      <td>0</td>\n",
              "    </tr>\n",
              "    <tr>\n",
              "      <th>4</th>\n",
              "      <td>5008809</td>\n",
              "      <td>F</td>\n",
              "      <td>N</td>\n",
              "      <td>Y</td>\n",
              "      <td>0</td>\n",
              "      <td>270000.0</td>\n",
              "      <td>Commercial associate</td>\n",
              "      <td>Secondary / secondary special</td>\n",
              "      <td>Single / not married</td>\n",
              "      <td>House / apartment</td>\n",
              "      <td>52.0</td>\n",
              "      <td>8.0</td>\n",
              "      <td>1.0</td>\n",
              "      <td>0</td>\n",
              "    </tr>\n",
              "  </tbody>\n",
              "</table>\n",
              "</div>\n",
              "      <button class=\"colab-df-convert\" onclick=\"convertToInteractive('df-1a63cd32-fd62-4d9d-aae4-a7abd2958f27')\"\n",
              "              title=\"Convert this dataframe to an interactive table.\"\n",
              "              style=\"display:none;\">\n",
              "        \n",
              "  <svg xmlns=\"http://www.w3.org/2000/svg\" height=\"24px\"viewBox=\"0 0 24 24\"\n",
              "       width=\"24px\">\n",
              "    <path d=\"M0 0h24v24H0V0z\" fill=\"none\"/>\n",
              "    <path d=\"M18.56 5.44l.94 2.06.94-2.06 2.06-.94-2.06-.94-.94-2.06-.94 2.06-2.06.94zm-11 1L8.5 8.5l.94-2.06 2.06-.94-2.06-.94L8.5 2.5l-.94 2.06-2.06.94zm10 10l.94 2.06.94-2.06 2.06-.94-2.06-.94-.94-2.06-.94 2.06-2.06.94z\"/><path d=\"M17.41 7.96l-1.37-1.37c-.4-.4-.92-.59-1.43-.59-.52 0-1.04.2-1.43.59L10.3 9.45l-7.72 7.72c-.78.78-.78 2.05 0 2.83L4 21.41c.39.39.9.59 1.41.59.51 0 1.02-.2 1.41-.59l7.78-7.78 2.81-2.81c.8-.78.8-2.07 0-2.86zM5.41 20L4 18.59l7.72-7.72 1.47 1.35L5.41 20z\"/>\n",
              "  </svg>\n",
              "      </button>\n",
              "      \n",
              "  <style>\n",
              "    .colab-df-container {\n",
              "      display:flex;\n",
              "      flex-wrap:wrap;\n",
              "      gap: 12px;\n",
              "    }\n",
              "\n",
              "    .colab-df-convert {\n",
              "      background-color: #E8F0FE;\n",
              "      border: none;\n",
              "      border-radius: 50%;\n",
              "      cursor: pointer;\n",
              "      display: none;\n",
              "      fill: #1967D2;\n",
              "      height: 32px;\n",
              "      padding: 0 0 0 0;\n",
              "      width: 32px;\n",
              "    }\n",
              "\n",
              "    .colab-df-convert:hover {\n",
              "      background-color: #E2EBFA;\n",
              "      box-shadow: 0px 1px 2px rgba(60, 64, 67, 0.3), 0px 1px 3px 1px rgba(60, 64, 67, 0.15);\n",
              "      fill: #174EA6;\n",
              "    }\n",
              "\n",
              "    [theme=dark] .colab-df-convert {\n",
              "      background-color: #3B4455;\n",
              "      fill: #D2E3FC;\n",
              "    }\n",
              "\n",
              "    [theme=dark] .colab-df-convert:hover {\n",
              "      background-color: #434B5C;\n",
              "      box-shadow: 0px 1px 3px 1px rgba(0, 0, 0, 0.15);\n",
              "      filter: drop-shadow(0px 1px 2px rgba(0, 0, 0, 0.3));\n",
              "      fill: #FFFFFF;\n",
              "    }\n",
              "  </style>\n",
              "\n",
              "      <script>\n",
              "        const buttonEl =\n",
              "          document.querySelector('#df-1a63cd32-fd62-4d9d-aae4-a7abd2958f27 button.colab-df-convert');\n",
              "        buttonEl.style.display =\n",
              "          google.colab.kernel.accessAllowed ? 'block' : 'none';\n",
              "\n",
              "        async function convertToInteractive(key) {\n",
              "          const element = document.querySelector('#df-1a63cd32-fd62-4d9d-aae4-a7abd2958f27');\n",
              "          const dataTable =\n",
              "            await google.colab.kernel.invokeFunction('convertToInteractive',\n",
              "                                                     [key], {});\n",
              "          if (!dataTable) return;\n",
              "\n",
              "          const docLinkHtml = 'Like what you see? Visit the ' +\n",
              "            '<a target=\"_blank\" href=https://colab.research.google.com/notebooks/data_table.ipynb>data table notebook</a>'\n",
              "            + ' to learn more about interactive tables.';\n",
              "          element.innerHTML = '';\n",
              "          dataTable['output_type'] = 'display_data';\n",
              "          await google.colab.output.renderOutput(dataTable, element);\n",
              "          const docLink = document.createElement('div');\n",
              "          docLink.innerHTML = docLinkHtml;\n",
              "          element.appendChild(docLink);\n",
              "        }\n",
              "      </script>\n",
              "    </div>\n",
              "  </div>\n",
              "  "
            ],
            "text/plain": [
              "        ID CODE_GENDER FLAG_OWN_CAR  ... YEARS_EMPLOYED  CNT_FAM_MEMBERS  STATUS\n",
              "0  5008804           M            Y  ...           12.0              2.0       1\n",
              "1  5008805           M            Y  ...           12.0              2.0       1\n",
              "2  5008806           M            Y  ...            3.0              2.0       0\n",
              "3  5008808           F            N  ...            8.0              1.0       0\n",
              "4  5008809           F            N  ...            8.0              1.0       0\n",
              "\n",
              "[5 rows x 14 columns]"
            ]
          },
          "metadata": {},
          "execution_count": 60
        }
      ]
    },
    {
      "cell_type": "code",
      "metadata": {
        "execution": {
          "iopub.execute_input": "2021-06-05T10:44:52.132627Z",
          "iopub.status.busy": "2021-06-05T10:44:52.131821Z",
          "iopub.status.idle": "2021-06-05T10:44:52.135518Z",
          "shell.execute_reply": "2021-06-05T10:44:52.135006Z",
          "shell.execute_reply.started": "2021-06-05T10:38:53.455460Z"
        },
        "papermill": {
          "duration": 0.129873,
          "end_time": "2021-06-05T10:44:52.135663",
          "exception": false,
          "start_time": "2021-06-05T10:44:52.005790",
          "status": "completed"
        },
        "tags": [],
        "colab": {
          "base_uri": "https://localhost:8080/"
        },
        "id": "accessory-strength",
        "outputId": "e68af98d-1705-48f0-8c62-b94e9a3f1a45"
      },
      "source": [
        "final_df.shape"
      ],
      "id": "accessory-strength",
      "execution_count": null,
      "outputs": [
        {
          "output_type": "execute_result",
          "data": {
            "text/plain": [
              "(36326, 14)"
            ]
          },
          "metadata": {},
          "execution_count": 61
        }
      ]
    },
    {
      "cell_type": "code",
      "metadata": {
        "execution": {
          "iopub.execute_input": "2021-06-05T10:44:52.379008Z",
          "iopub.status.busy": "2021-06-05T10:44:52.378314Z",
          "iopub.status.idle": "2021-06-05T10:44:52.387675Z",
          "shell.execute_reply": "2021-06-05T10:44:52.387078Z",
          "shell.execute_reply.started": "2021-06-05T10:38:53.461299Z"
        },
        "papermill": {
          "duration": 0.13284,
          "end_time": "2021-06-05T10:44:52.387818",
          "exception": false,
          "start_time": "2021-06-05T10:44:52.254978",
          "status": "completed"
        },
        "tags": [],
        "id": "clean-diploma"
      },
      "source": [
        "# dropping 'ID' column as it is having only unique values (not required for ML Model)\n",
        "final_df.drop('ID', axis=1, inplace=True)"
      ],
      "id": "clean-diploma",
      "execution_count": null,
      "outputs": []
    },
    {
      "cell_type": "code",
      "metadata": {
        "execution": {
          "iopub.execute_input": "2021-06-05T10:44:52.634226Z",
          "iopub.status.busy": "2021-06-05T10:44:52.633357Z",
          "iopub.status.idle": "2021-06-05T10:44:52.663109Z",
          "shell.execute_reply": "2021-06-05T10:44:52.662590Z",
          "shell.execute_reply.started": "2021-06-05T10:38:53.485333Z"
        },
        "papermill": {
          "duration": 0.155178,
          "end_time": "2021-06-05T10:44:52.663280",
          "exception": false,
          "start_time": "2021-06-05T10:44:52.508102",
          "status": "completed"
        },
        "tags": [],
        "colab": {
          "base_uri": "https://localhost:8080/"
        },
        "id": "protecting-drunk",
        "outputId": "a1c687c0-2908-415c-976d-33a479d1be50"
      },
      "source": [
        "# checking if there are still duplicate rows in Final Dataframe\n",
        "len(final_df) - len(final_df.drop_duplicates())"
      ],
      "id": "protecting-drunk",
      "execution_count": null,
      "outputs": [
        {
          "output_type": "execute_result",
          "data": {
            "text/plain": [
              "25268"
            ]
          },
          "metadata": {},
          "execution_count": 63
        }
      ]
    },
    {
      "cell_type": "code",
      "metadata": {
        "execution": {
          "iopub.execute_input": "2021-06-05T10:44:52.910130Z",
          "iopub.status.busy": "2021-06-05T10:44:52.909499Z",
          "iopub.status.idle": "2021-06-05T10:44:52.937696Z",
          "shell.execute_reply": "2021-06-05T10:44:52.937116Z",
          "shell.execute_reply.started": "2021-06-05T10:38:53.524462Z"
        },
        "papermill": {
          "duration": 0.154841,
          "end_time": "2021-06-05T10:44:52.937837",
          "exception": false,
          "start_time": "2021-06-05T10:44:52.782996",
          "status": "completed"
        },
        "tags": [],
        "id": "underlying-stack"
      },
      "source": [
        "# Dropping duplicate records\n",
        "final_df = final_df.drop_duplicates()\n",
        "final_df.reset_index(drop=True ,inplace=True)"
      ],
      "id": "underlying-stack",
      "execution_count": null,
      "outputs": []
    },
    {
      "cell_type": "code",
      "metadata": {
        "execution": {
          "iopub.execute_input": "2021-06-05T10:44:53.213016Z",
          "iopub.status.busy": "2021-06-05T10:44:53.212364Z",
          "iopub.status.idle": "2021-06-05T10:44:53.216745Z",
          "shell.execute_reply": "2021-06-05T10:44:53.217254Z",
          "shell.execute_reply.started": "2021-06-05T10:38:53.559313Z"
        },
        "papermill": {
          "duration": 0.1293,
          "end_time": "2021-06-05T10:44:53.217440",
          "exception": false,
          "start_time": "2021-06-05T10:44:53.088140",
          "status": "completed"
        },
        "tags": [],
        "colab": {
          "base_uri": "https://localhost:8080/"
        },
        "id": "remarkable-programmer",
        "outputId": "c90924d5-bc7c-4f51-90c5-1f01bfcf60ae"
      },
      "source": [
        "final_df.shape"
      ],
      "id": "remarkable-programmer",
      "execution_count": null,
      "outputs": [
        {
          "output_type": "execute_result",
          "data": {
            "text/plain": [
              "(11058, 13)"
            ]
          },
          "metadata": {},
          "execution_count": 65
        }
      ]
    },
    {
      "cell_type": "code",
      "metadata": {
        "execution": {
          "iopub.execute_input": "2021-06-05T10:44:53.461883Z",
          "iopub.status.busy": "2021-06-05T10:44:53.461241Z",
          "iopub.status.idle": "2021-06-05T10:44:53.476179Z",
          "shell.execute_reply": "2021-06-05T10:44:53.476694Z",
          "shell.execute_reply.started": "2021-06-05T10:38:53.566770Z"
        },
        "papermill": {
          "duration": 0.138686,
          "end_time": "2021-06-05T10:44:53.476860",
          "exception": false,
          "start_time": "2021-06-05T10:44:53.338174",
          "status": "completed"
        },
        "tags": [],
        "colab": {
          "base_uri": "https://localhost:8080/"
        },
        "id": "blank-sitting",
        "outputId": "7e85d70c-04f8-4943-e3c6-aa310e440217"
      },
      "source": [
        "final_df.isnull().sum()"
      ],
      "id": "blank-sitting",
      "execution_count": null,
      "outputs": [
        {
          "output_type": "execute_result",
          "data": {
            "text/plain": [
              "CODE_GENDER            0\n",
              "FLAG_OWN_CAR           0\n",
              "FLAG_OWN_REALTY        0\n",
              "CNT_CHILDREN           0\n",
              "AMT_INCOME_TOTAL       0\n",
              "NAME_INCOME_TYPE       0\n",
              "NAME_EDUCATION_TYPE    0\n",
              "NAME_FAMILY_STATUS     0\n",
              "NAME_HOUSING_TYPE      0\n",
              "AGE_YEARS              0\n",
              "YEARS_EMPLOYED         0\n",
              "CNT_FAM_MEMBERS        0\n",
              "STATUS                 0\n",
              "dtype: int64"
            ]
          },
          "metadata": {},
          "execution_count": 66
        }
      ]
    },
    {
      "cell_type": "code",
      "metadata": {
        "execution": {
          "iopub.execute_input": "2021-06-05T10:44:53.726974Z",
          "iopub.status.busy": "2021-06-05T10:44:53.726120Z",
          "iopub.status.idle": "2021-06-05T10:44:53.730203Z",
          "shell.execute_reply": "2021-06-05T10:44:53.729608Z",
          "shell.execute_reply.started": "2021-06-05T10:38:53.594463Z"
        },
        "papermill": {
          "duration": 0.131113,
          "end_time": "2021-06-05T10:44:53.730346",
          "exception": false,
          "start_time": "2021-06-05T10:44:53.599233",
          "status": "completed"
        },
        "tags": [],
        "colab": {
          "base_uri": "https://localhost:8080/"
        },
        "id": "hungarian-charleston",
        "outputId": "2deb7cdf-9ff4-494b-c7de-6b8ccddc6fa2"
      },
      "source": [
        "final_df['STATUS'].value_counts(normalize=True)*100"
      ],
      "id": "hungarian-charleston",
      "execution_count": null,
      "outputs": [
        {
          "output_type": "execute_result",
          "data": {
            "text/plain": [
              "0    78.513294\n",
              "1    21.486706\n",
              "Name: STATUS, dtype: float64"
            ]
          },
          "metadata": {},
          "execution_count": 67
        }
      ]
    },
    {
      "cell_type": "markdown",
      "metadata": {
        "papermill": {
          "duration": 0.120797,
          "end_time": "2021-06-05T10:44:53.971033",
          "exception": false,
          "start_time": "2021-06-05T10:44:53.850236",
          "status": "completed"
        },
        "tags": [],
        "id": "danish-horror"
      },
      "source": [
        "# Visualization"
      ],
      "id": "danish-horror"
    },
    {
      "cell_type": "code",
      "metadata": {
        "execution": {
          "iopub.execute_input": "2021-06-05T10:44:54.234700Z",
          "iopub.status.busy": "2021-06-05T10:44:54.233670Z",
          "iopub.status.idle": "2021-06-05T10:44:54.237554Z",
          "shell.execute_reply": "2021-06-05T10:44:54.237991Z",
          "shell.execute_reply.started": "2021-06-05T10:38:53.606879Z"
        },
        "papermill": {
          "duration": 0.144408,
          "end_time": "2021-06-05T10:44:54.238163",
          "exception": false,
          "start_time": "2021-06-05T10:44:54.093755",
          "status": "completed"
        },
        "tags": [],
        "colab": {
          "base_uri": "https://localhost:8080/",
          "height": 305
        },
        "id": "electrical-specific",
        "outputId": "77fb281a-65e2-4a76-a6c6-b05fd2cf2e75"
      },
      "source": [
        "final_df.head()"
      ],
      "id": "electrical-specific",
      "execution_count": null,
      "outputs": [
        {
          "output_type": "execute_result",
          "data": {
            "text/html": [
              "\n",
              "  <div id=\"df-35de3620-5076-4100-a449-84325f88dffa\">\n",
              "    <div class=\"colab-df-container\">\n",
              "      <div>\n",
              "<style scoped>\n",
              "    .dataframe tbody tr th:only-of-type {\n",
              "        vertical-align: middle;\n",
              "    }\n",
              "\n",
              "    .dataframe tbody tr th {\n",
              "        vertical-align: top;\n",
              "    }\n",
              "\n",
              "    .dataframe thead th {\n",
              "        text-align: right;\n",
              "    }\n",
              "</style>\n",
              "<table border=\"1\" class=\"dataframe\">\n",
              "  <thead>\n",
              "    <tr style=\"text-align: right;\">\n",
              "      <th></th>\n",
              "      <th>CODE_GENDER</th>\n",
              "      <th>FLAG_OWN_CAR</th>\n",
              "      <th>FLAG_OWN_REALTY</th>\n",
              "      <th>CNT_CHILDREN</th>\n",
              "      <th>AMT_INCOME_TOTAL</th>\n",
              "      <th>NAME_INCOME_TYPE</th>\n",
              "      <th>NAME_EDUCATION_TYPE</th>\n",
              "      <th>NAME_FAMILY_STATUS</th>\n",
              "      <th>NAME_HOUSING_TYPE</th>\n",
              "      <th>AGE_YEARS</th>\n",
              "      <th>YEARS_EMPLOYED</th>\n",
              "      <th>CNT_FAM_MEMBERS</th>\n",
              "      <th>STATUS</th>\n",
              "    </tr>\n",
              "  </thead>\n",
              "  <tbody>\n",
              "    <tr>\n",
              "      <th>0</th>\n",
              "      <td>M</td>\n",
              "      <td>Y</td>\n",
              "      <td>Y</td>\n",
              "      <td>0</td>\n",
              "      <td>427500.0</td>\n",
              "      <td>Working</td>\n",
              "      <td>Higher education</td>\n",
              "      <td>Civil marriage</td>\n",
              "      <td>Rented apartment</td>\n",
              "      <td>33.0</td>\n",
              "      <td>12.0</td>\n",
              "      <td>2.0</td>\n",
              "      <td>1</td>\n",
              "    </tr>\n",
              "    <tr>\n",
              "      <th>1</th>\n",
              "      <td>M</td>\n",
              "      <td>Y</td>\n",
              "      <td>Y</td>\n",
              "      <td>0</td>\n",
              "      <td>112500.0</td>\n",
              "      <td>Working</td>\n",
              "      <td>Secondary / secondary special</td>\n",
              "      <td>Married</td>\n",
              "      <td>House / apartment</td>\n",
              "      <td>59.0</td>\n",
              "      <td>3.0</td>\n",
              "      <td>2.0</td>\n",
              "      <td>0</td>\n",
              "    </tr>\n",
              "    <tr>\n",
              "      <th>2</th>\n",
              "      <td>F</td>\n",
              "      <td>N</td>\n",
              "      <td>Y</td>\n",
              "      <td>0</td>\n",
              "      <td>270000.0</td>\n",
              "      <td>Commercial associate</td>\n",
              "      <td>Secondary / secondary special</td>\n",
              "      <td>Single / not married</td>\n",
              "      <td>House / apartment</td>\n",
              "      <td>52.0</td>\n",
              "      <td>8.0</td>\n",
              "      <td>1.0</td>\n",
              "      <td>0</td>\n",
              "    </tr>\n",
              "    <tr>\n",
              "      <th>3</th>\n",
              "      <td>F</td>\n",
              "      <td>N</td>\n",
              "      <td>Y</td>\n",
              "      <td>0</td>\n",
              "      <td>283500.0</td>\n",
              "      <td>Pensioner</td>\n",
              "      <td>Higher education</td>\n",
              "      <td>Separated</td>\n",
              "      <td>House / apartment</td>\n",
              "      <td>62.0</td>\n",
              "      <td>0.0</td>\n",
              "      <td>1.0</td>\n",
              "      <td>0</td>\n",
              "    </tr>\n",
              "    <tr>\n",
              "      <th>4</th>\n",
              "      <td>M</td>\n",
              "      <td>Y</td>\n",
              "      <td>Y</td>\n",
              "      <td>0</td>\n",
              "      <td>270000.0</td>\n",
              "      <td>Working</td>\n",
              "      <td>Higher education</td>\n",
              "      <td>Married</td>\n",
              "      <td>House / apartment</td>\n",
              "      <td>46.0</td>\n",
              "      <td>2.0</td>\n",
              "      <td>2.0</td>\n",
              "      <td>0</td>\n",
              "    </tr>\n",
              "  </tbody>\n",
              "</table>\n",
              "</div>\n",
              "      <button class=\"colab-df-convert\" onclick=\"convertToInteractive('df-35de3620-5076-4100-a449-84325f88dffa')\"\n",
              "              title=\"Convert this dataframe to an interactive table.\"\n",
              "              style=\"display:none;\">\n",
              "        \n",
              "  <svg xmlns=\"http://www.w3.org/2000/svg\" height=\"24px\"viewBox=\"0 0 24 24\"\n",
              "       width=\"24px\">\n",
              "    <path d=\"M0 0h24v24H0V0z\" fill=\"none\"/>\n",
              "    <path d=\"M18.56 5.44l.94 2.06.94-2.06 2.06-.94-2.06-.94-.94-2.06-.94 2.06-2.06.94zm-11 1L8.5 8.5l.94-2.06 2.06-.94-2.06-.94L8.5 2.5l-.94 2.06-2.06.94zm10 10l.94 2.06.94-2.06 2.06-.94-2.06-.94-.94-2.06-.94 2.06-2.06.94z\"/><path d=\"M17.41 7.96l-1.37-1.37c-.4-.4-.92-.59-1.43-.59-.52 0-1.04.2-1.43.59L10.3 9.45l-7.72 7.72c-.78.78-.78 2.05 0 2.83L4 21.41c.39.39.9.59 1.41.59.51 0 1.02-.2 1.41-.59l7.78-7.78 2.81-2.81c.8-.78.8-2.07 0-2.86zM5.41 20L4 18.59l7.72-7.72 1.47 1.35L5.41 20z\"/>\n",
              "  </svg>\n",
              "      </button>\n",
              "      \n",
              "  <style>\n",
              "    .colab-df-container {\n",
              "      display:flex;\n",
              "      flex-wrap:wrap;\n",
              "      gap: 12px;\n",
              "    }\n",
              "\n",
              "    .colab-df-convert {\n",
              "      background-color: #E8F0FE;\n",
              "      border: none;\n",
              "      border-radius: 50%;\n",
              "      cursor: pointer;\n",
              "      display: none;\n",
              "      fill: #1967D2;\n",
              "      height: 32px;\n",
              "      padding: 0 0 0 0;\n",
              "      width: 32px;\n",
              "    }\n",
              "\n",
              "    .colab-df-convert:hover {\n",
              "      background-color: #E2EBFA;\n",
              "      box-shadow: 0px 1px 2px rgba(60, 64, 67, 0.3), 0px 1px 3px 1px rgba(60, 64, 67, 0.15);\n",
              "      fill: #174EA6;\n",
              "    }\n",
              "\n",
              "    [theme=dark] .colab-df-convert {\n",
              "      background-color: #3B4455;\n",
              "      fill: #D2E3FC;\n",
              "    }\n",
              "\n",
              "    [theme=dark] .colab-df-convert:hover {\n",
              "      background-color: #434B5C;\n",
              "      box-shadow: 0px 1px 3px 1px rgba(0, 0, 0, 0.15);\n",
              "      filter: drop-shadow(0px 1px 2px rgba(0, 0, 0, 0.3));\n",
              "      fill: #FFFFFF;\n",
              "    }\n",
              "  </style>\n",
              "\n",
              "      <script>\n",
              "        const buttonEl =\n",
              "          document.querySelector('#df-35de3620-5076-4100-a449-84325f88dffa button.colab-df-convert');\n",
              "        buttonEl.style.display =\n",
              "          google.colab.kernel.accessAllowed ? 'block' : 'none';\n",
              "\n",
              "        async function convertToInteractive(key) {\n",
              "          const element = document.querySelector('#df-35de3620-5076-4100-a449-84325f88dffa');\n",
              "          const dataTable =\n",
              "            await google.colab.kernel.invokeFunction('convertToInteractive',\n",
              "                                                     [key], {});\n",
              "          if (!dataTable) return;\n",
              "\n",
              "          const docLinkHtml = 'Like what you see? Visit the ' +\n",
              "            '<a target=\"_blank\" href=https://colab.research.google.com/notebooks/data_table.ipynb>data table notebook</a>'\n",
              "            + ' to learn more about interactive tables.';\n",
              "          element.innerHTML = '';\n",
              "          dataTable['output_type'] = 'display_data';\n",
              "          await google.colab.output.renderOutput(dataTable, element);\n",
              "          const docLink = document.createElement('div');\n",
              "          docLink.innerHTML = docLinkHtml;\n",
              "          element.appendChild(docLink);\n",
              "        }\n",
              "      </script>\n",
              "    </div>\n",
              "  </div>\n",
              "  "
            ],
            "text/plain": [
              "  CODE_GENDER FLAG_OWN_CAR  ... CNT_FAM_MEMBERS  STATUS\n",
              "0           M            Y  ...             2.0       1\n",
              "1           M            Y  ...             2.0       0\n",
              "2           F            N  ...             1.0       0\n",
              "3           F            N  ...             1.0       0\n",
              "4           M            Y  ...             2.0       0\n",
              "\n",
              "[5 rows x 13 columns]"
            ]
          },
          "metadata": {},
          "execution_count": 68
        }
      ]
    },
    {
      "cell_type": "code",
      "metadata": {
        "execution": {
          "iopub.execute_input": "2021-06-05T10:44:54.490662Z",
          "iopub.status.busy": "2021-06-05T10:44:54.489783Z",
          "iopub.status.idle": "2021-06-05T10:44:55.034124Z",
          "shell.execute_reply": "2021-06-05T10:44:55.033620Z",
          "shell.execute_reply.started": "2021-06-05T10:38:53.638518Z"
        },
        "papermill": {
          "duration": 0.673074,
          "end_time": "2021-06-05T10:44:55.034263",
          "exception": false,
          "start_time": "2021-06-05T10:44:54.361189",
          "status": "completed"
        },
        "tags": [],
        "colab": {
          "base_uri": "https://localhost:8080/",
          "height": 580
        },
        "id": "amber-cliff",
        "outputId": "dec854a5-0070-4f78-9bad-b46550126ac5"
      },
      "source": [
        "# This graph shows that, there is no column (Feature) which is highly co-related with 'Status'\n",
        "plt.figure(figsize = (8,8))\n",
        "sns.heatmap(final_df.corr(), annot=True)\n",
        "plt.show()"
      ],
      "id": "amber-cliff",
      "execution_count": null,
      "outputs": [
        {
          "output_type": "display_data",
          "data": {
            "image/png": "[encoded data removed]",
            "text/plain": [
              "<Figure size 576x576 with 2 Axes>"
            ]
          },
          "metadata": {
            "needs_background": "light"
          }
        }
      ]
    },
    {
      "cell_type": "code",
      "metadata": {
        "execution": {
          "iopub.execute_input": "2021-06-05T10:44:55.314647Z",
          "iopub.status.busy": "2021-06-05T10:44:55.313902Z",
          "iopub.status.idle": "2021-06-05T10:44:55.376718Z",
          "shell.execute_reply": "2021-06-05T10:44:55.376180Z",
          "shell.execute_reply.started": "2021-06-05T10:38:54.157236Z"
        },
        "papermill": {
          "duration": 0.219495,
          "end_time": "2021-06-05T10:44:55.376869",
          "exception": false,
          "start_time": "2021-06-05T10:44:55.157374",
          "status": "completed"
        },
        "tags": [],
        "colab": {
          "base_uri": "https://localhost:8080/",
          "height": 264
        },
        "id": "sufficient-humanity",
        "outputId": "109af575-eeaa-4588-a8dc-245c71302b8c"
      },
      "source": [
        "# This graph shows that, majority of application are submitted by Female's\n",
        "plt.pie(final_df['CODE_GENDER'].value_counts(), labels=['Female', 'Male'], autopct='%1.2f%%')\n",
        "plt.title('% of Applications submitted based on Gender')\n",
        "plt.show()"
      ],
      "id": "sufficient-humanity",
      "execution_count": null,
      "outputs": [
        {
          "output_type": "display_data",
          "data": {
            "image/png": "[encoded data removed]",
            "text/plain": [
              "<Figure size 432x288 with 1 Axes>"
            ]
          },
          "metadata": {}
        }
      ]
    },
    {
      "cell_type": "code",
      "metadata": {
        "execution": {
          "iopub.execute_input": "2021-06-05T10:44:55.632393Z",
          "iopub.status.busy": "2021-06-05T10:44:55.631731Z",
          "iopub.status.idle": "2021-06-05T10:44:55.715667Z",
          "shell.execute_reply": "2021-06-05T10:44:55.716109Z",
          "shell.execute_reply.started": "2021-06-05T10:38:54.254523Z"
        },
        "papermill": {
          "duration": 0.214839,
          "end_time": "2021-06-05T10:44:55.716279",
          "exception": false,
          "start_time": "2021-06-05T10:44:55.501440",
          "status": "completed"
        },
        "tags": [],
        "colab": {
          "base_uri": "https://localhost:8080/",
          "height": 264
        },
        "id": "enormous-night",
        "outputId": "077ec5e6-76a3-4f99-a9aa-afc8badf650e"
      },
      "source": [
        "# This graph shows that, majority of application are approved for Female's\n",
        "plt.pie(final_df[final_df['STATUS']==0]['CODE_GENDER'].value_counts(), labels=['Female', 'Male'], autopct='%1.2f%%')\n",
        "plt.title('% of Applications Approved based on Gender')\n",
        "plt.show()"
      ],
      "id": "enormous-night",
      "execution_count": null,
      "outputs": [
        {
          "output_type": "display_data",
          "data": {
            "image/png": "[encoded data removed]",
            "text/plain": [
              "<Figure size 432x288 with 1 Axes>"
            ]
          },
          "metadata": {}
        }
      ]
    },
    {
      "cell_type": "code",
      "metadata": {
        "execution": {
          "iopub.execute_input": "2021-06-05T10:44:56.001931Z",
          "iopub.status.busy": "2021-06-05T10:44:55.999658Z",
          "iopub.status.idle": "2021-06-05T10:44:56.061370Z",
          "shell.execute_reply": "2021-06-05T10:44:56.061859Z",
          "shell.execute_reply.started": "2021-06-05T10:38:54.346052Z"
        },
        "papermill": {
          "duration": 0.22143,
          "end_time": "2021-06-05T10:44:56.062041",
          "exception": false,
          "start_time": "2021-06-05T10:44:55.840611",
          "status": "completed"
        },
        "tags": [],
        "colab": {
          "base_uri": "https://localhost:8080/",
          "height": 264
        },
        "id": "disabled-monthly",
        "outputId": "03c6c055-2f37-4f62-c98b-6b93a21f641f"
      },
      "source": [
        "# This graph shows that, majority of applicatant's dont own a car\n",
        "plt.pie(final_df['FLAG_OWN_CAR'].value_counts(), labels=['No', 'Yes'], autopct='%1.2f%%')\n",
        "plt.title('% of Applications submitted based on owning a Car')\n",
        "plt.show()"
      ],
      "id": "disabled-monthly",
      "execution_count": null,
      "outputs": [
        {
          "output_type": "display_data",
          "data": {
            "image/png": "[encoded data removed]",
            "text/plain": [
              "<Figure size 432x288 with 1 Axes>"
            ]
          },
          "metadata": {}
        }
      ]
    },
    {
      "cell_type": "code",
      "metadata": {
        "execution": {
          "iopub.execute_input": "2021-06-05T10:44:56.343207Z",
          "iopub.status.busy": "2021-06-05T10:44:56.342453Z",
          "iopub.status.idle": "2021-06-05T10:44:56.409438Z",
          "shell.execute_reply": "2021-06-05T10:44:56.408943Z",
          "shell.execute_reply.started": "2021-06-05T10:38:54.444195Z"
        },
        "papermill": {
          "duration": 0.221766,
          "end_time": "2021-06-05T10:44:56.409589",
          "exception": false,
          "start_time": "2021-06-05T10:44:56.187823",
          "status": "completed"
        },
        "tags": [],
        "colab": {
          "base_uri": "https://localhost:8080/",
          "height": 264
        },
        "id": "tested-portland",
        "outputId": "90be6b9b-9ae7-4e08-ffe3-97f8822531a9"
      },
      "source": [
        "# This graph shows that, majority of applicatant's own a Real Estate property / House\n",
        "plt.pie(final_df['FLAG_OWN_REALTY'].value_counts(), labels=['Yes','No'], autopct='%1.2f%%')\n",
        "plt.title('% of Applications submitted based on owning a Real estate property')\n",
        "plt.show()"
      ],
      "id": "tested-portland",
      "execution_count": null,
      "outputs": [
        {
          "output_type": "display_data",
          "data": {
            "image/png": "[encoded data removed]",
            "text/plain": [
              "<Figure size 432x288 with 1 Axes>"
            ]
          },
          "metadata": {}
        }
      ]
    },
    {
      "cell_type": "code",
      "metadata": {
        "execution": {
          "iopub.execute_input": "2021-06-05T10:44:56.685673Z",
          "iopub.status.busy": "2021-06-05T10:44:56.671914Z",
          "iopub.status.idle": "2021-06-05T10:44:56.880843Z",
          "shell.execute_reply": "2021-06-05T10:44:56.880218Z",
          "shell.execute_reply.started": "2021-06-05T10:38:54.545471Z"
        },
        "papermill": {
          "duration": 0.344123,
          "end_time": "2021-06-05T10:44:56.880985",
          "exception": false,
          "start_time": "2021-06-05T10:44:56.536862",
          "status": "completed"
        },
        "tags": [],
        "colab": {
          "base_uri": "https://localhost:8080/",
          "height": 482
        },
        "id": "searching-south",
        "outputId": "de721731-8bef-474f-9ed2-8f36766e0e2b"
      },
      "source": [
        "# This graph shows that, majority of applicatant's don't have any children\n",
        "plt.figure(figsize = (8,8))\n",
        "plt.pie(final_df['CNT_CHILDREN'].value_counts(), labels=final_df['CNT_CHILDREN'].value_counts().index, autopct='%1.2f%%')\n",
        "plt.title('% of Applications submitted based on Children count')\n",
        "plt.legend()\n",
        "plt.show()"
      ],
      "id": "searching-south",
      "execution_count": null,
      "outputs": [
        {
          "output_type": "display_data",
          "data": {
            "image/png": "[encoded data removed]",
            "text/plain": [
              "<Figure size 576x576 with 1 Axes>"
            ]
          },
          "metadata": {}
        }
      ]
    },
    {
      "cell_type": "code",
      "metadata": {
        "execution": {
          "iopub.execute_input": "2021-06-05T10:44:57.163535Z",
          "iopub.status.busy": "2021-06-05T10:44:57.162846Z",
          "iopub.status.idle": "2021-06-05T10:44:57.301785Z",
          "shell.execute_reply": "2021-06-05T10:44:57.301149Z",
          "shell.execute_reply.started": "2021-06-05T10:38:54.771849Z"
        },
        "papermill": {
          "duration": 0.293477,
          "end_time": "2021-06-05T10:44:57.301932",
          "exception": false,
          "start_time": "2021-06-05T10:44:57.008455",
          "status": "completed"
        },
        "tags": [],
        "colab": {
          "base_uri": "https://localhost:8080/",
          "height": 295
        },
        "id": "toxic-chosen",
        "outputId": "60f12886-d1ec-4a04-e832-bf14d051a816"
      },
      "source": [
        "# This graph shows that, majority of applicatant's income lies between 1 to 3 lakh\n",
        "plt.hist(final_df['AMT_INCOME_TOTAL'], bins=20)\n",
        "plt.xlabel('Total Annual Income')\n",
        "plt.title('Histogram')\n",
        "plt.show()"
      ],
      "id": "toxic-chosen",
      "execution_count": null,
      "outputs": [
        {
          "output_type": "display_data",
          "data": {
            "image/png": "[encoded data removed]",
            "text/plain": [
              "<Figure size 432x288 with 1 Axes>"
            ]
          },
          "metadata": {
            "needs_background": "light"
          }
        }
      ]
    },
    {
      "cell_type": "code",
      "metadata": {
        "execution": {
          "iopub.execute_input": "2021-06-05T10:44:57.600336Z",
          "iopub.status.busy": "2021-06-05T10:44:57.593395Z",
          "iopub.status.idle": "2021-06-05T10:44:57.794257Z",
          "shell.execute_reply": "2021-06-05T10:44:57.793751Z",
          "shell.execute_reply.started": "2021-06-05T10:38:54.942203Z"
        },
        "papermill": {
          "duration": 0.366347,
          "end_time": "2021-06-05T10:44:57.794416",
          "exception": false,
          "start_time": "2021-06-05T10:44:57.428069",
          "status": "completed"
        },
        "tags": [],
        "colab": {
          "base_uri": "https://localhost:8080/",
          "height": 482
        },
        "id": "conceptual-initial",
        "outputId": "5799bc13-a413-4803-f316-e40cfe1afe31"
      },
      "source": [
        "# This graph shows that, majority of applicatant's are working professional\n",
        "plt.figure(figsize = (8,8))\n",
        "plt.pie(final_df['NAME_INCOME_TYPE'].value_counts(), labels=final_df['NAME_INCOME_TYPE'].value_counts().index, autopct='%1.2f%%')\n",
        "plt.title('% of Applications submitted based on Income Type')\n",
        "plt.legend()\n",
        "plt.show()"
      ],
      "id": "conceptual-initial",
      "execution_count": null,
      "outputs": [
        {
          "output_type": "display_data",
          "data": {
            "image/png": "[encoded data removed]",
            "text/plain": [
              "<Figure size 576x576 with 1 Axes>"
            ]
          },
          "metadata": {}
        }
      ]
    },
    {
      "cell_type": "code",
      "metadata": {
        "execution": {
          "iopub.execute_input": "2021-06-05T10:44:58.090990Z",
          "iopub.status.busy": "2021-06-05T10:44:58.090320Z",
          "iopub.status.idle": "2021-06-05T10:44:58.310834Z",
          "shell.execute_reply": "2021-06-05T10:44:58.311328Z",
          "shell.execute_reply.started": "2021-06-05T10:38:55.184635Z"
        },
        "papermill": {
          "duration": 0.386909,
          "end_time": "2021-06-05T10:44:58.311512",
          "exception": false,
          "start_time": "2021-06-05T10:44:57.924603",
          "status": "completed"
        },
        "tags": [],
        "colab": {
          "base_uri": "https://localhost:8080/",
          "height": 482
        },
        "id": "confidential-planet",
        "outputId": "6a6eb237-485a-4ce1-9bab-e2a485d73bcc"
      },
      "source": [
        "# This graph shows that, majority of applicatant's completed the Secondary Education\n",
        "plt.figure(figsize=(8,8))\n",
        "plt.pie(final_df['NAME_EDUCATION_TYPE'].value_counts(), labels=final_df['NAME_EDUCATION_TYPE'].value_counts().index, autopct='%1.2f%%')\n",
        "plt.title('% of Applications submitted based on Education')\n",
        "plt.legend()\n",
        "plt.show()"
      ],
      "id": "confidential-planet",
      "execution_count": null,
      "outputs": [
        {
          "output_type": "display_data",
          "data": {
            "image/png": "[encoded data removed]",
            "text/plain": [
              "<Figure size 576x576 with 1 Axes>"
            ]
          },
          "metadata": {}
        }
      ]
    },
    {
      "cell_type": "code",
      "metadata": {
        "execution": {
          "iopub.execute_input": "2021-06-05T10:44:58.593470Z",
          "iopub.status.busy": "2021-06-05T10:44:58.592814Z",
          "iopub.status.idle": "2021-06-05T10:44:58.736965Z",
          "shell.execute_reply": "2021-06-05T10:44:58.736464Z",
          "shell.execute_reply.started": "2021-06-05T10:38:55.445194Z"
        },
        "papermill": {
          "duration": 0.29561,
          "end_time": "2021-06-05T10:44:58.737110",
          "exception": false,
          "start_time": "2021-06-05T10:44:58.441500",
          "status": "completed"
        },
        "tags": [],
        "colab": {
          "base_uri": "https://localhost:8080/",
          "height": 499
        },
        "id": "fixed-speed",
        "outputId": "16443c32-371c-428e-822c-8cfeeef7746c"
      },
      "source": [
        "# This graph shows that, majority of applicatant's are married\n",
        "plt.figure(figsize=(8,8))\n",
        "sns.barplot(final_df['NAME_FAMILY_STATUS'].value_counts().index, final_df['NAME_FAMILY_STATUS'].value_counts().values)\n",
        "plt.title('% of Applications submitted based on Family Status')\n",
        "plt.show()"
      ],
      "id": "fixed-speed",
      "execution_count": null,
      "outputs": [
        {
          "output_type": "display_data",
          "data": {
            "image/png": "[encoded data removed]",
            "text/plain": [
              "<Figure size 576x576 with 1 Axes>"
            ]
          },
          "metadata": {
            "needs_background": "light"
          }
        }
      ]
    },
    {
      "cell_type": "code",
      "metadata": {
        "execution": {
          "iopub.execute_input": "2021-06-05T10:44:59.079462Z",
          "iopub.status.busy": "2021-06-05T10:44:59.078798Z",
          "iopub.status.idle": "2021-06-05T10:44:59.212986Z",
          "shell.execute_reply": "2021-06-05T10:44:59.213488Z",
          "shell.execute_reply.started": "2021-06-05T10:38:55.612544Z"
        },
        "papermill": {
          "duration": 0.302869,
          "end_time": "2021-06-05T10:44:59.213707",
          "exception": false,
          "start_time": "2021-06-05T10:44:58.910838",
          "status": "completed"
        },
        "tags": [],
        "colab": {
          "base_uri": "https://localhost:8080/",
          "height": 336
        },
        "id": "united-frequency",
        "outputId": "2c884349-3854-4041-b2a4-dbfc0a071891"
      },
      "source": [
        "# This graph shows that, majority of applicatant's lives in House / Apartment\n",
        "plt.figure(figsize=(12,5))\n",
        "sns.barplot(final_df['NAME_HOUSING_TYPE'].value_counts().index, final_df['NAME_HOUSING_TYPE'].value_counts().values)\n",
        "plt.title('% of Applications submitted based on Housing Type')\n",
        "plt.show()"
      ],
      "id": "united-frequency",
      "execution_count": null,
      "outputs": [
        {
          "output_type": "display_data",
          "data": {
            "image/png": "[encoded data removed]",
            "text/plain": [
              "<Figure size 864x360 with 1 Axes>"
            ]
          },
          "metadata": {
            "needs_background": "light"
          }
        }
      ]
    },
    {
      "cell_type": "code",
      "metadata": {
        "execution": {
          "iopub.execute_input": "2021-06-05T10:44:59.480608Z",
          "iopub.status.busy": "2021-06-05T10:44:59.479978Z",
          "iopub.status.idle": "2021-06-05T10:44:59.641942Z",
          "shell.execute_reply": "2021-06-05T10:44:59.641411Z",
          "shell.execute_reply.started": "2021-06-05T10:38:55.786113Z"
        },
        "papermill": {
          "duration": 0.296475,
          "end_time": "2021-06-05T10:44:59.642088",
          "exception": false,
          "start_time": "2021-06-05T10:44:59.345613",
          "status": "completed"
        },
        "tags": [],
        "colab": {
          "base_uri": "https://localhost:8080/",
          "height": 295
        },
        "id": "respected-brain",
        "outputId": "9fda77fb-fc41-4685-ec54-a4d6547196d7"
      },
      "source": [
        "# This graph shows that, majority of applicatant's are 25 to 65 years old\n",
        "plt.hist(final_df['AGE_YEARS'], bins=20)\n",
        "plt.xlabel('Age')\n",
        "plt.title('Histogram')\n",
        "plt.show()"
      ],
      "id": "respected-brain",
      "execution_count": null,
      "outputs": [
        {
          "output_type": "display_data",
          "data": {
            "image/png": "[encoded data removed]",
            "text/plain": [
              "<Figure size 432x288 with 1 Axes>"
            ]
          },
          "metadata": {
            "needs_background": "light"
          }
        }
      ]
    },
    {
      "cell_type": "code",
      "metadata": {
        "execution": {
          "iopub.execute_input": "2021-06-05T10:44:59.934354Z",
          "iopub.status.busy": "2021-06-05T10:44:59.933666Z",
          "iopub.status.idle": "2021-06-05T10:45:00.089335Z",
          "shell.execute_reply": "2021-06-05T10:45:00.089885Z",
          "shell.execute_reply.started": "2021-06-05T10:38:55.955591Z"
        },
        "papermill": {
          "duration": 0.314465,
          "end_time": "2021-06-05T10:45:00.090067",
          "exception": false,
          "start_time": "2021-06-05T10:44:59.775602",
          "status": "completed"
        },
        "tags": [],
        "colab": {
          "base_uri": "https://localhost:8080/",
          "height": 295
        },
        "id": "collect-portugal",
        "outputId": "85ba8174-8ac3-46cd-fee0-3e75f02b1760"
      },
      "source": [
        "# This graph shows that, majority of applicatant's are Employed for 0 to 7 years\n",
        "plt.hist(final_df['YEARS_EMPLOYED'], bins=20)\n",
        "plt.xlabel('No of Years Employed')\n",
        "plt.title('Histogram')\n",
        "plt.show()"
      ],
      "id": "collect-portugal",
      "execution_count": null,
      "outputs": [
        {
          "output_type": "display_data",
          "data": {
            "image/png": "[encoded data removed]",
            "text/plain": [
              "<Figure size 432x288 with 1 Axes>"
            ]
          },
          "metadata": {
            "needs_background": "light"
          }
        }
      ]
    },
    {
      "cell_type": "code",
      "metadata": {
        "execution": {
          "iopub.execute_input": "2021-06-05T10:45:00.365365Z",
          "iopub.status.busy": "2021-06-05T10:45:00.364227Z",
          "iopub.status.idle": "2021-06-05T10:45:00.900049Z",
          "shell.execute_reply": "2021-06-05T10:45:00.900589Z",
          "shell.execute_reply.started": "2021-06-05T10:38:56.154476Z"
        },
        "papermill": {
          "duration": 0.676304,
          "end_time": "2021-06-05T10:45:00.900758",
          "exception": false,
          "start_time": "2021-06-05T10:45:00.224454",
          "status": "completed"
        },
        "scrolled": true,
        "tags": [],
        "colab": {
          "base_uri": "https://localhost:8080/",
          "height": 296
        },
        "id": "veterinary-senate",
        "outputId": "31c7526a-805f-46a8-937c-4c8eeed561cb"
      },
      "source": [
        "# This graph shows that, majority of applications are rejected if Total income & years of Employment is less\n",
        "sns.scatterplot(final_df['YEARS_EMPLOYED'], final_df['AMT_INCOME_TOTAL'], hue=final_df['STATUS'])\n",
        "plt.title('Scatter Plot')\n",
        "plt.show()"
      ],
      "id": "veterinary-senate",
      "execution_count": null,
      "outputs": [
        {
          "output_type": "display_data",
          "data": {
            "image/png": "[encoded data removed]",
            "text/plain": [
              "<Figure size 432x288 with 1 Axes>"
            ]
          },
          "metadata": {
            "needs_background": "light"
          }
        }
      ]
    },
    {
      "cell_type": "markdown",
      "metadata": {
        "papermill": {
          "duration": 0.137271,
          "end_time": "2021-06-05T10:45:01.176203",
          "exception": false,
          "start_time": "2021-06-05T10:45:01.038932",
          "status": "completed"
        },
        "tags": [],
        "id": "racial-accuracy"
      },
      "source": [
        "# Feature Selection"
      ],
      "id": "racial-accuracy"
    },
    {
      "cell_type": "code",
      "metadata": {
        "execution": {
          "iopub.execute_input": "2021-06-05T10:45:01.469776Z",
          "iopub.status.busy": "2021-06-05T10:45:01.468859Z",
          "iopub.status.idle": "2021-06-05T10:45:01.473384Z",
          "shell.execute_reply": "2021-06-05T10:45:01.472859Z",
          "shell.execute_reply.started": "2021-06-05T10:38:56.704676Z"
        },
        "papermill": {
          "duration": 0.159875,
          "end_time": "2021-06-05T10:45:01.473521",
          "exception": false,
          "start_time": "2021-06-05T10:45:01.313646",
          "status": "completed"
        },
        "tags": [],
        "colab": {
          "base_uri": "https://localhost:8080/",
          "height": 305
        },
        "id": "accomplished-symposium",
        "outputId": "9d4a451a-01e7-43a6-9b0a-5c6a2e09ef91"
      },
      "source": [
        "final_df.head()"
      ],
      "id": "accomplished-symposium",
      "execution_count": null,
      "outputs": [
        {
          "output_type": "execute_result",
          "data": {
            "text/html": [
              "\n",
              "  <div id=\"df-4c264385-a67a-4318-bc76-c4c3c0c1bc0f\">\n",
              "    <div class=\"colab-df-container\">\n",
              "      <div>\n",
              "<style scoped>\n",
              "    .dataframe tbody tr th:only-of-type {\n",
              "        vertical-align: middle;\n",
              "    }\n",
              "\n",
              "    .dataframe tbody tr th {\n",
              "        vertical-align: top;\n",
              "    }\n",
              "\n",
              "    .dataframe thead th {\n",
              "        text-align: right;\n",
              "    }\n",
              "</style>\n",
              "<table border=\"1\" class=\"dataframe\">\n",
              "  <thead>\n",
              "    <tr style=\"text-align: right;\">\n",
              "      <th></th>\n",
              "      <th>CODE_GENDER</th>\n",
              "      <th>FLAG_OWN_CAR</th>\n",
              "      <th>FLAG_OWN_REALTY</th>\n",
              "      <th>CNT_CHILDREN</th>\n",
              "      <th>AMT_INCOME_TOTAL</th>\n",
              "      <th>NAME_INCOME_TYPE</th>\n",
              "      <th>NAME_EDUCATION_TYPE</th>\n",
              "      <th>NAME_FAMILY_STATUS</th>\n",
              "      <th>NAME_HOUSING_TYPE</th>\n",
              "      <th>AGE_YEARS</th>\n",
              "      <th>YEARS_EMPLOYED</th>\n",
              "      <th>CNT_FAM_MEMBERS</th>\n",
              "      <th>STATUS</th>\n",
              "    </tr>\n",
              "  </thead>\n",
              "  <tbody>\n",
              "    <tr>\n",
              "      <th>0</th>\n",
              "      <td>M</td>\n",
              "      <td>Y</td>\n",
              "      <td>Y</td>\n",
              "      <td>0</td>\n",
              "      <td>427500.0</td>\n",
              "      <td>Working</td>\n",
              "      <td>Higher education</td>\n",
              "      <td>Civil marriage</td>\n",
              "      <td>Rented apartment</td>\n",
              "      <td>33.0</td>\n",
              "      <td>12.0</td>\n",
              "      <td>2.0</td>\n",
              "      <td>1</td>\n",
              "    </tr>\n",
              "    <tr>\n",
              "      <th>1</th>\n",
              "      <td>M</td>\n",
              "      <td>Y</td>\n",
              "      <td>Y</td>\n",
              "      <td>0</td>\n",
              "      <td>112500.0</td>\n",
              "      <td>Working</td>\n",
              "      <td>Secondary / secondary special</td>\n",
              "      <td>Married</td>\n",
              "      <td>House / apartment</td>\n",
              "      <td>59.0</td>\n",
              "      <td>3.0</td>\n",
              "      <td>2.0</td>\n",
              "      <td>0</td>\n",
              "    </tr>\n",
              "    <tr>\n",
              "      <th>2</th>\n",
              "      <td>F</td>\n",
              "      <td>N</td>\n",
              "      <td>Y</td>\n",
              "      <td>0</td>\n",
              "      <td>270000.0</td>\n",
              "      <td>Commercial associate</td>\n",
              "      <td>Secondary / secondary special</td>\n",
              "      <td>Single / not married</td>\n",
              "      <td>House / apartment</td>\n",
              "      <td>52.0</td>\n",
              "      <td>8.0</td>\n",
              "      <td>1.0</td>\n",
              "      <td>0</td>\n",
              "    </tr>\n",
              "    <tr>\n",
              "      <th>3</th>\n",
              "      <td>F</td>\n",
              "      <td>N</td>\n",
              "      <td>Y</td>\n",
              "      <td>0</td>\n",
              "      <td>283500.0</td>\n",
              "      <td>Pensioner</td>\n",
              "      <td>Higher education</td>\n",
              "      <td>Separated</td>\n",
              "      <td>House / apartment</td>\n",
              "      <td>62.0</td>\n",
              "      <td>0.0</td>\n",
              "      <td>1.0</td>\n",
              "      <td>0</td>\n",
              "    </tr>\n",
              "    <tr>\n",
              "      <th>4</th>\n",
              "      <td>M</td>\n",
              "      <td>Y</td>\n",
              "      <td>Y</td>\n",
              "      <td>0</td>\n",
              "      <td>270000.0</td>\n",
              "      <td>Working</td>\n",
              "      <td>Higher education</td>\n",
              "      <td>Married</td>\n",
              "      <td>House / apartment</td>\n",
              "      <td>46.0</td>\n",
              "      <td>2.0</td>\n",
              "      <td>2.0</td>\n",
              "      <td>0</td>\n",
              "    </tr>\n",
              "  </tbody>\n",
              "</table>\n",
              "</div>\n",
              "      <button class=\"colab-df-convert\" onclick=\"convertToInteractive('df-4c264385-a67a-4318-bc76-c4c3c0c1bc0f')\"\n",
              "              title=\"Convert this dataframe to an interactive table.\"\n",
              "              style=\"display:none;\">\n",
              "        \n",
              "  <svg xmlns=\"http://www.w3.org/2000/svg\" height=\"24px\"viewBox=\"0 0 24 24\"\n",
              "       width=\"24px\">\n",
              "    <path d=\"M0 0h24v24H0V0z\" fill=\"none\"/>\n",
              "    <path d=\"M18.56 5.44l.94 2.06.94-2.06 2.06-.94-2.06-.94-.94-2.06-.94 2.06-2.06.94zm-11 1L8.5 8.5l.94-2.06 2.06-.94-2.06-.94L8.5 2.5l-.94 2.06-2.06.94zm10 10l.94 2.06.94-2.06 2.06-.94-2.06-.94-.94-2.06-.94 2.06-2.06.94z\"/><path d=\"M17.41 7.96l-1.37-1.37c-.4-.4-.92-.59-1.43-.59-.52 0-1.04.2-1.43.59L10.3 9.45l-7.72 7.72c-.78.78-.78 2.05 0 2.83L4 21.41c.39.39.9.59 1.41.59.51 0 1.02-.2 1.41-.59l7.78-7.78 2.81-2.81c.8-.78.8-2.07 0-2.86zM5.41 20L4 18.59l7.72-7.72 1.47 1.35L5.41 20z\"/>\n",
              "  </svg>\n",
              "      </button>\n",
              "      \n",
              "  <style>\n",
              "    .colab-df-container {\n",
              "      display:flex;\n",
              "      flex-wrap:wrap;\n",
              "      gap: 12px;\n",
              "    }\n",
              "\n",
              "    .colab-df-convert {\n",
              "      background-color: #E8F0FE;\n",
              "      border: none;\n",
              "      border-radius: 50%;\n",
              "      cursor: pointer;\n",
              "      display: none;\n",
              "      fill: #1967D2;\n",
              "      height: 32px;\n",
              "      padding: 0 0 0 0;\n",
              "      width: 32px;\n",
              "    }\n",
              "\n",
              "    .colab-df-convert:hover {\n",
              "      background-color: #E2EBFA;\n",
              "      box-shadow: 0px 1px 2px rgba(60, 64, 67, 0.3), 0px 1px 3px 1px rgba(60, 64, 67, 0.15);\n",
              "      fill: #174EA6;\n",
              "    }\n",
              "\n",
              "    [theme=dark] .colab-df-convert {\n",
              "      background-color: #3B4455;\n",
              "      fill: #D2E3FC;\n",
              "    }\n",
              "\n",
              "    [theme=dark] .colab-df-convert:hover {\n",
              "      background-color: #434B5C;\n",
              "      box-shadow: 0px 1px 3px 1px rgba(0, 0, 0, 0.15);\n",
              "      filter: drop-shadow(0px 1px 2px rgba(0, 0, 0, 0.3));\n",
              "      fill: #FFFFFF;\n",
              "    }\n",
              "  </style>\n",
              "\n",
              "      <script>\n",
              "        const buttonEl =\n",
              "          document.querySelector('#df-4c264385-a67a-4318-bc76-c4c3c0c1bc0f button.colab-df-convert');\n",
              "        buttonEl.style.display =\n",
              "          google.colab.kernel.accessAllowed ? 'block' : 'none';\n",
              "\n",
              "        async function convertToInteractive(key) {\n",
              "          const element = document.querySelector('#df-4c264385-a67a-4318-bc76-c4c3c0c1bc0f');\n",
              "          const dataTable =\n",
              "            await google.colab.kernel.invokeFunction('convertToInteractive',\n",
              "                                                     [key], {});\n",
              "          if (!dataTable) return;\n",
              "\n",
              "          const docLinkHtml = 'Like what you see? Visit the ' +\n",
              "            '<a target=\"_blank\" href=https://colab.research.google.com/notebooks/data_table.ipynb>data table notebook</a>'\n",
              "            + ' to learn more about interactive tables.';\n",
              "          element.innerHTML = '';\n",
              "          dataTable['output_type'] = 'display_data';\n",
              "          await google.colab.output.renderOutput(dataTable, element);\n",
              "          const docLink = document.createElement('div');\n",
              "          docLink.innerHTML = docLinkHtml;\n",
              "          element.appendChild(docLink);\n",
              "        }\n",
              "      </script>\n",
              "    </div>\n",
              "  </div>\n",
              "  "
            ],
            "text/plain": [
              "  CODE_GENDER FLAG_OWN_CAR  ... CNT_FAM_MEMBERS  STATUS\n",
              "0           M            Y  ...             2.0       1\n",
              "1           M            Y  ...             2.0       0\n",
              "2           F            N  ...             1.0       0\n",
              "3           F            N  ...             1.0       0\n",
              "4           M            Y  ...             2.0       0\n",
              "\n",
              "[5 rows x 13 columns]"
            ]
          },
          "metadata": {},
          "execution_count": 83
        }
      ]
    },
    {
      "cell_type": "code",
      "metadata": {
        "execution": {
          "iopub.execute_input": "2021-06-05T10:45:01.755953Z",
          "iopub.status.busy": "2021-06-05T10:45:01.755079Z",
          "iopub.status.idle": "2021-06-05T10:45:01.758881Z",
          "shell.execute_reply": "2021-06-05T10:45:01.759421Z",
          "shell.execute_reply.started": "2021-06-05T10:38:56.726758Z"
        },
        "papermill": {
          "duration": 0.148005,
          "end_time": "2021-06-05T10:45:01.759598",
          "exception": false,
          "start_time": "2021-06-05T10:45:01.611593",
          "status": "completed"
        },
        "tags": [],
        "colab": {
          "base_uri": "https://localhost:8080/"
        },
        "id": "injured-maker",
        "outputId": "f2d8db90-ae8d-43c1-ad34-bd11fde9b2ee"
      },
      "source": [
        "cat_columns = final_df.columns[(final_df.dtypes =='object').values].tolist()\n",
        "cat_columns"
      ],
      "id": "injured-maker",
      "execution_count": null,
      "outputs": [
        {
          "output_type": "execute_result",
          "data": {
            "text/plain": [
              "['CODE_GENDER',\n",
              " 'FLAG_OWN_CAR',\n",
              " 'FLAG_OWN_REALTY',\n",
              " 'NAME_INCOME_TYPE',\n",
              " 'NAME_EDUCATION_TYPE',\n",
              " 'NAME_FAMILY_STATUS',\n",
              " 'NAME_HOUSING_TYPE']"
            ]
          },
          "metadata": {},
          "execution_count": 84
        }
      ]
    },
    {
      "cell_type": "code",
      "metadata": {
        "execution": {
          "iopub.execute_input": "2021-06-05T10:45:02.038697Z",
          "iopub.status.busy": "2021-06-05T10:45:02.037991Z",
          "iopub.status.idle": "2021-06-05T10:45:02.207702Z",
          "shell.execute_reply": "2021-06-05T10:45:02.208142Z",
          "shell.execute_reply.started": "2021-06-05T10:38:56.742121Z"
        },
        "papermill": {
          "duration": 0.311994,
          "end_time": "2021-06-05T10:45:02.208326",
          "exception": false,
          "start_time": "2021-06-05T10:45:01.896332",
          "status": "completed"
        },
        "tags": [],
        "colab": {
          "base_uri": "https://localhost:8080/",
          "height": 270
        },
        "id": "reported-structure",
        "outputId": "89dba6ce-593d-491a-f8d9-88030d6acef7"
      },
      "source": [
        "#Converting all Non-Numerical Columns to Numerical\n",
        "from sklearn.preprocessing import LabelEncoder\n",
        "\n",
        "for col in cat_columns:\n",
        "        globals()['LE_{}'.format(col)] = LabelEncoder()\n",
        "        final_df[col] = globals()['LE_{}'.format(col)].fit_transform(final_df[col])\n",
        "final_df.head()    "
      ],
      "id": "reported-structure",
      "execution_count": null,
      "outputs": [
        {
          "output_type": "execute_result",
          "data": {
            "text/html": [
              "\n",
              "  <div id=\"df-89c49e70-a9c6-4675-aebc-eccb4155ad1f\">\n",
              "    <div class=\"colab-df-container\">\n",
              "      <div>\n",
              "<style scoped>\n",
              "    .dataframe tbody tr th:only-of-type {\n",
              "        vertical-align: middle;\n",
              "    }\n",
              "\n",
              "    .dataframe tbody tr th {\n",
              "        vertical-align: top;\n",
              "    }\n",
              "\n",
              "    .dataframe thead th {\n",
              "        text-align: right;\n",
              "    }\n",
              "</style>\n",
              "<table border=\"1\" class=\"dataframe\">\n",
              "  <thead>\n",
              "    <tr style=\"text-align: right;\">\n",
              "      <th></th>\n",
              "      <th>CODE_GENDER</th>\n",
              "      <th>FLAG_OWN_CAR</th>\n",
              "      <th>FLAG_OWN_REALTY</th>\n",
              "      <th>CNT_CHILDREN</th>\n",
              "      <th>AMT_INCOME_TOTAL</th>\n",
              "      <th>NAME_INCOME_TYPE</th>\n",
              "      <th>NAME_EDUCATION_TYPE</th>\n",
              "      <th>NAME_FAMILY_STATUS</th>\n",
              "      <th>NAME_HOUSING_TYPE</th>\n",
              "      <th>AGE_YEARS</th>\n",
              "      <th>YEARS_EMPLOYED</th>\n",
              "      <th>CNT_FAM_MEMBERS</th>\n",
              "      <th>STATUS</th>\n",
              "    </tr>\n",
              "  </thead>\n",
              "  <tbody>\n",
              "    <tr>\n",
              "      <th>0</th>\n",
              "      <td>1</td>\n",
              "      <td>1</td>\n",
              "      <td>1</td>\n",
              "      <td>0</td>\n",
              "      <td>427500.0</td>\n",
              "      <td>4</td>\n",
              "      <td>1</td>\n",
              "      <td>0</td>\n",
              "      <td>4</td>\n",
              "      <td>33.0</td>\n",
              "      <td>12.0</td>\n",
              "      <td>2.0</td>\n",
              "      <td>1</td>\n",
              "    </tr>\n",
              "    <tr>\n",
              "      <th>1</th>\n",
              "      <td>1</td>\n",
              "      <td>1</td>\n",
              "      <td>1</td>\n",
              "      <td>0</td>\n",
              "      <td>112500.0</td>\n",
              "      <td>4</td>\n",
              "      <td>4</td>\n",
              "      <td>1</td>\n",
              "      <td>1</td>\n",
              "      <td>59.0</td>\n",
              "      <td>3.0</td>\n",
              "      <td>2.0</td>\n",
              "      <td>0</td>\n",
              "    </tr>\n",
              "    <tr>\n",
              "      <th>2</th>\n",
              "      <td>0</td>\n",
              "      <td>0</td>\n",
              "      <td>1</td>\n",
              "      <td>0</td>\n",
              "      <td>270000.0</td>\n",
              "      <td>0</td>\n",
              "      <td>4</td>\n",
              "      <td>3</td>\n",
              "      <td>1</td>\n",
              "      <td>52.0</td>\n",
              "      <td>8.0</td>\n",
              "      <td>1.0</td>\n",
              "      <td>0</td>\n",
              "    </tr>\n",
              "    <tr>\n",
              "      <th>3</th>\n",
              "      <td>0</td>\n",
              "      <td>0</td>\n",
              "      <td>1</td>\n",
              "      <td>0</td>\n",
              "      <td>283500.0</td>\n",
              "      <td>1</td>\n",
              "      <td>1</td>\n",
              "      <td>2</td>\n",
              "      <td>1</td>\n",
              "      <td>62.0</td>\n",
              "      <td>0.0</td>\n",
              "      <td>1.0</td>\n",
              "      <td>0</td>\n",
              "    </tr>\n",
              "    <tr>\n",
              "      <th>4</th>\n",
              "      <td>1</td>\n",
              "      <td>1</td>\n",
              "      <td>1</td>\n",
              "      <td>0</td>\n",
              "      <td>270000.0</td>\n",
              "      <td>4</td>\n",
              "      <td>1</td>\n",
              "      <td>1</td>\n",
              "      <td>1</td>\n",
              "      <td>46.0</td>\n",
              "      <td>2.0</td>\n",
              "      <td>2.0</td>\n",
              "      <td>0</td>\n",
              "    </tr>\n",
              "  </tbody>\n",
              "</table>\n",
              "</div>\n",
              "      <button class=\"colab-df-convert\" onclick=\"convertToInteractive('df-89c49e70-a9c6-4675-aebc-eccb4155ad1f')\"\n",
              "              title=\"Convert this dataframe to an interactive table.\"\n",
              "              style=\"display:none;\">\n",
              "        \n",
              "  <svg xmlns=\"http://www.w3.org/2000/svg\" height=\"24px\"viewBox=\"0 0 24 24\"\n",
              "       width=\"24px\">\n",
              "    <path d=\"M0 0h24v24H0V0z\" fill=\"none\"/>\n",
              "    <path d=\"M18.56 5.44l.94 2.06.94-2.06 2.06-.94-2.06-.94-.94-2.06-.94 2.06-2.06.94zm-11 1L8.5 8.5l.94-2.06 2.06-.94-2.06-.94L8.5 2.5l-.94 2.06-2.06.94zm10 10l.94 2.06.94-2.06 2.06-.94-2.06-.94-.94-2.06-.94 2.06-2.06.94z\"/><path d=\"M17.41 7.96l-1.37-1.37c-.4-.4-.92-.59-1.43-.59-.52 0-1.04.2-1.43.59L10.3 9.45l-7.72 7.72c-.78.78-.78 2.05 0 2.83L4 21.41c.39.39.9.59 1.41.59.51 0 1.02-.2 1.41-.59l7.78-7.78 2.81-2.81c.8-.78.8-2.07 0-2.86zM5.41 20L4 18.59l7.72-7.72 1.47 1.35L5.41 20z\"/>\n",
              "  </svg>\n",
              "      </button>\n",
              "      \n",
              "  <style>\n",
              "    .colab-df-container {\n",
              "      display:flex;\n",
              "      flex-wrap:wrap;\n",
              "      gap: 12px;\n",
              "    }\n",
              "\n",
              "    .colab-df-convert {\n",
              "      background-color: #E8F0FE;\n",
              "      border: none;\n",
              "      border-radius: 50%;\n",
              "      cursor: pointer;\n",
              "      display: none;\n",
              "      fill: #1967D2;\n",
              "      height: 32px;\n",
              "      padding: 0 0 0 0;\n",
              "      width: 32px;\n",
              "    }\n",
              "\n",
              "    .colab-df-convert:hover {\n",
              "      background-color: #E2EBFA;\n",
              "      box-shadow: 0px 1px 2px rgba(60, 64, 67, 0.3), 0px 1px 3px 1px rgba(60, 64, 67, 0.15);\n",
              "      fill: #174EA6;\n",
              "    }\n",
              "\n",
              "    [theme=dark] .colab-df-convert {\n",
              "      background-color: #3B4455;\n",
              "      fill: #D2E3FC;\n",
              "    }\n",
              "\n",
              "    [theme=dark] .colab-df-convert:hover {\n",
              "      background-color: #434B5C;\n",
              "      box-shadow: 0px 1px 3px 1px rgba(0, 0, 0, 0.15);\n",
              "      filter: drop-shadow(0px 1px 2px rgba(0, 0, 0, 0.3));\n",
              "      fill: #FFFFFF;\n",
              "    }\n",
              "  </style>\n",
              "\n",
              "      <script>\n",
              "        const buttonEl =\n",
              "          document.querySelector('#df-89c49e70-a9c6-4675-aebc-eccb4155ad1f button.colab-df-convert');\n",
              "        buttonEl.style.display =\n",
              "          google.colab.kernel.accessAllowed ? 'block' : 'none';\n",
              "\n",
              "        async function convertToInteractive(key) {\n",
              "          const element = document.querySelector('#df-89c49e70-a9c6-4675-aebc-eccb4155ad1f');\n",
              "          const dataTable =\n",
              "            await google.colab.kernel.invokeFunction('convertToInteractive',\n",
              "                                                     [key], {});\n",
              "          if (!dataTable) return;\n",
              "\n",
              "          const docLinkHtml = 'Like what you see? Visit the ' +\n",
              "            '<a target=\"_blank\" href=https://colab.research.google.com/notebooks/data_table.ipynb>data table notebook</a>'\n",
              "            + ' to learn more about interactive tables.';\n",
              "          element.innerHTML = '';\n",
              "          dataTable['output_type'] = 'display_data';\n",
              "          await google.colab.output.renderOutput(dataTable, element);\n",
              "          const docLink = document.createElement('div');\n",
              "          docLink.innerHTML = docLinkHtml;\n",
              "          element.appendChild(docLink);\n",
              "        }\n",
              "      </script>\n",
              "    </div>\n",
              "  </div>\n",
              "  "
            ],
            "text/plain": [
              "   CODE_GENDER  FLAG_OWN_CAR  ...  CNT_FAM_MEMBERS  STATUS\n",
              "0            1             1  ...              2.0       1\n",
              "1            1             1  ...              2.0       0\n",
              "2            0             0  ...              1.0       0\n",
              "3            0             0  ...              1.0       0\n",
              "4            1             1  ...              2.0       0\n",
              "\n",
              "[5 rows x 13 columns]"
            ]
          },
          "metadata": {},
          "execution_count": 85
        }
      ]
    },
    {
      "cell_type": "code",
      "metadata": {
        "execution": {
          "iopub.execute_input": "2021-06-05T10:45:02.484239Z",
          "iopub.status.busy": "2021-06-05T10:45:02.483652Z",
          "iopub.status.idle": "2021-06-05T10:45:02.492789Z",
          "shell.execute_reply": "2021-06-05T10:45:02.493456Z",
          "shell.execute_reply.started": "2021-06-05T10:38:56.839329Z"
        },
        "papermill": {
          "duration": 0.148571,
          "end_time": "2021-06-05T10:45:02.493678",
          "exception": false,
          "start_time": "2021-06-05T10:45:02.345107",
          "status": "completed"
        },
        "tags": [],
        "id": "burning-answer",
        "colab": {
          "base_uri": "https://localhost:8080/"
        },
        "outputId": "b4ce6057-b9cc-4b97-ad8c-f936bd8cd5b7"
      },
      "source": [
        "for col in cat_columns:\n",
        "    print(col , \"  : \", globals()['LE_{}'.format(col)].classes_)"
      ],
      "id": "burning-answer",
      "execution_count": null,
      "outputs": [
        {
          "output_type": "stream",
          "name": "stdout",
          "text": [
            "CODE_GENDER   :  ['F' 'M']\n",
            "FLAG_OWN_CAR   :  ['N' 'Y']\n",
            "FLAG_OWN_REALTY   :  ['N' 'Y']\n",
            "NAME_INCOME_TYPE   :  ['Commercial associate' 'Pensioner' 'State servant' 'Student' 'Working']\n",
            "NAME_EDUCATION_TYPE   :  ['Academic degree' 'Higher education' 'Incomplete higher'\n",
            " 'Lower secondary' 'Secondary / secondary special']\n",
            "NAME_FAMILY_STATUS   :  ['Civil marriage' 'Married' 'Separated' 'Single / not married' 'Widow']\n",
            "NAME_HOUSING_TYPE   :  ['Co-op apartment' 'House / apartment' 'Municipal apartment'\n",
            " 'Office apartment' 'Rented apartment' 'With parents']\n"
          ]
        }
      ]
    },
    {
      "cell_type": "code",
      "metadata": {
        "execution": {
          "iopub.execute_input": "2021-06-05T10:45:02.771135Z",
          "iopub.status.busy": "2021-06-05T10:45:02.770453Z",
          "iopub.status.idle": "2021-06-05T10:45:02.799123Z",
          "shell.execute_reply": "2021-06-05T10:45:02.799594Z",
          "shell.execute_reply.started": "2021-06-05T10:38:56.849232Z"
        },
        "papermill": {
          "duration": 0.168314,
          "end_time": "2021-06-05T10:45:02.799761",
          "exception": false,
          "start_time": "2021-06-05T10:45:02.631447",
          "status": "completed"
        },
        "tags": [],
        "colab": {
          "base_uri": "https://localhost:8080/",
          "height": 521
        },
        "id": "cardiac-doctor",
        "outputId": "37c54f06-42ad-404a-e957-0b5a4b5e878f"
      },
      "source": [
        "final_df.corr()"
      ],
      "id": "cardiac-doctor",
      "execution_count": null,
      "outputs": [
        {
          "output_type": "execute_result",
          "data": {
            "text/html": [
              "\n",
              "  <div id=\"df-20e96cb2-9754-48af-bf5d-c2612493aa29\">\n",
              "    <div class=\"colab-df-container\">\n",
              "      <div>\n",
              "<style scoped>\n",
              "    .dataframe tbody tr th:only-of-type {\n",
              "        vertical-align: middle;\n",
              "    }\n",
              "\n",
              "    .dataframe tbody tr th {\n",
              "        vertical-align: top;\n",
              "    }\n",
              "\n",
              "    .dataframe thead th {\n",
              "        text-align: right;\n",
              "    }\n",
              "</style>\n",
              "<table border=\"1\" class=\"dataframe\">\n",
              "  <thead>\n",
              "    <tr style=\"text-align: right;\">\n",
              "      <th></th>\n",
              "      <th>CODE_GENDER</th>\n",
              "      <th>FLAG_OWN_CAR</th>\n",
              "      <th>FLAG_OWN_REALTY</th>\n",
              "      <th>CNT_CHILDREN</th>\n",
              "      <th>AMT_INCOME_TOTAL</th>\n",
              "      <th>NAME_INCOME_TYPE</th>\n",
              "      <th>NAME_EDUCATION_TYPE</th>\n",
              "      <th>NAME_FAMILY_STATUS</th>\n",
              "      <th>NAME_HOUSING_TYPE</th>\n",
              "      <th>AGE_YEARS</th>\n",
              "      <th>YEARS_EMPLOYED</th>\n",
              "      <th>CNT_FAM_MEMBERS</th>\n",
              "      <th>STATUS</th>\n",
              "    </tr>\n",
              "  </thead>\n",
              "  <tbody>\n",
              "    <tr>\n",
              "      <th>CODE_GENDER</th>\n",
              "      <td>1.000000</td>\n",
              "      <td>0.348307</td>\n",
              "      <td>-0.052647</td>\n",
              "      <td>0.052351</td>\n",
              "      <td>0.199358</td>\n",
              "      <td>0.072725</td>\n",
              "      <td>0.013080</td>\n",
              "      <td>-0.075315</td>\n",
              "      <td>0.052185</td>\n",
              "      <td>-0.157507</td>\n",
              "      <td>-0.043657</td>\n",
              "      <td>0.078853</td>\n",
              "      <td>0.002039</td>\n",
              "    </tr>\n",
              "    <tr>\n",
              "      <th>FLAG_OWN_CAR</th>\n",
              "      <td>0.348307</td>\n",
              "      <td>1.000000</td>\n",
              "      <td>-0.000126</td>\n",
              "      <td>0.087407</td>\n",
              "      <td>0.218026</td>\n",
              "      <td>0.030008</td>\n",
              "      <td>-0.085706</td>\n",
              "      <td>-0.125707</td>\n",
              "      <td>-0.011203</td>\n",
              "      <td>-0.106634</td>\n",
              "      <td>0.006570</td>\n",
              "      <td>0.138978</td>\n",
              "      <td>-0.003826</td>\n",
              "    </tr>\n",
              "    <tr>\n",
              "      <th>FLAG_OWN_REALTY</th>\n",
              "      <td>-0.052647</td>\n",
              "      <td>-0.000126</td>\n",
              "      <td>1.000000</td>\n",
              "      <td>0.001740</td>\n",
              "      <td>0.036549</td>\n",
              "      <td>-0.034673</td>\n",
              "      <td>0.003771</td>\n",
              "      <td>-0.011871</td>\n",
              "      <td>-0.178070</td>\n",
              "      <td>0.121351</td>\n",
              "      <td>-0.011665</td>\n",
              "      <td>0.009698</td>\n",
              "      <td>-0.022887</td>\n",
              "    </tr>\n",
              "    <tr>\n",
              "      <th>CNT_CHILDREN</th>\n",
              "      <td>0.052351</td>\n",
              "      <td>0.087407</td>\n",
              "      <td>0.001740</td>\n",
              "      <td>1.000000</td>\n",
              "      <td>0.027806</td>\n",
              "      <td>0.086772</td>\n",
              "      <td>-0.025059</td>\n",
              "      <td>-0.166742</td>\n",
              "      <td>0.010091</td>\n",
              "      <td>-0.326642</td>\n",
              "      <td>0.033979</td>\n",
              "      <td>0.884676</td>\n",
              "      <td>0.004820</td>\n",
              "    </tr>\n",
              "    <tr>\n",
              "      <th>AMT_INCOME_TOTAL</th>\n",
              "      <td>0.199358</td>\n",
              "      <td>0.218026</td>\n",
              "      <td>0.036549</td>\n",
              "      <td>0.027806</td>\n",
              "      <td>1.000000</td>\n",
              "      <td>-0.083800</td>\n",
              "      <td>-0.231827</td>\n",
              "      <td>-0.015623</td>\n",
              "      <td>-0.014723</td>\n",
              "      <td>-0.044799</td>\n",
              "      <td>0.079548</td>\n",
              "      <td>0.025272</td>\n",
              "      <td>0.020289</td>\n",
              "    </tr>\n",
              "    <tr>\n",
              "      <th>NAME_INCOME_TYPE</th>\n",
              "      <td>0.072725</td>\n",
              "      <td>0.030008</td>\n",
              "      <td>-0.034673</td>\n",
              "      <td>0.086772</td>\n",
              "      <td>-0.083800</td>\n",
              "      <td>1.000000</td>\n",
              "      <td>0.077636</td>\n",
              "      <td>-0.029347</td>\n",
              "      <td>0.036582</td>\n",
              "      <td>-0.191870</td>\n",
              "      <td>0.163301</td>\n",
              "      <td>0.080072</td>\n",
              "      <td>-0.002579</td>\n",
              "    </tr>\n",
              "    <tr>\n",
              "      <th>NAME_EDUCATION_TYPE</th>\n",
              "      <td>0.013080</td>\n",
              "      <td>-0.085706</td>\n",
              "      <td>0.003771</td>\n",
              "      <td>-0.025059</td>\n",
              "      <td>-0.231827</td>\n",
              "      <td>0.077636</td>\n",
              "      <td>1.000000</td>\n",
              "      <td>0.004787</td>\n",
              "      <td>-0.032365</td>\n",
              "      <td>0.145662</td>\n",
              "      <td>-0.016205</td>\n",
              "      <td>-0.021037</td>\n",
              "      <td>-0.006380</td>\n",
              "    </tr>\n",
              "    <tr>\n",
              "      <th>NAME_FAMILY_STATUS</th>\n",
              "      <td>-0.075315</td>\n",
              "      <td>-0.125707</td>\n",
              "      <td>-0.011871</td>\n",
              "      <td>-0.166742</td>\n",
              "      <td>-0.015623</td>\n",
              "      <td>-0.029347</td>\n",
              "      <td>0.004787</td>\n",
              "      <td>1.000000</td>\n",
              "      <td>0.039548</td>\n",
              "      <td>0.077175</td>\n",
              "      <td>-0.055202</td>\n",
              "      <td>-0.553865</td>\n",
              "      <td>0.003486</td>\n",
              "    </tr>\n",
              "    <tr>\n",
              "      <th>NAME_HOUSING_TYPE</th>\n",
              "      <td>0.052185</td>\n",
              "      <td>-0.011203</td>\n",
              "      <td>-0.178070</td>\n",
              "      <td>0.010091</td>\n",
              "      <td>-0.014723</td>\n",
              "      <td>0.036582</td>\n",
              "      <td>-0.032365</td>\n",
              "      <td>0.039548</td>\n",
              "      <td>1.000000</td>\n",
              "      <td>-0.219500</td>\n",
              "      <td>-0.041818</td>\n",
              "      <td>-0.022436</td>\n",
              "      <td>0.016156</td>\n",
              "    </tr>\n",
              "    <tr>\n",
              "      <th>AGE_YEARS</th>\n",
              "      <td>-0.157507</td>\n",
              "      <td>-0.106634</td>\n",
              "      <td>0.121351</td>\n",
              "      <td>-0.326642</td>\n",
              "      <td>-0.044799</td>\n",
              "      <td>-0.191870</td>\n",
              "      <td>0.145662</td>\n",
              "      <td>0.077175</td>\n",
              "      <td>-0.219500</td>\n",
              "      <td>1.000000</td>\n",
              "      <td>0.016587</td>\n",
              "      <td>-0.275968</td>\n",
              "      <td>-0.022945</td>\n",
              "    </tr>\n",
              "    <tr>\n",
              "      <th>YEARS_EMPLOYED</th>\n",
              "      <td>-0.043657</td>\n",
              "      <td>0.006570</td>\n",
              "      <td>-0.011665</td>\n",
              "      <td>0.033979</td>\n",
              "      <td>0.079548</td>\n",
              "      <td>0.163301</td>\n",
              "      <td>-0.016205</td>\n",
              "      <td>-0.055202</td>\n",
              "      <td>-0.041818</td>\n",
              "      <td>0.016587</td>\n",
              "      <td>1.000000</td>\n",
              "      <td>0.055498</td>\n",
              "      <td>-0.000081</td>\n",
              "    </tr>\n",
              "    <tr>\n",
              "      <th>CNT_FAM_MEMBERS</th>\n",
              "      <td>0.078853</td>\n",
              "      <td>0.138978</td>\n",
              "      <td>0.009698</td>\n",
              "      <td>0.884676</td>\n",
              "      <td>0.025272</td>\n",
              "      <td>0.080072</td>\n",
              "      <td>-0.021037</td>\n",
              "      <td>-0.553865</td>\n",
              "      <td>-0.022436</td>\n",
              "      <td>-0.275968</td>\n",
              "      <td>0.055498</td>\n",
              "      <td>1.000000</td>\n",
              "      <td>0.004675</td>\n",
              "    </tr>\n",
              "    <tr>\n",
              "      <th>STATUS</th>\n",
              "      <td>0.002039</td>\n",
              "      <td>-0.003826</td>\n",
              "      <td>-0.022887</td>\n",
              "      <td>0.004820</td>\n",
              "      <td>0.020289</td>\n",
              "      <td>-0.002579</td>\n",
              "      <td>-0.006380</td>\n",
              "      <td>0.003486</td>\n",
              "      <td>0.016156</td>\n",
              "      <td>-0.022945</td>\n",
              "      <td>-0.000081</td>\n",
              "      <td>0.004675</td>\n",
              "      <td>1.000000</td>\n",
              "    </tr>\n",
              "  </tbody>\n",
              "</table>\n",
              "</div>\n",
              "      <button class=\"colab-df-convert\" onclick=\"convertToInteractive('df-20e96cb2-9754-48af-bf5d-c2612493aa29')\"\n",
              "              title=\"Convert this dataframe to an interactive table.\"\n",
              "              style=\"display:none;\">\n",
              "        \n",
              "  <svg xmlns=\"http://www.w3.org/2000/svg\" height=\"24px\"viewBox=\"0 0 24 24\"\n",
              "       width=\"24px\">\n",
              "    <path d=\"M0 0h24v24H0V0z\" fill=\"none\"/>\n",
              "    <path d=\"M18.56 5.44l.94 2.06.94-2.06 2.06-.94-2.06-.94-.94-2.06-.94 2.06-2.06.94zm-11 1L8.5 8.5l.94-2.06 2.06-.94-2.06-.94L8.5 2.5l-.94 2.06-2.06.94zm10 10l.94 2.06.94-2.06 2.06-.94-2.06-.94-.94-2.06-.94 2.06-2.06.94z\"/><path d=\"M17.41 7.96l-1.37-1.37c-.4-.4-.92-.59-1.43-.59-.52 0-1.04.2-1.43.59L10.3 9.45l-7.72 7.72c-.78.78-.78 2.05 0 2.83L4 21.41c.39.39.9.59 1.41.59.51 0 1.02-.2 1.41-.59l7.78-7.78 2.81-2.81c.8-.78.8-2.07 0-2.86zM5.41 20L4 18.59l7.72-7.72 1.47 1.35L5.41 20z\"/>\n",
              "  </svg>\n",
              "      </button>\n",
              "      \n",
              "  <style>\n",
              "    .colab-df-container {\n",
              "      display:flex;\n",
              "      flex-wrap:wrap;\n",
              "      gap: 12px;\n",
              "    }\n",
              "\n",
              "    .colab-df-convert {\n",
              "      background-color: #E8F0FE;\n",
              "      border: none;\n",
              "      border-radius: 50%;\n",
              "      cursor: pointer;\n",
              "      display: none;\n",
              "      fill: #1967D2;\n",
              "      height: 32px;\n",
              "      padding: 0 0 0 0;\n",
              "      width: 32px;\n",
              "    }\n",
              "\n",
              "    .colab-df-convert:hover {\n",
              "      background-color: #E2EBFA;\n",
              "      box-shadow: 0px 1px 2px rgba(60, 64, 67, 0.3), 0px 1px 3px 1px rgba(60, 64, 67, 0.15);\n",
              "      fill: #174EA6;\n",
              "    }\n",
              "\n",
              "    [theme=dark] .colab-df-convert {\n",
              "      background-color: #3B4455;\n",
              "      fill: #D2E3FC;\n",
              "    }\n",
              "\n",
              "    [theme=dark] .colab-df-convert:hover {\n",
              "      background-color: #434B5C;\n",
              "      box-shadow: 0px 1px 3px 1px rgba(0, 0, 0, 0.15);\n",
              "      filter: drop-shadow(0px 1px 2px rgba(0, 0, 0, 0.3));\n",
              "      fill: #FFFFFF;\n",
              "    }\n",
              "  </style>\n",
              "\n",
              "      <script>\n",
              "        const buttonEl =\n",
              "          document.querySelector('#df-20e96cb2-9754-48af-bf5d-c2612493aa29 button.colab-df-convert');\n",
              "        buttonEl.style.display =\n",
              "          google.colab.kernel.accessAllowed ? 'block' : 'none';\n",
              "\n",
              "        async function convertToInteractive(key) {\n",
              "          const element = document.querySelector('#df-20e96cb2-9754-48af-bf5d-c2612493aa29');\n",
              "          const dataTable =\n",
              "            await google.colab.kernel.invokeFunction('convertToInteractive',\n",
              "                                                     [key], {});\n",
              "          if (!dataTable) return;\n",
              "\n",
              "          const docLinkHtml = 'Like what you see? Visit the ' +\n",
              "            '<a target=\"_blank\" href=https://colab.research.google.com/notebooks/data_table.ipynb>data table notebook</a>'\n",
              "            + ' to learn more about interactive tables.';\n",
              "          element.innerHTML = '';\n",
              "          dataTable['output_type'] = 'display_data';\n",
              "          await google.colab.output.renderOutput(dataTable, element);\n",
              "          const docLink = document.createElement('div');\n",
              "          docLink.innerHTML = docLinkHtml;\n",
              "          element.appendChild(docLink);\n",
              "        }\n",
              "      </script>\n",
              "    </div>\n",
              "  </div>\n",
              "  "
            ],
            "text/plain": [
              "                     CODE_GENDER  FLAG_OWN_CAR  ...  CNT_FAM_MEMBERS    STATUS\n",
              "CODE_GENDER             1.000000      0.348307  ...         0.078853  0.002039\n",
              "FLAG_OWN_CAR            0.348307      1.000000  ...         0.138978 -0.003826\n",
              "FLAG_OWN_REALTY        -0.052647     -0.000126  ...         0.009698 -0.022887\n",
              "CNT_CHILDREN            0.052351      0.087407  ...         0.884676  0.004820\n",
              "AMT_INCOME_TOTAL        0.199358      0.218026  ...         0.025272  0.020289\n",
              "NAME_INCOME_TYPE        0.072725      0.030008  ...         0.080072 -0.002579\n",
              "NAME_EDUCATION_TYPE     0.013080     -0.085706  ...        -0.021037 -0.006380\n",
              "NAME_FAMILY_STATUS     -0.075315     -0.125707  ...        -0.553865  0.003486\n",
              "NAME_HOUSING_TYPE       0.052185     -0.011203  ...        -0.022436  0.016156\n",
              "AGE_YEARS              -0.157507     -0.106634  ...        -0.275968 -0.022945\n",
              "YEARS_EMPLOYED         -0.043657      0.006570  ...         0.055498 -0.000081\n",
              "CNT_FAM_MEMBERS         0.078853      0.138978  ...         1.000000  0.004675\n",
              "STATUS                  0.002039     -0.003826  ...         0.004675  1.000000\n",
              "\n",
              "[13 rows x 13 columns]"
            ]
          },
          "metadata": {},
          "execution_count": 87
        }
      ]
    },
    {
      "cell_type": "code",
      "metadata": {
        "execution": {
          "iopub.execute_input": "2021-06-05T10:45:03.082089Z",
          "iopub.status.busy": "2021-06-05T10:45:03.081484Z",
          "iopub.status.idle": "2021-06-05T10:45:03.086255Z",
          "shell.execute_reply": "2021-06-05T10:45:03.085774Z",
          "shell.execute_reply.started": "2021-06-05T10:38:56.892131Z"
        },
        "papermill": {
          "duration": 0.149414,
          "end_time": "2021-06-05T10:45:03.086420",
          "exception": false,
          "start_time": "2021-06-05T10:45:02.937006",
          "status": "completed"
        },
        "tags": [],
        "id": "grateful-dressing"
      },
      "source": [
        "features = final_df.drop(['STATUS'], axis=1)\n",
        "label = final_df['STATUS']"
      ],
      "id": "grateful-dressing",
      "execution_count": null,
      "outputs": []
    },
    {
      "cell_type": "code",
      "metadata": {
        "id": "3CSPf1MLm6nl"
      },
      "source": [
        "#features = final_df.drop(['CODE_GENDER','AGE_YEARS'], axis=1)"
      ],
      "id": "3CSPf1MLm6nl",
      "execution_count": null,
      "outputs": []
    },
    {
      "cell_type": "code",
      "metadata": {
        "colab": {
          "base_uri": "https://localhost:8080/"
        },
        "id": "NzULS96dnBCr",
        "outputId": "fd4a89aa-c52d-4ada-eca1-83dd90cb048d"
      },
      "source": [
        "features.dtypes"
      ],
      "id": "NzULS96dnBCr",
      "execution_count": null,
      "outputs": [
        {
          "output_type": "execute_result",
          "data": {
            "text/plain": [
              "CODE_GENDER              int64\n",
              "FLAG_OWN_CAR             int64\n",
              "FLAG_OWN_REALTY          int64\n",
              "CNT_CHILDREN             int64\n",
              "AMT_INCOME_TOTAL       float64\n",
              "NAME_INCOME_TYPE         int64\n",
              "NAME_EDUCATION_TYPE      int64\n",
              "NAME_FAMILY_STATUS       int64\n",
              "NAME_HOUSING_TYPE        int64\n",
              "AGE_YEARS              float64\n",
              "YEARS_EMPLOYED         float64\n",
              "CNT_FAM_MEMBERS        float64\n",
              "dtype: object"
            ]
          },
          "metadata": {},
          "execution_count": 90
        }
      ]
    },
    {
      "cell_type": "code",
      "metadata": {
        "colab": {
          "base_uri": "https://localhost:8080/"
        },
        "id": "nYFDc8xWhGnk",
        "outputId": "77c7159f-0701-49d3-8044-b8fff368f465"
      },
      "source": [
        "features.dtypes"
      ],
      "id": "nYFDc8xWhGnk",
      "execution_count": null,
      "outputs": [
        {
          "output_type": "execute_result",
          "data": {
            "text/plain": [
              "CODE_GENDER              int64\n",
              "FLAG_OWN_CAR             int64\n",
              "FLAG_OWN_REALTY          int64\n",
              "CNT_CHILDREN             int64\n",
              "AMT_INCOME_TOTAL       float64\n",
              "NAME_INCOME_TYPE         int64\n",
              "NAME_EDUCATION_TYPE      int64\n",
              "NAME_FAMILY_STATUS       int64\n",
              "NAME_HOUSING_TYPE        int64\n",
              "AGE_YEARS              float64\n",
              "YEARS_EMPLOYED         float64\n",
              "CNT_FAM_MEMBERS        float64\n",
              "dtype: object"
            ]
          },
          "metadata": {},
          "execution_count": 91
        }
      ]
    },
    {
      "cell_type": "code",
      "metadata": {
        "execution": {
          "iopub.execute_input": "2021-06-05T10:45:03.375261Z",
          "iopub.status.busy": "2021-06-05T10:45:03.374628Z",
          "iopub.status.idle": "2021-06-05T10:45:03.377371Z",
          "shell.execute_reply": "2021-06-05T10:45:03.377924Z",
          "shell.execute_reply.started": "2021-06-05T10:38:56.899021Z"
        },
        "papermill": {
          "duration": 0.153517,
          "end_time": "2021-06-05T10:45:03.378078",
          "exception": false,
          "start_time": "2021-06-05T10:45:03.224561",
          "status": "completed"
        },
        "tags": [],
        "colab": {
          "base_uri": "https://localhost:8080/",
          "height": 270
        },
        "id": "governing-grill",
        "outputId": "6f1bbafb-6179-4a2b-92b1-f021682e31bc"
      },
      "source": [
        "features.head()"
      ],
      "id": "governing-grill",
      "execution_count": null,
      "outputs": [
        {
          "output_type": "execute_result",
          "data": {
            "text/html": [
              "\n",
              "  <div id=\"df-8c928b83-6c4f-405d-96b1-305bfc62002f\">\n",
              "    <div class=\"colab-df-container\">\n",
              "      <div>\n",
              "<style scoped>\n",
              "    .dataframe tbody tr th:only-of-type {\n",
              "        vertical-align: middle;\n",
              "    }\n",
              "\n",
              "    .dataframe tbody tr th {\n",
              "        vertical-align: top;\n",
              "    }\n",
              "\n",
              "    .dataframe thead th {\n",
              "        text-align: right;\n",
              "    }\n",
              "</style>\n",
              "<table border=\"1\" class=\"dataframe\">\n",
              "  <thead>\n",
              "    <tr style=\"text-align: right;\">\n",
              "      <th></th>\n",
              "      <th>CODE_GENDER</th>\n",
              "      <th>FLAG_OWN_CAR</th>\n",
              "      <th>FLAG_OWN_REALTY</th>\n",
              "      <th>CNT_CHILDREN</th>\n",
              "      <th>AMT_INCOME_TOTAL</th>\n",
              "      <th>NAME_INCOME_TYPE</th>\n",
              "      <th>NAME_EDUCATION_TYPE</th>\n",
              "      <th>NAME_FAMILY_STATUS</th>\n",
              "      <th>NAME_HOUSING_TYPE</th>\n",
              "      <th>AGE_YEARS</th>\n",
              "      <th>YEARS_EMPLOYED</th>\n",
              "      <th>CNT_FAM_MEMBERS</th>\n",
              "    </tr>\n",
              "  </thead>\n",
              "  <tbody>\n",
              "    <tr>\n",
              "      <th>0</th>\n",
              "      <td>1</td>\n",
              "      <td>1</td>\n",
              "      <td>1</td>\n",
              "      <td>0</td>\n",
              "      <td>427500.0</td>\n",
              "      <td>4</td>\n",
              "      <td>1</td>\n",
              "      <td>0</td>\n",
              "      <td>4</td>\n",
              "      <td>33.0</td>\n",
              "      <td>12.0</td>\n",
              "      <td>2.0</td>\n",
              "    </tr>\n",
              "    <tr>\n",
              "      <th>1</th>\n",
              "      <td>1</td>\n",
              "      <td>1</td>\n",
              "      <td>1</td>\n",
              "      <td>0</td>\n",
              "      <td>112500.0</td>\n",
              "      <td>4</td>\n",
              "      <td>4</td>\n",
              "      <td>1</td>\n",
              "      <td>1</td>\n",
              "      <td>59.0</td>\n",
              "      <td>3.0</td>\n",
              "      <td>2.0</td>\n",
              "    </tr>\n",
              "    <tr>\n",
              "      <th>2</th>\n",
              "      <td>0</td>\n",
              "      <td>0</td>\n",
              "      <td>1</td>\n",
              "      <td>0</td>\n",
              "      <td>270000.0</td>\n",
              "      <td>0</td>\n",
              "      <td>4</td>\n",
              "      <td>3</td>\n",
              "      <td>1</td>\n",
              "      <td>52.0</td>\n",
              "      <td>8.0</td>\n",
              "      <td>1.0</td>\n",
              "    </tr>\n",
              "    <tr>\n",
              "      <th>3</th>\n",
              "      <td>0</td>\n",
              "      <td>0</td>\n",
              "      <td>1</td>\n",
              "      <td>0</td>\n",
              "      <td>283500.0</td>\n",
              "      <td>1</td>\n",
              "      <td>1</td>\n",
              "      <td>2</td>\n",
              "      <td>1</td>\n",
              "      <td>62.0</td>\n",
              "      <td>0.0</td>\n",
              "      <td>1.0</td>\n",
              "    </tr>\n",
              "    <tr>\n",
              "      <th>4</th>\n",
              "      <td>1</td>\n",
              "      <td>1</td>\n",
              "      <td>1</td>\n",
              "      <td>0</td>\n",
              "      <td>270000.0</td>\n",
              "      <td>4</td>\n",
              "      <td>1</td>\n",
              "      <td>1</td>\n",
              "      <td>1</td>\n",
              "      <td>46.0</td>\n",
              "      <td>2.0</td>\n",
              "      <td>2.0</td>\n",
              "    </tr>\n",
              "  </tbody>\n",
              "</table>\n",
              "</div>\n",
              "      <button class=\"colab-df-convert\" onclick=\"convertToInteractive('df-8c928b83-6c4f-405d-96b1-305bfc62002f')\"\n",
              "              title=\"Convert this dataframe to an interactive table.\"\n",
              "              style=\"display:none;\">\n",
              "        \n",
              "  <svg xmlns=\"http://www.w3.org/2000/svg\" height=\"24px\"viewBox=\"0 0 24 24\"\n",
              "       width=\"24px\">\n",
              "    <path d=\"M0 0h24v24H0V0z\" fill=\"none\"/>\n",
              "    <path d=\"M18.56 5.44l.94 2.06.94-2.06 2.06-.94-2.06-.94-.94-2.06-.94 2.06-2.06.94zm-11 1L8.5 8.5l.94-2.06 2.06-.94-2.06-.94L8.5 2.5l-.94 2.06-2.06.94zm10 10l.94 2.06.94-2.06 2.06-.94-2.06-.94-.94-2.06-.94 2.06-2.06.94z\"/><path d=\"M17.41 7.96l-1.37-1.37c-.4-.4-.92-.59-1.43-.59-.52 0-1.04.2-1.43.59L10.3 9.45l-7.72 7.72c-.78.78-.78 2.05 0 2.83L4 21.41c.39.39.9.59 1.41.59.51 0 1.02-.2 1.41-.59l7.78-7.78 2.81-2.81c.8-.78.8-2.07 0-2.86zM5.41 20L4 18.59l7.72-7.72 1.47 1.35L5.41 20z\"/>\n",
              "  </svg>\n",
              "      </button>\n",
              "      \n",
              "  <style>\n",
              "    .colab-df-container {\n",
              "      display:flex;\n",
              "      flex-wrap:wrap;\n",
              "      gap: 12px;\n",
              "    }\n",
              "\n",
              "    .colab-df-convert {\n",
              "      background-color: #E8F0FE;\n",
              "      border: none;\n",
              "      border-radius: 50%;\n",
              "      cursor: pointer;\n",
              "      display: none;\n",
              "      fill: #1967D2;\n",
              "      height: 32px;\n",
              "      padding: 0 0 0 0;\n",
              "      width: 32px;\n",
              "    }\n",
              "\n",
              "    .colab-df-convert:hover {\n",
              "      background-color: #E2EBFA;\n",
              "      box-shadow: 0px 1px 2px rgba(60, 64, 67, 0.3), 0px 1px 3px 1px rgba(60, 64, 67, 0.15);\n",
              "      fill: #174EA6;\n",
              "    }\n",
              "\n",
              "    [theme=dark] .colab-df-convert {\n",
              "      background-color: #3B4455;\n",
              "      fill: #D2E3FC;\n",
              "    }\n",
              "\n",
              "    [theme=dark] .colab-df-convert:hover {\n",
              "      background-color: #434B5C;\n",
              "      box-shadow: 0px 1px 3px 1px rgba(0, 0, 0, 0.15);\n",
              "      filter: drop-shadow(0px 1px 2px rgba(0, 0, 0, 0.3));\n",
              "      fill: #FFFFFF;\n",
              "    }\n",
              "  </style>\n",
              "\n",
              "      <script>\n",
              "        const buttonEl =\n",
              "          document.querySelector('#df-8c928b83-6c4f-405d-96b1-305bfc62002f button.colab-df-convert');\n",
              "        buttonEl.style.display =\n",
              "          google.colab.kernel.accessAllowed ? 'block' : 'none';\n",
              "\n",
              "        async function convertToInteractive(key) {\n",
              "          const element = document.querySelector('#df-8c928b83-6c4f-405d-96b1-305bfc62002f');\n",
              "          const dataTable =\n",
              "            await google.colab.kernel.invokeFunction('convertToInteractive',\n",
              "                                                     [key], {});\n",
              "          if (!dataTable) return;\n",
              "\n",
              "          const docLinkHtml = 'Like what you see? Visit the ' +\n",
              "            '<a target=\"_blank\" href=https://colab.research.google.com/notebooks/data_table.ipynb>data table notebook</a>'\n",
              "            + ' to learn more about interactive tables.';\n",
              "          element.innerHTML = '';\n",
              "          dataTable['output_type'] = 'display_data';\n",
              "          await google.colab.output.renderOutput(dataTable, element);\n",
              "          const docLink = document.createElement('div');\n",
              "          docLink.innerHTML = docLinkHtml;\n",
              "          element.appendChild(docLink);\n",
              "        }\n",
              "      </script>\n",
              "    </div>\n",
              "  </div>\n",
              "  "
            ],
            "text/plain": [
              "   CODE_GENDER  FLAG_OWN_CAR  ...  YEARS_EMPLOYED  CNT_FAM_MEMBERS\n",
              "0            1             1  ...            12.0              2.0\n",
              "1            1             1  ...             3.0              2.0\n",
              "2            0             0  ...             8.0              1.0\n",
              "3            0             0  ...             0.0              1.0\n",
              "4            1             1  ...             2.0              2.0\n",
              "\n",
              "[5 rows x 12 columns]"
            ]
          },
          "metadata": {},
          "execution_count": 92
        }
      ]
    },
    {
      "cell_type": "code",
      "metadata": {
        "execution": {
          "iopub.execute_input": "2021-06-05T10:45:03.656325Z",
          "iopub.status.busy": "2021-06-05T10:45:03.655732Z",
          "iopub.status.idle": "2021-06-05T10:45:03.661779Z",
          "shell.execute_reply": "2021-06-05T10:45:03.661284Z",
          "shell.execute_reply.started": "2021-06-05T10:38:56.923891Z"
        },
        "papermill": {
          "duration": 0.14665,
          "end_time": "2021-06-05T10:45:03.661907",
          "exception": false,
          "start_time": "2021-06-05T10:45:03.515257",
          "status": "completed"
        },
        "tags": [],
        "colab": {
          "base_uri": "https://localhost:8080/"
        },
        "id": "whole-habitat",
        "outputId": "196e95f2-8466-453e-b03c-d04c8106a617"
      },
      "source": [
        "label.head()"
      ],
      "id": "whole-habitat",
      "execution_count": null,
      "outputs": [
        {
          "output_type": "execute_result",
          "data": {
            "text/plain": [
              "0    1\n",
              "1    0\n",
              "2    0\n",
              "3    0\n",
              "4    0\n",
              "Name: STATUS, dtype: int64"
            ]
          },
          "metadata": {},
          "execution_count": 93
        }
      ]
    },
    {
      "cell_type": "code",
      "metadata": {
        "colab": {
          "base_uri": "https://localhost:8080/"
        },
        "id": "JStRsXYUrtRc",
        "outputId": "a2327032-e1cb-46f9-fedb-e8a57ad412d2"
      },
      "source": [
        "features.dtypes"
      ],
      "id": "JStRsXYUrtRc",
      "execution_count": null,
      "outputs": [
        {
          "output_type": "execute_result",
          "data": {
            "text/plain": [
              "CODE_GENDER              int64\n",
              "FLAG_OWN_CAR             int64\n",
              "FLAG_OWN_REALTY          int64\n",
              "CNT_CHILDREN             int64\n",
              "AMT_INCOME_TOTAL       float64\n",
              "NAME_INCOME_TYPE         int64\n",
              "NAME_EDUCATION_TYPE      int64\n",
              "NAME_FAMILY_STATUS       int64\n",
              "NAME_HOUSING_TYPE        int64\n",
              "AGE_YEARS              float64\n",
              "YEARS_EMPLOYED         float64\n",
              "CNT_FAM_MEMBERS        float64\n",
              "dtype: object"
            ]
          },
          "metadata": {},
          "execution_count": 94
        }
      ]
    },
    {
      "cell_type": "code",
      "metadata": {
        "colab": {
          "base_uri": "https://localhost:8080/"
        },
        "id": "LDcMgrcmr3M8",
        "outputId": "53e3c214-39b7-4f7d-b384-1702ae7c8e04"
      },
      "source": [
        "features.shape"
      ],
      "id": "LDcMgrcmr3M8",
      "execution_count": null,
      "outputs": [
        {
          "output_type": "execute_result",
          "data": {
            "text/plain": [
              "(11058, 12)"
            ]
          },
          "metadata": {},
          "execution_count": 95
        }
      ]
    },
    {
      "cell_type": "markdown",
      "metadata": {
        "papermill": {
          "duration": 0.138376,
          "end_time": "2021-06-05T10:45:03.936664",
          "exception": false,
          "start_time": "2021-06-05T10:45:03.798288",
          "status": "completed"
        },
        "tags": [],
        "id": "answering-tournament"
      },
      "source": [
        "# Machine Learning Model"
      ],
      "id": "answering-tournament"
    },
    {
      "cell_type": "code",
      "metadata": {
        "execution": {
          "iopub.execute_input": "2021-06-05T10:45:04.244347Z",
          "iopub.status.busy": "2021-06-05T10:45:04.243615Z",
          "iopub.status.idle": "2021-06-05T10:45:04.304075Z",
          "shell.execute_reply": "2021-06-05T10:45:04.303527Z",
          "shell.execute_reply.started": "2021-06-05T10:38:56.937588Z"
        },
        "papermill": {
          "duration": 0.202433,
          "end_time": "2021-06-05T10:45:04.304210",
          "exception": false,
          "start_time": "2021-06-05T10:45:04.101777",
          "status": "completed"
        },
        "tags": [],
        "id": "ranging-claim"
      },
      "source": [
        "from sklearn.model_selection import train_test_split\n",
        "X_train, X_test, y_train, y_test = train_test_split(features,\n",
        "                                                    label,\n",
        "                                                    test_size=0.2,\n",
        "                                                    random_state = 10)"
      ],
      "id": "ranging-claim",
      "execution_count": null,
      "outputs": []
    },
    {
      "cell_type": "code",
      "metadata": {
        "execution": {
          "iopub.execute_input": "2021-06-05T10:45:04.589555Z",
          "iopub.status.busy": "2021-06-05T10:45:04.588897Z",
          "iopub.status.idle": "2021-06-05T10:45:04.819191Z",
          "shell.execute_reply": "2021-06-05T10:45:04.820147Z",
          "shell.execute_reply.started": "2021-06-05T10:38:56.967496Z"
        },
        "papermill": {
          "duration": 0.37833,
          "end_time": "2021-06-05T10:45:04.820409",
          "exception": false,
          "start_time": "2021-06-05T10:45:04.442079",
          "status": "completed"
        },
        "tags": [],
        "colab": {
          "base_uri": "https://localhost:8080/"
        },
        "id": "judicial-character",
        "outputId": "83313c31-2538-484f-e152-3d8d8d38bfc7"
      },
      "source": [
        "# Logistic Regression\n",
        "\n",
        "from sklearn.linear_model import LogisticRegression\n",
        "from sklearn.metrics import classification_report, accuracy_score, confusion_matrix\n",
        "\n",
        "log_model = LogisticRegression()\n",
        "log_model.fit(X_train, y_train)\n",
        "\n",
        "print('Logistic Model Accuracy : ', log_model.score(X_test, y_test)*100, '%')\n",
        "\n",
        "prediction = log_model.predict(X_test)\n",
        "print('\\nConfusion matrix :')\n",
        "print(confusion_matrix(y_test, prediction))\n",
        "    \n",
        "print('\\nClassification report:')      \n",
        "print(classification_report(y_test, prediction))"
      ],
      "id": "judicial-character",
      "execution_count": null,
      "outputs": [
        {
          "output_type": "stream",
          "name": "stdout",
          "text": [
            "Logistic Model Accuracy :  78.84267631103074 %\n",
            "\n",
            "Confusion matrix :\n",
            "[[1744    0]\n",
            " [ 468    0]]\n",
            "\n",
            "Classification report:\n",
            "              precision    recall  f1-score   support\n",
            "\n",
            "           0       0.79      1.00      0.88      1744\n",
            "           1       0.00      0.00      0.00       468\n",
            "\n",
            "    accuracy                           0.79      2212\n",
            "   macro avg       0.39      0.50      0.44      2212\n",
            "weighted avg       0.62      0.79      0.70      2212\n",
            "\n"
          ]
        }
      ]
    },
    {
      "cell_type": "code",
      "metadata": {
        "execution": {
          "iopub.execute_input": "2021-06-05T10:45:05.151751Z",
          "iopub.status.busy": "2021-06-05T10:45:05.151062Z",
          "iopub.status.idle": "2021-06-05T10:45:05.288639Z",
          "shell.execute_reply": "2021-06-05T10:45:05.289207Z",
          "shell.execute_reply.started": "2021-06-05T10:38:57.122151Z"
        },
        "papermill": {
          "duration": 0.287812,
          "end_time": "2021-06-05T10:45:05.289386",
          "exception": false,
          "start_time": "2021-06-05T10:45:05.001574",
          "status": "completed"
        },
        "tags": [],
        "colab": {
          "base_uri": "https://localhost:8080/"
        },
        "id": "powerful-tournament",
        "outputId": "cfb22509-cf18-442e-e1ef-a8abee8cece0"
      },
      "source": [
        "# Decision Tree classification\n",
        "\n",
        "from sklearn.tree import DecisionTreeClassifier\n",
        "\n",
        "decision_model = DecisionTreeClassifier(max_depth=12,min_samples_split=8)\n",
        "\n",
        "decision_model.fit(X_train, y_train)\n",
        "\n",
        "print('Decision Tree Model Accuracy : ', decision_model.score(X_test, y_test)*100, '%')\n",
        "\n",
        "prediction = decision_model.predict(X_test)\n",
        "print('\\nConfusion matrix :')\n",
        "print(confusion_matrix(y_test, prediction))\n",
        "      \n",
        "print('\\nClassification report:')      \n",
        "print(classification_report(y_test, prediction))"
      ],
      "id": "powerful-tournament",
      "execution_count": null,
      "outputs": [
        {
          "output_type": "stream",
          "name": "stdout",
          "text": [
            "Decision Tree Model Accuracy :  73.55334538878843 %\n",
            "\n",
            "Confusion matrix :\n",
            "[[1616  128]\n",
            " [ 457   11]]\n",
            "\n",
            "Classification report:\n",
            "              precision    recall  f1-score   support\n",
            "\n",
            "           0       0.78      0.93      0.85      1744\n",
            "           1       0.08      0.02      0.04       468\n",
            "\n",
            "    accuracy                           0.74      2212\n",
            "   macro avg       0.43      0.48      0.44      2212\n",
            "weighted avg       0.63      0.74      0.68      2212\n",
            "\n"
          ]
        }
      ]
    },
    {
      "cell_type": "code",
      "metadata": {
        "execution": {
          "iopub.execute_input": "2021-06-05T10:45:05.581896Z",
          "iopub.status.busy": "2021-06-05T10:45:05.581205Z",
          "iopub.status.idle": "2021-06-05T10:45:07.208691Z",
          "shell.execute_reply": "2021-06-05T10:45:07.208179Z",
          "shell.execute_reply.started": "2021-06-05T10:38:57.225951Z"
        },
        "papermill": {
          "duration": 1.778652,
          "end_time": "2021-06-05T10:45:07.208830",
          "exception": false,
          "start_time": "2021-06-05T10:45:05.430178",
          "status": "completed"
        },
        "tags": [],
        "colab": {
          "base_uri": "https://localhost:8080/"
        },
        "id": "changed-shore",
        "outputId": "59a6488c-6e98-4d3d-b5cc-7e28bdcd25a8"
      },
      "source": [
        "# Random Forest classification\n",
        "\n",
        "from sklearn.ensemble import RandomForestClassifier\n",
        "\n",
        "RandomForest_model = RandomForestClassifier(n_estimators=250,\n",
        "                                            max_depth=12,\n",
        "                                            min_samples_leaf=16)\n",
        "\n",
        "RandomForest_model.fit(X_train, y_train)\n",
        "\n",
        "print('Random Forest Model Accuracy : ', RandomForest_model.score(X_test, y_test)*100, '%')\n",
        "\n",
        "prediction = RandomForest_model.predict(X_test)\n",
        "print('\\nConfusion matrix :')\n",
        "print(confusion_matrix(y_test, prediction))\n",
        "      \n",
        "print('\\nClassification report:')      \n",
        "print(classification_report(y_test, prediction))"
      ],
      "id": "changed-shore",
      "execution_count": null,
      "outputs": [
        {
          "output_type": "stream",
          "name": "stdout",
          "text": [
            "Random Forest Model Accuracy :  78.84267631103074 %\n",
            "\n",
            "Confusion matrix :\n",
            "[[1744    0]\n",
            " [ 468    0]]\n",
            "\n",
            "Classification report:\n",
            "              precision    recall  f1-score   support\n",
            "\n",
            "           0       0.79      1.00      0.88      1744\n",
            "           1       0.00      0.00      0.00       468\n",
            "\n",
            "    accuracy                           0.79      2212\n",
            "   macro avg       0.39      0.50      0.44      2212\n",
            "weighted avg       0.62      0.79      0.70      2212\n",
            "\n"
          ]
        }
      ]
    },
    {
      "cell_type": "code",
      "metadata": {
        "execution": {
          "iopub.execute_input": "2021-06-05T10:45:07.499455Z",
          "iopub.status.busy": "2021-06-05T10:45:07.498509Z",
          "iopub.status.idle": "2021-06-05T10:45:10.781859Z",
          "shell.execute_reply": "2021-06-05T10:45:10.781198Z",
          "shell.execute_reply.started": "2021-06-05T10:38:59.083748Z"
        },
        "papermill": {
          "duration": 3.431711,
          "end_time": "2021-06-05T10:45:10.781997",
          "exception": false,
          "start_time": "2021-06-05T10:45:07.350286",
          "status": "completed"
        },
        "tags": [],
        "colab": {
          "base_uri": "https://localhost:8080/"
        },
        "id": "chronic-hepatitis",
        "outputId": "71cf0b41-ae46-48c5-9930-16d2c839f1b7"
      },
      "source": [
        "# Support Vector Machine classification\n",
        "\n",
        "from sklearn.svm import SVC\n",
        "\n",
        "svc_model = SVC()\n",
        "\n",
        "svc_model.fit(X_train, y_train)\n",
        "\n",
        "print('Support Vector Classifier Accuracy : ', svc_model.score(X_test, y_test)*100, '%')\n",
        "\n",
        "prediction = svc_model.predict(X_test)\n",
        "print('\\nConfusion matrix :')\n",
        "print(confusion_matrix(y_test, prediction))\n",
        "      \n",
        "print('\\nClassification report:')      \n",
        "print(classification_report(y_test, prediction))"
      ],
      "id": "chronic-hepatitis",
      "execution_count": null,
      "outputs": [
        {
          "output_type": "stream",
          "name": "stdout",
          "text": [
            "Support Vector Classifier Accuracy :  78.84267631103074 %\n",
            "\n",
            "Confusion matrix :\n",
            "[[1744    0]\n",
            " [ 468    0]]\n",
            "\n",
            "Classification report:\n",
            "              precision    recall  f1-score   support\n",
            "\n",
            "           0       0.79      1.00      0.88      1744\n",
            "           1       0.00      0.00      0.00       468\n",
            "\n",
            "    accuracy                           0.79      2212\n",
            "   macro avg       0.39      0.50      0.44      2212\n",
            "weighted avg       0.62      0.79      0.70      2212\n",
            "\n"
          ]
        }
      ]
    },
    {
      "cell_type": "code",
      "metadata": {
        "execution": {
          "iopub.execute_input": "2021-06-05T10:45:11.077284Z",
          "iopub.status.busy": "2021-06-05T10:45:11.076621Z",
          "iopub.status.idle": "2021-06-05T10:45:11.327544Z",
          "shell.execute_reply": "2021-06-05T10:45:11.326980Z",
          "shell.execute_reply.started": "2021-06-05T10:39:02.349433Z"
        },
        "papermill": {
          "duration": 0.403598,
          "end_time": "2021-06-05T10:45:11.327687",
          "exception": false,
          "start_time": "2021-06-05T10:45:10.924089",
          "status": "completed"
        },
        "tags": [],
        "colab": {
          "base_uri": "https://localhost:8080/"
        },
        "id": "weird-trustee",
        "outputId": "4f1f806c-4209-4941-ced4-0744e3146c70"
      },
      "source": [
        "# K Nearest Neighbor classification\n",
        "\n",
        "from sklearn.neighbors import KNeighborsClassifier\n",
        "\n",
        "knn_model = KNeighborsClassifier(n_neighbors = 7)\n",
        "\n",
        "knn_model.fit(X_train, y_train)\n",
        "\n",
        "print('KNN Model Accuracy : ', knn_model.score(X_test, y_test)*100, '%')\n",
        "\n",
        "prediction = knn_model.predict(X_test)\n",
        "print('\\nConfusion matrix :')\n",
        "print(confusion_matrix(y_test, prediction))\n",
        "      \n",
        "print('\\nClassification report:')      \n",
        "print(classification_report(y_test, prediction))"
      ],
      "id": "weird-trustee",
      "execution_count": null,
      "outputs": [
        {
          "output_type": "stream",
          "name": "stdout",
          "text": [
            "KNN Model Accuracy :  76.89873417721519 %\n",
            "\n",
            "Confusion matrix :\n",
            "[[1688   56]\n",
            " [ 455   13]]\n",
            "\n",
            "Classification report:\n",
            "              precision    recall  f1-score   support\n",
            "\n",
            "           0       0.79      0.97      0.87      1744\n",
            "           1       0.19      0.03      0.05       468\n",
            "\n",
            "    accuracy                           0.77      2212\n",
            "   macro avg       0.49      0.50      0.46      2212\n",
            "weighted avg       0.66      0.77      0.70      2212\n",
            "\n"
          ]
        }
      ]
    },
    {
      "cell_type": "code",
      "metadata": {
        "execution": {
          "iopub.execute_input": "2021-06-05T10:45:11.620675Z",
          "iopub.status.busy": "2021-06-05T10:45:11.619797Z",
          "iopub.status.idle": "2021-06-05T10:45:12.089753Z",
          "shell.execute_reply": "2021-06-05T10:45:12.090536Z",
          "shell.execute_reply.started": "2021-06-05T10:39:02.607915Z"
        },
        "papermill": {
          "duration": 0.620352,
          "end_time": "2021-06-05T10:45:12.090777",
          "exception": false,
          "start_time": "2021-06-05T10:45:11.470425",
          "status": "completed"
        },
        "tags": [],
        "colab": {
          "base_uri": "https://localhost:8080/"
        },
        "id": "permanent-occasions",
        "outputId": "00ef851f-7add-4d0d-a59a-805e4669fcb3"
      },
      "source": [
        "# XGBoost  classification\n",
        "\n",
        "from xgboost import XGBClassifier\n",
        "\n",
        "XGB_model = XGBClassifier()\n",
        "\n",
        "XGB_model.fit(X_train, y_train)\n",
        "\n",
        "print('XGBoost Model Accuracy : ', XGB_model.score(X_test, y_test)*100, '%')\n",
        "\n",
        "prediction = XGB_model.predict(X_test)\n",
        "print('\\nConfusion matrix :')\n",
        "print(confusion_matrix(y_test, prediction))\n",
        "      \n",
        "print('\\nClassification report:')      \n",
        "print(classification_report(y_test, prediction))"
      ],
      "id": "permanent-occasions",
      "execution_count": null,
      "outputs": [
        {
          "output_type": "stream",
          "name": "stdout",
          "text": [
            "XGBoost Model Accuracy :  78.70705244122965 %\n",
            "\n",
            "Confusion matrix :\n",
            "[[1741    3]\n",
            " [ 468    0]]\n",
            "\n",
            "Classification report:\n",
            "              precision    recall  f1-score   support\n",
            "\n",
            "           0       0.79      1.00      0.88      1744\n",
            "           1       0.00      0.00      0.00       468\n",
            "\n",
            "    accuracy                           0.79      2212\n",
            "   macro avg       0.39      0.50      0.44      2212\n",
            "weighted avg       0.62      0.79      0.69      2212\n",
            "\n"
          ]
        }
      ]
    },
    {
      "cell_type": "raw",
      "metadata": {
        "papermill": {
          "duration": 0.142682,
          "end_time": "2021-06-05T10:45:12.376414",
          "exception": false,
          "start_time": "2021-06-05T10:45:12.233732",
          "status": "completed"
        },
        "tags": [],
        "id": "interstate-portland"
      },
      "source": [
        "Logistic Model Accuracy            :  78.84 %\n",
        "DecisionTree Model Accuracy        :  73.64 %\n",
        "Random Forest Model Accuracy       :  78.84 %\n",
        "Support Vector Classifier Accuracy :  78.84 %\n",
        "KNN Model Accuracy                 :  76.80 %\n",
        "XGBoost Model Accuracy             :  75.72 %"
      ],
      "id": "interstate-portland"
    },
    {
      "cell_type": "markdown",
      "metadata": {
        "papermill": {
          "duration": 0.14262,
          "end_time": "2021-06-05T10:45:12.662116",
          "exception": false,
          "start_time": "2021-06-05T10:45:12.519496",
          "status": "completed"
        },
        "tags": [],
        "id": "transparent-hudson"
      },
      "source": [
        "# Balancing dataset"
      ],
      "id": "transparent-hudson"
    },
    {
      "cell_type": "code",
      "metadata": {
        "execution": {
          "iopub.execute_input": "2021-06-05T10:45:12.955902Z",
          "iopub.status.busy": "2021-06-05T10:45:12.954805Z",
          "iopub.status.idle": "2021-06-05T10:45:12.963249Z",
          "shell.execute_reply": "2021-06-05T10:45:12.963727Z",
          "shell.execute_reply.started": "2021-06-05T10:39:03.032533Z"
        },
        "papermill": {
          "duration": 0.160806,
          "end_time": "2021-06-05T10:45:12.963905",
          "exception": false,
          "start_time": "2021-06-05T10:45:12.803099",
          "status": "completed"
        },
        "tags": [],
        "id": "classical-calendar"
      },
      "source": [
        "# scaling all features\n",
        "from sklearn.preprocessing import MinMaxScaler\n",
        "MMS = MinMaxScaler()\n",
        "X_train_scaled = pd.DataFrame(MMS.fit_transform(X_train), columns=X_train.columns)\n",
        "X_test_scaled = pd.DataFrame(MMS.transform(X_test), columns=X_test.columns)"
      ],
      "id": "classical-calendar",
      "execution_count": null,
      "outputs": []
    },
    {
      "cell_type": "code",
      "metadata": {
        "execution": {
          "iopub.execute_input": "2021-06-05T10:45:13.252652Z",
          "iopub.status.busy": "2021-06-05T10:45:13.251809Z",
          "iopub.status.idle": "2021-06-05T10:45:13.595297Z",
          "shell.execute_reply": "2021-06-05T10:45:13.595796Z",
          "shell.execute_reply.started": "2021-06-05T10:39:03.050447Z"
        },
        "papermill": {
          "duration": 0.490994,
          "end_time": "2021-06-05T10:45:13.595979",
          "exception": false,
          "start_time": "2021-06-05T10:45:13.104985",
          "status": "completed"
        },
        "tags": [],
        "id": "related-duncan"
      },
      "source": [
        "# adding samples to minority class using SMOTE\n",
        "from imblearn.over_sampling import SMOTE\n",
        "oversample = SMOTE()\n",
        "\n",
        "X_train_oversam, y_train_oversam = oversample.fit_resample(X_train_scaled, y_train)\n",
        "X_test_oversam, y_test_oversam = oversample.fit_resample(X_test_scaled, y_test)"
      ],
      "id": "related-duncan",
      "execution_count": null,
      "outputs": []
    },
    {
      "cell_type": "code",
      "metadata": {
        "execution": {
          "iopub.execute_input": "2021-06-05T10:45:13.886978Z",
          "iopub.status.busy": "2021-06-05T10:45:13.886257Z",
          "iopub.status.idle": "2021-06-05T10:45:13.888815Z",
          "shell.execute_reply": "2021-06-05T10:45:13.889265Z",
          "shell.execute_reply.started": "2021-06-05T10:39:03.147583Z"
        },
        "papermill": {
          "duration": 0.151285,
          "end_time": "2021-06-05T10:45:13.889441",
          "exception": false,
          "start_time": "2021-06-05T10:45:13.738156",
          "status": "completed"
        },
        "tags": [],
        "colab": {
          "base_uri": "https://localhost:8080/"
        },
        "id": "european-measurement",
        "outputId": "a5520f86-d8a3-48a4-f166-b5bcdced62fa"
      },
      "source": [
        "# Original majority and minority class\n",
        "y_train.value_counts(normalize=True)*100"
      ],
      "id": "european-measurement",
      "execution_count": null,
      "outputs": [
        {
          "output_type": "execute_result",
          "data": {
            "text/plain": [
              "0    78.430929\n",
              "1    21.569071\n",
              "Name: STATUS, dtype: float64"
            ]
          },
          "metadata": {},
          "execution_count": 105
        }
      ]
    },
    {
      "cell_type": "code",
      "metadata": {
        "execution": {
          "iopub.execute_input": "2021-06-05T10:45:14.181597Z",
          "iopub.status.busy": "2021-06-05T10:45:14.180938Z",
          "iopub.status.idle": "2021-06-05T10:45:14.187802Z",
          "shell.execute_reply": "2021-06-05T10:45:14.188238Z",
          "shell.execute_reply.started": "2021-06-05T10:39:03.159605Z"
        },
        "papermill": {
          "duration": 0.153992,
          "end_time": "2021-06-05T10:45:14.188452",
          "exception": false,
          "start_time": "2021-06-05T10:45:14.034460",
          "status": "completed"
        },
        "tags": [],
        "colab": {
          "base_uri": "https://localhost:8080/"
        },
        "id": "ultimate-capture",
        "outputId": "e55dd716-59a5-4919-f55e-ffe1978f100a"
      },
      "source": [
        "# after using SMOTE \n",
        "y_train_oversam.value_counts(normalize=True)*100"
      ],
      "id": "ultimate-capture",
      "execution_count": null,
      "outputs": [
        {
          "output_type": "execute_result",
          "data": {
            "text/plain": [
              "1    50.0\n",
              "0    50.0\n",
              "Name: STATUS, dtype: float64"
            ]
          },
          "metadata": {},
          "execution_count": 106
        }
      ]
    },
    {
      "cell_type": "markdown",
      "metadata": {
        "papermill": {
          "duration": 0.143421,
          "end_time": "2021-06-05T10:45:14.474065",
          "exception": false,
          "start_time": "2021-06-05T10:45:14.330644",
          "status": "completed"
        },
        "tags": [],
        "id": "acknowledged-grace"
      },
      "source": [
        "## Machine Learning Model after Balancing"
      ],
      "id": "acknowledged-grace"
    },
    {
      "cell_type": "code",
      "metadata": {
        "execution": {
          "iopub.execute_input": "2021-06-05T10:45:14.765300Z",
          "iopub.status.busy": "2021-06-05T10:45:14.764681Z",
          "iopub.status.idle": "2021-06-05T10:45:14.912081Z",
          "shell.execute_reply": "2021-06-05T10:45:14.913100Z",
          "shell.execute_reply.started": "2021-06-05T10:39:03.169548Z"
        },
        "papermill": {
          "duration": 0.294218,
          "end_time": "2021-06-05T10:45:14.913416",
          "exception": false,
          "start_time": "2021-06-05T10:45:14.619198",
          "status": "completed"
        },
        "tags": [],
        "colab": {
          "base_uri": "https://localhost:8080/"
        },
        "id": "structured-blame",
        "outputId": "a0f44bd3-aef5-4f37-cecb-4bb15c88fb47"
      },
      "source": [
        "# Logistic Regression\n",
        "\n",
        "from sklearn.linear_model import LogisticRegression\n",
        "from sklearn.metrics import classification_report, accuracy_score, confusion_matrix\n",
        "\n",
        "log_model = LogisticRegression()\n",
        "log_model.fit(X_train_oversam, y_train_oversam)\n",
        "\n",
        "print('Logistic Model Accuracy : ', log_model.score(X_test_oversam, y_test_oversam)*100, '%')\n",
        "\n",
        "prediction = log_model.predict(X_test_oversam)\n",
        "print('\\nConfusion matrix :')\n",
        "print(confusion_matrix(y_test_oversam, prediction))\n",
        "      \n",
        "print('\\nClassification report:')      \n",
        "print(classification_report(y_test_oversam, prediction))"
      ],
      "id": "structured-blame",
      "execution_count": null,
      "outputs": [
        {
          "output_type": "stream",
          "name": "stdout",
          "text": [
            "Logistic Model Accuracy :  52.752293577981646 %\n",
            "\n",
            "Confusion matrix :\n",
            "[[936 808]\n",
            " [840 904]]\n",
            "\n",
            "Classification report:\n",
            "              precision    recall  f1-score   support\n",
            "\n",
            "           0       0.53      0.54      0.53      1744\n",
            "           1       0.53      0.52      0.52      1744\n",
            "\n",
            "    accuracy                           0.53      3488\n",
            "   macro avg       0.53      0.53      0.53      3488\n",
            "weighted avg       0.53      0.53      0.53      3488\n",
            "\n"
          ]
        }
      ]
    },
    {
      "cell_type": "code",
      "metadata": {
        "execution": {
          "iopub.execute_input": "2021-06-05T10:45:15.274930Z",
          "iopub.status.busy": "2021-06-05T10:45:15.274265Z",
          "iopub.status.idle": "2021-06-05T10:45:15.349777Z",
          "shell.execute_reply": "2021-06-05T10:45:15.350241Z",
          "shell.execute_reply.started": "2021-06-05T10:39:03.325308Z"
        },
        "papermill": {
          "duration": 0.227054,
          "end_time": "2021-06-05T10:45:15.350433",
          "exception": false,
          "start_time": "2021-06-05T10:45:15.123379",
          "status": "completed"
        },
        "tags": [],
        "colab": {
          "base_uri": "https://localhost:8080/"
        },
        "id": "stock-praise",
        "outputId": "bff846ea-0204-4d3b-f284-d5c49b318a5a"
      },
      "source": [
        "# Decision Tree classification\n",
        "\n",
        "from sklearn.tree import DecisionTreeClassifier\n",
        "\n",
        "decision_model = DecisionTreeClassifier(max_depth=12,min_samples_split=8)\n",
        "\n",
        "decision_model.fit(X_train_oversam, y_train_oversam)\n",
        "\n",
        "print('Decision Tree Model Accuracy : ', decision_model.score(X_test_oversam, y_test_oversam)*100, '%')\n",
        "\n",
        "prediction = decision_model.predict(X_test_oversam)\n",
        "print('\\nConfusion matrix :')\n",
        "print(confusion_matrix(y_test_oversam, prediction))\n",
        "      \n",
        "print('\\nClassification report:')      \n",
        "print(classification_report(y_test_oversam, prediction))"
      ],
      "id": "stock-praise",
      "execution_count": null,
      "outputs": [
        {
          "output_type": "stream",
          "name": "stdout",
          "text": [
            "Decision Tree Model Accuracy :  71.81766055045871 %\n",
            "\n",
            "Confusion matrix :\n",
            "[[1567  177]\n",
            " [ 806  938]]\n",
            "\n",
            "Classification report:\n",
            "              precision    recall  f1-score   support\n",
            "\n",
            "           0       0.66      0.90      0.76      1744\n",
            "           1       0.84      0.54      0.66      1744\n",
            "\n",
            "    accuracy                           0.72      3488\n",
            "   macro avg       0.75      0.72      0.71      3488\n",
            "weighted avg       0.75      0.72      0.71      3488\n",
            "\n"
          ]
        }
      ]
    },
    {
      "cell_type": "code",
      "metadata": {
        "execution": {
          "iopub.execute_input": "2021-06-05T10:45:15.649420Z",
          "iopub.status.busy": "2021-06-05T10:45:15.648769Z",
          "iopub.status.idle": "2021-06-05T10:45:18.644795Z",
          "shell.execute_reply": "2021-06-05T10:45:18.643970Z",
          "shell.execute_reply.started": "2021-06-05T10:39:03.439170Z"
        },
        "papermill": {
          "duration": 3.149782,
          "end_time": "2021-06-05T10:45:18.644997",
          "exception": false,
          "start_time": "2021-06-05T10:45:15.495215",
          "status": "completed"
        },
        "tags": [],
        "colab": {
          "base_uri": "https://localhost:8080/"
        },
        "id": "pleasant-aurora",
        "outputId": "38c22752-5f0a-4d78-af7f-f93658bc890a"
      },
      "source": [
        "# Random Forest classification\n",
        "\n",
        "from sklearn.ensemble import RandomForestClassifier\n",
        "\n",
        "RandomForest_model = RandomForestClassifier(n_estimators=250,\n",
        "                                            max_depth=12,\n",
        "                                            min_samples_leaf=16)\n",
        "\n",
        "RandomForest_model.fit(X_train_oversam, y_train_oversam)\n",
        "\n",
        "print('Random Forest Model Accuracy : ', RandomForest_model.score(X_test_oversam, y_test_oversam)*100, '%')\n",
        "\n",
        "prediction = RandomForest_model.predict(X_test_oversam)\n",
        "print('\\nConfusion matrix :')\n",
        "print(confusion_matrix(y_test_oversam, prediction))\n",
        "      \n",
        "print('\\nClassification report:')      \n",
        "print(classification_report(y_test_oversam, prediction))"
      ],
      "id": "pleasant-aurora",
      "execution_count": null,
      "outputs": [
        {
          "output_type": "stream",
          "name": "stdout",
          "text": [
            "Random Forest Model Accuracy :  76.08944954128441 %\n",
            "\n",
            "Confusion matrix :\n",
            "[[1430  314]\n",
            " [ 520 1224]]\n",
            "\n",
            "Classification report:\n",
            "              precision    recall  f1-score   support\n",
            "\n",
            "           0       0.73      0.82      0.77      1744\n",
            "           1       0.80      0.70      0.75      1744\n",
            "\n",
            "    accuracy                           0.76      3488\n",
            "   macro avg       0.76      0.76      0.76      3488\n",
            "weighted avg       0.76      0.76      0.76      3488\n",
            "\n"
          ]
        }
      ]
    },
    {
      "cell_type": "code",
      "metadata": {
        "execution": {
          "iopub.execute_input": "2021-06-05T10:45:18.948522Z",
          "iopub.status.busy": "2021-06-05T10:45:18.947533Z",
          "iopub.status.idle": "2021-06-05T10:45:36.657585Z",
          "shell.execute_reply": "2021-06-05T10:45:36.658279Z",
          "shell.execute_reply.started": "2021-06-05T10:39:06.456258Z"
        },
        "papermill": {
          "duration": 17.866118,
          "end_time": "2021-06-05T10:45:36.658527",
          "exception": false,
          "start_time": "2021-06-05T10:45:18.792409",
          "status": "completed"
        },
        "tags": [],
        "colab": {
          "base_uri": "https://localhost:8080/"
        },
        "id": "balanced-limitation",
        "outputId": "0ffd6f4c-0491-4766-ed52-a2c087806ef6"
      },
      "source": [
        "# Support Vector Machine classification\n",
        "\n",
        "from sklearn.svm import SVC\n",
        "\n",
        "svc_model = SVC()\n",
        "\n",
        "svc_model.fit(X_train_oversam, y_train_oversam)\n",
        "\n",
        "print('Support Vector Classifier Accuracy : ', svc_model.score(X_test_oversam, y_test_oversam)*100, '%')\n",
        "\n",
        "prediction = svc_model.predict(X_test_oversam)\n",
        "print('\\nConfusion matrix :')\n",
        "print(confusion_matrix(y_test_oversam, prediction))\n",
        "      \n",
        "print('\\nClassification report:')      \n",
        "print(classification_report(y_test_oversam, prediction))"
      ],
      "id": "balanced-limitation",
      "execution_count": null,
      "outputs": [
        {
          "output_type": "stream",
          "name": "stdout",
          "text": [
            "Support Vector Classifier Accuracy :  50.63073394495413 %\n",
            "\n",
            "Confusion matrix :\n",
            "[[811 933]\n",
            " [789 955]]\n",
            "\n",
            "Classification report:\n",
            "              precision    recall  f1-score   support\n",
            "\n",
            "           0       0.51      0.47      0.49      1744\n",
            "           1       0.51      0.55      0.53      1744\n",
            "\n",
            "    accuracy                           0.51      3488\n",
            "   macro avg       0.51      0.51      0.51      3488\n",
            "weighted avg       0.51      0.51      0.51      3488\n",
            "\n"
          ]
        }
      ]
    },
    {
      "cell_type": "code",
      "metadata": {
        "execution": {
          "iopub.execute_input": "2021-06-05T10:45:36.960069Z",
          "iopub.status.busy": "2021-06-05T10:45:36.958939Z",
          "iopub.status.idle": "2021-06-05T10:45:37.697735Z",
          "shell.execute_reply": "2021-06-05T10:45:37.698432Z",
          "shell.execute_reply.started": "2021-06-05T10:39:24.573561Z"
        },
        "papermill": {
          "duration": 0.893855,
          "end_time": "2021-06-05T10:45:37.698677",
          "exception": false,
          "start_time": "2021-06-05T10:45:36.804822",
          "status": "completed"
        },
        "tags": [],
        "colab": {
          "base_uri": "https://localhost:8080/"
        },
        "id": "color-briefs",
        "outputId": "3164a736-d6fa-46de-d3b4-e2e0906b1e0a"
      },
      "source": [
        "# K Nearest Neighbor classification\n",
        "\n",
        "from sklearn.neighbors import KNeighborsClassifier\n",
        "\n",
        "knn_model = KNeighborsClassifier(n_neighbors = 7)\n",
        "\n",
        "knn_model.fit(X_train_oversam, y_train_oversam)\n",
        "\n",
        "print('KNN Model Accuracy : ', knn_model.score(X_test_oversam, y_test_oversam)*100, '%')\n",
        "\n",
        "prediction = knn_model.predict(X_test_oversam)\n",
        "print('\\nConfusion matrix :')\n",
        "print(confusion_matrix(y_test_oversam, prediction))\n",
        "      \n",
        "print('\\nClassification report:')      \n",
        "print(classification_report(y_test_oversam, prediction))"
      ],
      "id": "color-briefs",
      "execution_count": null,
      "outputs": [
        {
          "output_type": "stream",
          "name": "stdout",
          "text": [
            "KNN Model Accuracy :  45.61353211009174 %\n",
            "\n",
            "Confusion matrix :\n",
            "[[ 865  879]\n",
            " [1018  726]]\n",
            "\n",
            "Classification report:\n",
            "              precision    recall  f1-score   support\n",
            "\n",
            "           0       0.46      0.50      0.48      1744\n",
            "           1       0.45      0.42      0.43      1744\n",
            "\n",
            "    accuracy                           0.46      3488\n",
            "   macro avg       0.46      0.46      0.46      3488\n",
            "weighted avg       0.46      0.46      0.46      3488\n",
            "\n"
          ]
        }
      ]
    },
    {
      "cell_type": "code",
      "metadata": {
        "execution": {
          "iopub.execute_input": "2021-06-05T10:45:37.997230Z",
          "iopub.status.busy": "2021-06-05T10:45:37.996562Z",
          "iopub.status.idle": "2021-06-05T10:45:38.708599Z",
          "shell.execute_reply": "2021-06-05T10:45:38.707986Z",
          "shell.execute_reply.started": "2021-06-05T10:39:25.309142Z"
        },
        "papermill": {
          "duration": 0.864002,
          "end_time": "2021-06-05T10:45:38.708770",
          "exception": false,
          "start_time": "2021-06-05T10:45:37.844768",
          "status": "completed"
        },
        "tags": [],
        "colab": {
          "base_uri": "https://localhost:8080/"
        },
        "id": "plastic-appendix",
        "outputId": "7f178bec-0256-46cf-e8fa-b513e17d461e"
      },
      "source": [
        "# XGBoost  classification\n",
        "\n",
        "from xgboost import XGBClassifier\n",
        "\n",
        "XGB_model = XGBClassifier()\n",
        "\n",
        "XGB_model.fit(X_train_oversam, y_train_oversam)\n",
        "\n",
        "print('XGBoost Model Accuracy : ', XGB_model.score(X_test_oversam, y_test_oversam)*100, '%')\n",
        "\n",
        "prediction = XGB_model.predict(X_test_oversam)\n",
        "print('\\nConfusion matrix :')\n",
        "print(confusion_matrix(y_test_oversam, prediction))\n",
        "      \n",
        "print('\\nClassification report:')      \n",
        "print(classification_report(y_test_oversam, prediction))"
      ],
      "id": "plastic-appendix",
      "execution_count": null,
      "outputs": [
        {
          "output_type": "stream",
          "name": "stdout",
          "text": [
            "XGBoost Model Accuracy :  81.39334862385321 %\n",
            "\n",
            "Confusion matrix :\n",
            "[[1611  133]\n",
            " [ 516 1228]]\n",
            "\n",
            "Classification report:\n",
            "              precision    recall  f1-score   support\n",
            "\n",
            "           0       0.76      0.92      0.83      1744\n",
            "           1       0.90      0.70      0.79      1744\n",
            "\n",
            "    accuracy                           0.81      3488\n",
            "   macro avg       0.83      0.81      0.81      3488\n",
            "weighted avg       0.83      0.81      0.81      3488\n",
            "\n"
          ]
        }
      ]
    },
    {
      "cell_type": "raw",
      "metadata": {
        "papermill": {
          "duration": 0.150767,
          "end_time": "2021-06-05T10:45:39.004900",
          "exception": false,
          "start_time": "2021-06-05T10:45:38.854133",
          "status": "completed"
        },
        "tags": [],
        "id": "biological-adrian"
      },
      "source": [
        "Logistic Model Accuracy            : 50.60  %\n",
        "DecisionTree Model Accuracy        : 69.55  %\n",
        "Random Forest Model Accuracy       : 76.00  %\n",
        "Support Vector Classifier Accuracy : 49.79  %\n",
        "KNN Model Accuracy                 : 45.98  %\n",
        "XGBoost Model Accuracy             : 84.14  %"
      ],
      "id": "biological-adrian"
    },
    {
      "cell_type": "markdown",
      "metadata": {
        "papermill": {
          "duration": 0.145287,
          "end_time": "2021-06-05T10:45:39.297256",
          "exception": false,
          "start_time": "2021-06-05T10:45:39.151969",
          "status": "completed"
        },
        "tags": [],
        "id": "hollywood-disability"
      },
      "source": [
        "# Validation"
      ],
      "id": "hollywood-disability"
    },
    {
      "cell_type": "markdown",
      "metadata": {
        "papermill": {
          "duration": 0.145286,
          "end_time": "2021-06-05T10:45:39.588426",
          "exception": false,
          "start_time": "2021-06-05T10:45:39.443140",
          "status": "completed"
        },
        "tags": [],
        "id": "charitable-navigation"
      },
      "source": [
        "### K-Fold Cross Validation"
      ],
      "id": "charitable-navigation"
    },
    {
      "cell_type": "code",
      "metadata": {
        "execution": {
          "iopub.execute_input": "2021-06-05T10:45:39.886182Z",
          "iopub.status.busy": "2021-06-05T10:45:39.885509Z",
          "iopub.status.idle": "2021-06-05T10:45:39.888271Z",
          "shell.execute_reply": "2021-06-05T10:45:39.887777Z",
          "shell.execute_reply.started": "2021-06-05T10:39:26.035579Z"
        },
        "papermill": {
          "duration": 0.152997,
          "end_time": "2021-06-05T10:45:39.888427",
          "exception": false,
          "start_time": "2021-06-05T10:45:39.735430",
          "status": "completed"
        },
        "tags": [],
        "id": "distinct-recorder"
      },
      "source": [
        "from sklearn.model_selection import KFold\n",
        "from sklearn.model_selection import cross_val_score\n",
        "kfold = KFold(5)"
      ],
      "id": "distinct-recorder",
      "execution_count": null,
      "outputs": []
    },
    {
      "cell_type": "code",
      "metadata": {
        "execution": {
          "iopub.execute_input": "2021-06-05T10:45:40.188427Z",
          "iopub.status.busy": "2021-06-05T10:45:40.187741Z",
          "iopub.status.idle": "2021-06-05T10:45:40.549093Z",
          "shell.execute_reply": "2021-06-05T10:45:40.550118Z",
          "shell.execute_reply.started": "2021-06-05T10:39:26.040501Z"
        },
        "papermill": {
          "duration": 0.514707,
          "end_time": "2021-06-05T10:45:40.550407",
          "exception": false,
          "start_time": "2021-06-05T10:45:40.035700",
          "status": "completed"
        },
        "tags": [],
        "colab": {
          "base_uri": "https://localhost:8080/"
        },
        "id": "threaded-affiliation",
        "outputId": "3ae8b085-7cde-4e45-a78d-d1901377d193"
      },
      "source": [
        "# Logistic Regression\n",
        "\n",
        "results=cross_val_score(log_model,features,label,cv=kfold)\n",
        "print(results*100,'\\n')\n",
        "\n",
        "print(np.mean(results)*100)"
      ],
      "id": "threaded-affiliation",
      "execution_count": null,
      "outputs": [
        {
          "output_type": "stream",
          "name": "stdout",
          "text": [
            "[80.24412297 81.05786618 78.70705244 80.68747173 71.86793306] \n",
            "\n",
            "78.51288927710615\n"
          ]
        }
      ]
    },
    {
      "cell_type": "code",
      "metadata": {
        "execution": {
          "iopub.execute_input": "2021-06-05T10:45:40.899188Z",
          "iopub.status.busy": "2021-06-05T10:45:40.898130Z",
          "iopub.status.idle": "2021-06-05T10:45:41.041782Z",
          "shell.execute_reply": "2021-06-05T10:45:41.042337Z",
          "shell.execute_reply.started": "2021-06-05T10:39:26.412682Z"
        },
        "papermill": {
          "duration": 0.295283,
          "end_time": "2021-06-05T10:45:41.042506",
          "exception": false,
          "start_time": "2021-06-05T10:45:40.747223",
          "status": "completed"
        },
        "tags": [],
        "colab": {
          "base_uri": "https://localhost:8080/"
        },
        "id": "romantic-witness",
        "outputId": "843a7955-bbc2-423d-ebe9-dba90511e2fd"
      },
      "source": [
        "# Decision Tree classification\n",
        "\n",
        "results=cross_val_score(decision_model,features,label,cv=kfold)\n",
        "print(results*100,'\\n')\n",
        "\n",
        "print(np.mean(results)*100)"
      ],
      "id": "romantic-witness",
      "execution_count": null,
      "outputs": [
        {
          "output_type": "stream",
          "name": "stdout",
          "text": [
            "[78.30018083 79.56600362 75.90415913 78.65219358 70.46585256] \n",
            "\n",
            "76.57767794268834\n"
          ]
        }
      ]
    },
    {
      "cell_type": "code",
      "metadata": {
        "execution": {
          "iopub.execute_input": "2021-06-05T10:45:41.341453Z",
          "iopub.status.busy": "2021-06-05T10:45:41.340797Z",
          "iopub.status.idle": "2021-06-05T10:45:49.153026Z",
          "shell.execute_reply": "2021-06-05T10:45:49.153493Z",
          "shell.execute_reply.started": "2021-06-05T10:39:26.600762Z"
        },
        "papermill": {
          "duration": 7.96426,
          "end_time": "2021-06-05T10:45:49.153678",
          "exception": false,
          "start_time": "2021-06-05T10:45:41.189418",
          "status": "completed"
        },
        "tags": [],
        "colab": {
          "base_uri": "https://localhost:8080/"
        },
        "id": "cleared-genetics",
        "outputId": "adc62d26-4468-4e60-8dc3-c97ea85988ef"
      },
      "source": [
        "# Random Forest classification\n",
        "\n",
        "results=cross_val_score(RandomForest_model,features,label,cv=kfold)\n",
        "print(results*100,'\\n')\n",
        "\n",
        "print(np.mean(results)*100)"
      ],
      "id": "cleared-genetics",
      "execution_count": null,
      "outputs": [
        {
          "output_type": "stream",
          "name": "stdout",
          "text": [
            "[80.24412297 81.05786618 78.70705244 80.68747173 71.86793306] \n",
            "\n",
            "78.51288927710615\n"
          ]
        }
      ]
    },
    {
      "cell_type": "code",
      "metadata": {
        "execution": {
          "iopub.execute_input": "2021-06-05T10:45:49.451958Z",
          "iopub.status.busy": "2021-06-05T10:45:49.450993Z",
          "iopub.status.idle": "2021-06-05T10:46:02.230698Z",
          "shell.execute_reply": "2021-06-05T10:46:02.229977Z",
          "shell.execute_reply.started": "2021-06-05T10:39:34.345985Z"
        },
        "papermill": {
          "duration": 12.928808,
          "end_time": "2021-06-05T10:46:02.230905",
          "exception": false,
          "start_time": "2021-06-05T10:45:49.302097",
          "status": "completed"
        },
        "tags": [],
        "colab": {
          "base_uri": "https://localhost:8080/"
        },
        "id": "covered-talent",
        "outputId": "48c6c7bf-839a-4ce4-e3c5-5e4a0341fc74"
      },
      "source": [
        "# Support Vector Machine classification\n",
        "\n",
        "results=cross_val_score(svc_model,features,label,cv=kfold)\n",
        "print(results*100,'\\n')\n",
        "\n",
        "print(np.mean(results)*100)"
      ],
      "id": "covered-talent",
      "execution_count": null,
      "outputs": [
        {
          "output_type": "stream",
          "name": "stdout",
          "text": [
            "[80.24412297 81.05786618 78.70705244 80.68747173 71.86793306] \n",
            "\n",
            "78.51288927710615\n"
          ]
        }
      ]
    },
    {
      "cell_type": "code",
      "metadata": {
        "execution": {
          "iopub.execute_input": "2021-06-05T10:46:02.530188Z",
          "iopub.status.busy": "2021-06-05T10:46:02.529214Z",
          "iopub.status.idle": "2021-06-05T10:46:03.154833Z",
          "shell.execute_reply": "2021-06-05T10:46:03.154348Z",
          "shell.execute_reply.started": "2021-06-05T10:39:47.306395Z"
        },
        "papermill": {
          "duration": 0.776901,
          "end_time": "2021-06-05T10:46:03.154974",
          "exception": false,
          "start_time": "2021-06-05T10:46:02.378073",
          "status": "completed"
        },
        "tags": [],
        "colab": {
          "base_uri": "https://localhost:8080/"
        },
        "id": "attractive-first",
        "outputId": "294723f3-6cb3-47b9-96b0-b49b43ff5e5c"
      },
      "source": [
        "# K Nearest Neighbor classification\n",
        "\n",
        "results=cross_val_score(knn_model,features,label,cv=kfold)\n",
        "print(results*100,'\\n')\n",
        "\n",
        "print(np.mean(results)*100)"
      ],
      "id": "attractive-first",
      "execution_count": null,
      "outputs": [
        {
          "output_type": "stream",
          "name": "stdout",
          "text": [
            "[79.02350814 80.01808318 78.02893309 79.24016282 71.37042062] \n",
            "\n",
            "77.53622157174019\n"
          ]
        }
      ]
    },
    {
      "cell_type": "code",
      "metadata": {
        "execution": {
          "iopub.execute_input": "2021-06-05T10:46:03.449503Z",
          "iopub.status.busy": "2021-06-05T10:46:03.448566Z",
          "iopub.status.idle": "2021-06-05T10:46:05.226570Z",
          "shell.execute_reply": "2021-06-05T10:46:05.227110Z",
          "shell.execute_reply.started": "2021-06-05T10:39:47.960415Z"
        },
        "papermill": {
          "duration": 1.929089,
          "end_time": "2021-06-05T10:46:05.227296",
          "exception": false,
          "start_time": "2021-06-05T10:46:03.298207",
          "status": "completed"
        },
        "tags": [],
        "colab": {
          "base_uri": "https://localhost:8080/"
        },
        "id": "heard-instrument",
        "outputId": "59d239d7-aee4-4258-88d8-2ab7e745baef"
      },
      "source": [
        "# XGBoost classification\n",
        "\n",
        "results=cross_val_score(XGB_model,features,label,cv=kfold)\n",
        "print(results*100,'\\n')\n",
        "\n",
        "print(np.mean(results)*100)"
      ],
      "id": "heard-instrument",
      "execution_count": null,
      "outputs": [
        {
          "output_type": "stream",
          "name": "stdout",
          "text": [
            "[80.24412297 81.05786618 78.70705244 80.68747173 71.86793306] \n",
            "\n",
            "78.51288927710615\n"
          ]
        }
      ]
    }
  ]
}